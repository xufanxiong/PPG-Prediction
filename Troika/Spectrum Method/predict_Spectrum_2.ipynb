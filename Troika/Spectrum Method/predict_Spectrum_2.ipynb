{
 "cells": [
  {
   "cell_type": "code",
   "execution_count": 1,
   "metadata": {},
   "outputs": [
    {
     "name": "stderr",
     "output_type": "stream",
     "text": [
      "/Users/xufanxiong/anaconda3/lib/python3.6/site-packages/h5py/__init__.py:36: FutureWarning: Conversion of the second argument of issubdtype from `float` to `np.floating` is deprecated. In future, it will be treated as `np.float64 == np.dtype(float).type`.\n",
      "  from ._conv import register_converters as _register_converters\n",
      "Using TensorFlow backend.\n"
     ]
    }
   ],
   "source": [
    "import numpy as np\n",
    "import matplotlib.pyplot as plt\n",
    "import scipy.io as sio\n",
    "from keras.callbacks import ModelCheckpoint\n",
    "from keras.layers.convolutional import Conv1D, MaxPooling1D\n",
    "from keras.layers import AveragePooling1D, Activation, Flatten, Dense\n",
    "from keras.layers import GlobalMaxPooling1D, Dropout\n",
    "from keras.layers import GlobalAveragePooling1D, UpSampling1D\n",
    "from keras.models import Model\n",
    "from keras.regularizers import l2\n",
    "from keras.optimizers import SGD, Adam, Nadam, Adamax\n",
    "from keras.layers.normalization import BatchNormalization\n",
    "import keras.backend as K\n",
    "from data_in_2s import data_in, normali\n",
    "from ori_model import ori_model\n",
    "from keras import metrics\n",
    "#from tqdm import tqdm\n",
    "#from sklearn.model_selection import train_test_split"
   ]
  },
  {
   "cell_type": "code",
   "execution_count": 2,
   "metadata": {},
   "outputs": [],
   "source": [
    "num_test = 2\n",
    "X_train, y_train = data_in(num_test)"
   ]
  },
  {
   "cell_type": "code",
   "execution_count": 3,
   "metadata": {},
   "outputs": [
    {
     "name": "stdout",
     "output_type": "stream",
     "text": [
      "Shape of X_train is: (6099, 1000, 5)\n",
      "Shape of y_train is: (6099, 1)\n"
     ]
    }
   ],
   "source": [
    "#Nomalization\n",
    "#y_train = (y_train-50)/150\n",
    "X_train = normali(X_train)\n",
    "print('Shape of X_train is: ' + str(X_train.shape))\n",
    "print('Shape of y_train is: ' + str(y_train.shape))"
   ]
  },
  {
   "cell_type": "code",
   "execution_count": 4,
   "metadata": {},
   "outputs": [
    {
     "name": "stdout",
     "output_type": "stream",
     "text": [
      "The shape of X_test is: (295, 1000, 5)\n",
      "The shape of y_test is: (295, 1)\n"
     ]
    }
   ],
   "source": [
    "#Import and Split test data\n",
    "\n",
    "name_x = 'Training_data/DATA_%.2d_TYPE02.mat'%num_test\n",
    "in_tem_x = sio.loadmat(name_x)['sig']\n",
    "in_tem_x = in_tem_x.T\n",
    "\n",
    "name_y = 'Training_data/DATA_%.2d_TYPE02_BPMtrace.mat'%num_test\n",
    "in_tem_y = sio.loadmat(name_y)['BPM0']\n",
    "\n",
    "X_test_tem = np.zeros((in_tem_y.shape[0]*2, 125*8, 5))\n",
    "\n",
    "k = 0\n",
    "\n",
    "for j in range(in_tem_y.shape[0]*2-1):\n",
    "\tX_test_tem[j, :, :] =  in_tem_x[k:(k+125*8), 1:]\n",
    "\tk += 125\n",
    "\n",
    "tem_y = np.zeros((in_tem_y.shape[0]*2, 1))\n",
    "index = [a*2 for a in range(in_tem_y.shape[0])]\n",
    "tem_y[index] = in_tem_y\n",
    "\n",
    "for b in range(tem_y.shape[0]-1):\n",
    "\tif tem_y[b] == 0:\n",
    "\t\ttem_y[b] = (tem_y[b-1] + tem_y[b+1])/2.\n",
    "\n",
    "y_test = tem_y[:-1, :]\n",
    "X_test = X_test_tem[:-1, :, :]\n",
    "\n",
    "#y_test = (y_test-50)/150\n",
    "X_test = normali(X_test)\n",
    "\n",
    "print('The shape of X_test is: ' + str(X_test.shape))\n",
    "print('The shape of y_test is: ' + str(y_test.shape))"
   ]
  },
  {
   "cell_type": "code",
   "execution_count": 5,
   "metadata": {},
   "outputs": [
    {
     "name": "stdout",
     "output_type": "stream",
     "text": [
      "The shape of y_train_onehot is: (6099, 110)\n",
      "The shape of y_test_onehot is: (295, 110)\n"
     ]
    }
   ],
   "source": [
    "#Convert to spectrum\n",
    "#68 - 178\n",
    "\n",
    "spe_len = 110\n",
    "y_train = np.rint(y_train)\n",
    "y_test = np.rint(y_test)\n",
    "\n",
    "y_train_onehot = np.zeros((y_train.shape[0], spe_len))\n",
    "y_test_onehot = np.zeros((y_test.shape[0], spe_len))\n",
    "\n",
    "y_train = y_train - 68\n",
    "y_test = y_test - 68\n",
    "\n",
    "for i in range(y_train.shape[0]):\n",
    "    y_train_onehot[i, int(y_train[i][0])] = 1\n",
    "    \n",
    "for i in range(y_test.shape[0]):\n",
    "    y_test_onehot[i, int(y_test[i][0])] = 1\n",
    "    \n",
    "print('The shape of y_train_onehot is: ' + str(y_train_onehot.shape))\n",
    "print('The shape of y_test_onehot is: ' + str(y_test_onehot.shape))\n"
   ]
  },
  {
   "cell_type": "code",
   "execution_count": 6,
   "metadata": {},
   "outputs": [
    {
     "name": "stderr",
     "output_type": "stream",
     "text": [
      "/Users/xufanxiong/Desktop/untitled folder 2/ori_model.py:93: UserWarning: Update your `Model` call to the Keras 2 API: `Model(inputs=Tensor(\"in..., outputs=Tensor(\"de...)`\n",
      "  model = Model(input=inputs, output=output)\n"
     ]
    }
   ],
   "source": [
    "model = ori_model((1000, 5), 8, pool_size=4)"
   ]
  },
  {
   "cell_type": "code",
   "execution_count": 7,
   "metadata": {},
   "outputs": [],
   "source": [
    "optm = Adam(lr=0.001, beta_1=0.9, beta_2=0.999, epsilon=3*10**(-4))\n",
    "def top_3_accuracy(y_true, y_pred):\n",
    "    return metrics.top_k_categorical_accuracy(y_true, y_pred, k=3)\n",
    "def top_5_accuracy(y_true, y_pred):\n",
    "    return metrics.top_k_categorical_accuracy(y_true, y_pred, k=5)\n",
    "model.compile(loss= \"categorical_crossentropy\", \n",
    "              optimizer=optm, \n",
    "              metrics=[\"accuracy\", top_5_accuracy])"
   ]
  },
  {
   "cell_type": "code",
   "execution_count": 8,
   "metadata": {
    "scrolled": true
   },
   "outputs": [
    {
     "name": "stdout",
     "output_type": "stream",
     "text": [
      "Train on 4269 samples, validate on 1830 samples\n",
      "Epoch 1/50\n",
      "4269/4269 [==============================] - 6s 1ms/step - loss: 4.7243 - acc: 0.0225 - top_5_accuracy: 0.0921 - val_loss: 4.8222 - val_acc: 0.0098 - val_top_5_accuracy: 0.0470\n",
      "\n",
      "Epoch 00001: val_top_5_accuracy improved from -inf to 0.04699, saving model to weight_spe.hdf5\n",
      "Epoch 2/50\n",
      "4269/4269 [==============================] - 5s 1ms/step - loss: 4.4925 - acc: 0.0363 - top_5_accuracy: 0.1438 - val_loss: 4.8865 - val_acc: 0.0077 - val_top_5_accuracy: 0.0393\n",
      "\n",
      "Epoch 00002: val_top_5_accuracy did not improve from 0.04699\n",
      "Epoch 3/50\n",
      "4269/4269 [==============================] - 5s 1ms/step - loss: 4.3531 - acc: 0.0478 - top_5_accuracy: 0.1787 - val_loss: 4.9971 - val_acc: 0.0131 - val_top_5_accuracy: 0.0459\n",
      "\n",
      "Epoch 00003: val_top_5_accuracy did not improve from 0.04699\n",
      "Epoch 4/50\n",
      "4269/4269 [==============================] - 5s 1ms/step - loss: 4.2183 - acc: 0.0506 - top_5_accuracy: 0.2036 - val_loss: 5.3014 - val_acc: 0.0027 - val_top_5_accuracy: 0.0372\n",
      "\n",
      "Epoch 00004: val_top_5_accuracy did not improve from 0.04699\n",
      "Epoch 5/50\n",
      "4269/4269 [==============================] - 5s 1ms/step - loss: 4.1140 - acc: 0.0630 - top_5_accuracy: 0.2228 - val_loss: 5.4261 - val_acc: 0.0027 - val_top_5_accuracy: 0.0262\n",
      "\n",
      "Epoch 00005: val_top_5_accuracy did not improve from 0.04699\n",
      "Epoch 6/50\n",
      "4269/4269 [==============================] - 5s 1ms/step - loss: 3.9796 - acc: 0.0724 - top_5_accuracy: 0.2574 - val_loss: 5.8173 - val_acc: 0.0049 - val_top_5_accuracy: 0.0339\n",
      "\n",
      "Epoch 00006: val_top_5_accuracy did not improve from 0.04699\n",
      "Epoch 7/50\n",
      "4269/4269 [==============================] - 5s 1ms/step - loss: 3.8296 - acc: 0.0928 - top_5_accuracy: 0.3076 - val_loss: 5.7459 - val_acc: 0.0087 - val_top_5_accuracy: 0.0437\n",
      "\n",
      "Epoch 00007: val_top_5_accuracy did not improve from 0.04699\n",
      "Epoch 8/50\n",
      "4269/4269 [==============================] - 5s 1ms/step - loss: 3.6769 - acc: 0.1038 - top_5_accuracy: 0.3247 - val_loss: 6.1804 - val_acc: 0.0049 - val_top_5_accuracy: 0.0235\n",
      "\n",
      "Epoch 00008: val_top_5_accuracy did not improve from 0.04699\n",
      "Epoch 9/50\n",
      "4269/4269 [==============================] - 5s 1ms/step - loss: 3.5362 - acc: 0.1162 - top_5_accuracy: 0.3736 - val_loss: 6.4113 - val_acc: 0.0071 - val_top_5_accuracy: 0.0383\n",
      "\n",
      "Epoch 00009: val_top_5_accuracy did not improve from 0.04699\n",
      "Epoch 10/50\n",
      "4269/4269 [==============================] - 5s 1ms/step - loss: 3.4270 - acc: 0.1312 - top_5_accuracy: 0.4041 - val_loss: 6.7920 - val_acc: 0.0098 - val_top_5_accuracy: 0.0355\n",
      "\n",
      "Epoch 00010: val_top_5_accuracy did not improve from 0.04699\n",
      "Epoch 11/50\n",
      "4269/4269 [==============================] - 5s 1ms/step - loss: 3.2698 - acc: 0.1497 - top_5_accuracy: 0.4394 - val_loss: 6.5897 - val_acc: 0.0060 - val_top_5_accuracy: 0.0383\n",
      "\n",
      "Epoch 00011: val_top_5_accuracy did not improve from 0.04699\n",
      "Epoch 12/50\n",
      "4269/4269 [==============================] - 5s 1ms/step - loss: 3.1603 - acc: 0.1628 - top_5_accuracy: 0.4751 - val_loss: 6.6837 - val_acc: 0.0104 - val_top_5_accuracy: 0.0530\n",
      "\n",
      "Epoch 00012: val_top_5_accuracy improved from 0.04699 to 0.05301, saving model to weight_spe.hdf5\n",
      "Epoch 13/50\n",
      "4269/4269 [==============================] - 5s 1ms/step - loss: 3.0663 - acc: 0.1731 - top_5_accuracy: 0.5128 - val_loss: 7.1040 - val_acc: 0.0120 - val_top_5_accuracy: 0.0464\n",
      "\n",
      "Epoch 00013: val_top_5_accuracy did not improve from 0.05301\n",
      "Epoch 14/50\n",
      "4269/4269 [==============================] - 5s 1ms/step - loss: 2.9593 - acc: 0.1888 - top_5_accuracy: 0.5383 - val_loss: 7.0868 - val_acc: 0.0098 - val_top_5_accuracy: 0.0557\n",
      "\n",
      "Epoch 00014: val_top_5_accuracy improved from 0.05301 to 0.05574, saving model to weight_spe.hdf5\n",
      "Epoch 15/50\n",
      "4269/4269 [==============================] - 5s 1ms/step - loss: 2.8489 - acc: 0.2097 - top_5_accuracy: 0.5706 - val_loss: 6.9935 - val_acc: 0.0202 - val_top_5_accuracy: 0.0836\n",
      "\n",
      "Epoch 00015: val_top_5_accuracy improved from 0.05574 to 0.08361, saving model to weight_spe.hdf5\n",
      "Epoch 16/50\n",
      "4269/4269 [==============================] - 5s 1ms/step - loss: 2.7922 - acc: 0.2106 - top_5_accuracy: 0.5978 - val_loss: 6.6332 - val_acc: 0.0202 - val_top_5_accuracy: 0.0721\n",
      "\n",
      "Epoch 00016: val_top_5_accuracy did not improve from 0.08361\n",
      "Epoch 17/50\n",
      "4269/4269 [==============================] - 5s 1ms/step - loss: 2.7003 - acc: 0.2319 - top_5_accuracy: 0.6158 - val_loss: 7.1628 - val_acc: 0.0208 - val_top_5_accuracy: 0.0765\n",
      "\n",
      "Epoch 00017: val_top_5_accuracy did not improve from 0.08361\n",
      "Epoch 18/50\n",
      "4269/4269 [==============================] - 5s 1ms/step - loss: 2.6091 - acc: 0.2471 - top_5_accuracy: 0.6435 - val_loss: 6.8892 - val_acc: 0.0213 - val_top_5_accuracy: 0.0836\n",
      "\n",
      "Epoch 00018: val_top_5_accuracy did not improve from 0.08361\n",
      "Epoch 19/50\n",
      "4269/4269 [==============================] - 5s 1ms/step - loss: 2.5526 - acc: 0.2516 - top_5_accuracy: 0.6667 - val_loss: 7.7425 - val_acc: 0.0235 - val_top_5_accuracy: 0.0634\n",
      "\n",
      "Epoch 00019: val_top_5_accuracy did not improve from 0.08361\n",
      "Epoch 20/50\n",
      "4269/4269 [==============================] - 5s 1ms/step - loss: 2.4517 - acc: 0.2783 - top_5_accuracy: 0.6819 - val_loss: 7.2311 - val_acc: 0.0202 - val_top_5_accuracy: 0.0672\n",
      "\n",
      "Epoch 00020: val_top_5_accuracy did not improve from 0.08361\n",
      "Epoch 21/50\n",
      "4269/4269 [==============================] - 5s 1ms/step - loss: 2.3986 - acc: 0.2862 - top_5_accuracy: 0.7051 - val_loss: 6.7199 - val_acc: 0.0186 - val_top_5_accuracy: 0.0973\n",
      "\n",
      "Epoch 00021: val_top_5_accuracy improved from 0.08361 to 0.09727, saving model to weight_spe.hdf5\n",
      "Epoch 22/50\n",
      "4269/4269 [==============================] - 5s 1ms/step - loss: 2.3357 - acc: 0.3048 - top_5_accuracy: 0.7271 - val_loss: 7.6183 - val_acc: 0.0208 - val_top_5_accuracy: 0.0781\n",
      "\n",
      "Epoch 00022: val_top_5_accuracy did not improve from 0.09727\n",
      "Epoch 23/50\n",
      "4269/4269 [==============================] - 5s 1ms/step - loss: 2.3260 - acc: 0.3097 - top_5_accuracy: 0.7320 - val_loss: 7.9454 - val_acc: 0.0230 - val_top_5_accuracy: 0.0683\n",
      "\n",
      "Epoch 00023: val_top_5_accuracy did not improve from 0.09727\n",
      "Epoch 24/50\n",
      "4269/4269 [==============================] - 5s 1ms/step - loss: 2.2560 - acc: 0.3139 - top_5_accuracy: 0.7465 - val_loss: 7.6192 - val_acc: 0.0230 - val_top_5_accuracy: 0.0934\n",
      "\n",
      "Epoch 00024: val_top_5_accuracy did not improve from 0.09727\n",
      "Epoch 25/50\n",
      "4269/4269 [==============================] - 5s 1ms/step - loss: 2.2054 - acc: 0.3261 - top_5_accuracy: 0.7629 - val_loss: 7.3628 - val_acc: 0.0180 - val_top_5_accuracy: 0.0962\n",
      "\n",
      "Epoch 00025: val_top_5_accuracy did not improve from 0.09727\n",
      "Epoch 26/50\n",
      "4269/4269 [==============================] - 5s 1ms/step - loss: 2.1581 - acc: 0.3373 - top_5_accuracy: 0.7723 - val_loss: 7.8778 - val_acc: 0.0208 - val_top_5_accuracy: 0.0831\n",
      "\n",
      "Epoch 00026: val_top_5_accuracy did not improve from 0.09727\n",
      "Epoch 27/50\n",
      "4269/4269 [==============================] - 6s 1ms/step - loss: 2.0986 - acc: 0.3586 - top_5_accuracy: 0.7941 - val_loss: 7.5071 - val_acc: 0.0235 - val_top_5_accuracy: 0.0874\n",
      "\n",
      "Epoch 00027: val_top_5_accuracy did not improve from 0.09727\n",
      "Epoch 28/50\n",
      "4269/4269 [==============================] - 5s 1ms/step - loss: 2.0586 - acc: 0.3579 - top_5_accuracy: 0.8023 - val_loss: 7.4222 - val_acc: 0.0208 - val_top_5_accuracy: 0.0989\n",
      "\n",
      "Epoch 00028: val_top_5_accuracy improved from 0.09727 to 0.09891, saving model to weight_spe.hdf5\n",
      "Epoch 29/50\n",
      "4269/4269 [==============================] - 6s 1ms/step - loss: 2.0230 - acc: 0.3722 - top_5_accuracy: 0.8067 - val_loss: 8.2829 - val_acc: 0.0213 - val_top_5_accuracy: 0.0842\n",
      "\n",
      "Epoch 00029: val_top_5_accuracy did not improve from 0.09891\n",
      "Epoch 30/50\n",
      "4269/4269 [==============================] - 5s 1ms/step - loss: 1.9826 - acc: 0.3893 - top_5_accuracy: 0.8278 - val_loss: 7.8578 - val_acc: 0.0224 - val_top_5_accuracy: 0.0869\n",
      "\n",
      "Epoch 00030: val_top_5_accuracy did not improve from 0.09891\n",
      "Epoch 31/50\n",
      "4269/4269 [==============================] - 5s 1ms/step - loss: 1.9367 - acc: 0.3945 - top_5_accuracy: 0.8325 - val_loss: 8.1328 - val_acc: 0.0230 - val_top_5_accuracy: 0.0989\n",
      "\n",
      "Epoch 00031: val_top_5_accuracy did not improve from 0.09891\n",
      "Epoch 32/50\n",
      "4269/4269 [==============================] - 5s 1ms/step - loss: 1.9339 - acc: 0.3935 - top_5_accuracy: 0.8330 - val_loss: 7.9126 - val_acc: 0.0240 - val_top_5_accuracy: 0.1044\n"
     ]
    },
    {
     "name": "stdout",
     "output_type": "stream",
     "text": [
      "\n",
      "Epoch 00032: val_top_5_accuracy improved from 0.09891 to 0.10437, saving model to weight_spe.hdf5\n",
      "Epoch 33/50\n",
      "4269/4269 [==============================] - 5s 1ms/step - loss: 1.8644 - acc: 0.4106 - top_5_accuracy: 0.8550 - val_loss: 7.5559 - val_acc: 0.0251 - val_top_5_accuracy: 0.1098\n",
      "\n",
      "Epoch 00033: val_top_5_accuracy improved from 0.10437 to 0.10984, saving model to weight_spe.hdf5\n",
      "Epoch 34/50\n",
      "4269/4269 [==============================] - 5s 1ms/step - loss: 1.8455 - acc: 0.4113 - top_5_accuracy: 0.8578 - val_loss: 7.1401 - val_acc: 0.0333 - val_top_5_accuracy: 0.1404\n",
      "\n",
      "Epoch 00034: val_top_5_accuracy improved from 0.10984 to 0.14044, saving model to weight_spe.hdf5\n",
      "Epoch 35/50\n",
      "4269/4269 [==============================] - 5s 1ms/step - loss: 1.8068 - acc: 0.4287 - top_5_accuracy: 0.8613 - val_loss: 8.1183 - val_acc: 0.0251 - val_top_5_accuracy: 0.1109\n",
      "\n",
      "Epoch 00035: val_top_5_accuracy did not improve from 0.14044\n",
      "Epoch 36/50\n",
      "4269/4269 [==============================] - 5s 1ms/step - loss: 1.7908 - acc: 0.4327 - top_5_accuracy: 0.8637 - val_loss: 8.3440 - val_acc: 0.0251 - val_top_5_accuracy: 0.1033\n",
      "\n",
      "Epoch 00036: val_top_5_accuracy did not improve from 0.14044\n",
      "Epoch 37/50\n",
      "4269/4269 [==============================] - 5s 1ms/step - loss: 1.7427 - acc: 0.4479 - top_5_accuracy: 0.8758 - val_loss: 8.0361 - val_acc: 0.0339 - val_top_5_accuracy: 0.1197\n",
      "\n",
      "Epoch 00037: val_top_5_accuracy did not improve from 0.14044\n",
      "Epoch 38/50\n",
      "4269/4269 [==============================] - 5s 1ms/step - loss: 1.7206 - acc: 0.4596 - top_5_accuracy: 0.8756 - val_loss: 7.9414 - val_acc: 0.0322 - val_top_5_accuracy: 0.1011\n",
      "\n",
      "Epoch 00038: val_top_5_accuracy did not improve from 0.14044\n",
      "Epoch 39/50\n",
      "4269/4269 [==============================] - 5s 1ms/step - loss: 1.6933 - acc: 0.4626 - top_5_accuracy: 0.8850 - val_loss: 7.6963 - val_acc: 0.0333 - val_top_5_accuracy: 0.1142\n",
      "\n",
      "Epoch 00039: val_top_5_accuracy did not improve from 0.14044\n",
      "Epoch 40/50\n",
      "4269/4269 [==============================] - 5s 1ms/step - loss: 1.6723 - acc: 0.4652 - top_5_accuracy: 0.8887 - val_loss: 7.2911 - val_acc: 0.0361 - val_top_5_accuracy: 0.1306\n",
      "\n",
      "Epoch 00040: val_top_5_accuracy did not improve from 0.14044\n",
      "Epoch 41/50\n",
      "4269/4269 [==============================] - 5s 1ms/step - loss: 1.6318 - acc: 0.4795 - top_5_accuracy: 0.8974 - val_loss: 7.9477 - val_acc: 0.0301 - val_top_5_accuracy: 0.1142\n",
      "\n",
      "Epoch 00041: val_top_5_accuracy did not improve from 0.14044\n",
      "Epoch 42/50\n",
      "4269/4269 [==============================] - 5s 1ms/step - loss: 1.6173 - acc: 0.4854 - top_5_accuracy: 0.9033 - val_loss: 7.5028 - val_acc: 0.0388 - val_top_5_accuracy: 0.1306\n",
      "\n",
      "Epoch 00042: val_top_5_accuracy did not improve from 0.14044\n",
      "Epoch 43/50\n",
      "4269/4269 [==============================] - 5s 1ms/step - loss: 1.5983 - acc: 0.4931 - top_5_accuracy: 0.9037 - val_loss: 7.8224 - val_acc: 0.0344 - val_top_5_accuracy: 0.1344\n",
      "\n",
      "Epoch 00043: val_top_5_accuracy did not improve from 0.14044\n",
      "Epoch 44/50\n",
      "4269/4269 [==============================] - 5s 1ms/step - loss: 1.5994 - acc: 0.4961 - top_5_accuracy: 0.9061 - val_loss: 7.8606 - val_acc: 0.0306 - val_top_5_accuracy: 0.1251\n",
      "\n",
      "Epoch 00044: val_top_5_accuracy did not improve from 0.14044\n",
      "Epoch 45/50\n",
      "4269/4269 [==============================] - 5s 1ms/step - loss: 1.5255 - acc: 0.5088 - top_5_accuracy: 0.9182 - val_loss: 8.1859 - val_acc: 0.0311 - val_top_5_accuracy: 0.1197\n",
      "\n",
      "Epoch 00045: val_top_5_accuracy did not improve from 0.14044\n",
      "Epoch 46/50\n",
      "4269/4269 [==============================] - 5s 1ms/step - loss: 1.5298 - acc: 0.5226 - top_5_accuracy: 0.9154 - val_loss: 7.5074 - val_acc: 0.0399 - val_top_5_accuracy: 0.1372\n",
      "\n",
      "Epoch 00046: val_top_5_accuracy did not improve from 0.14044\n",
      "Epoch 47/50\n",
      "4269/4269 [==============================] - 5s 1ms/step - loss: 1.5077 - acc: 0.5149 - top_5_accuracy: 0.9199 - val_loss: 7.6409 - val_acc: 0.0301 - val_top_5_accuracy: 0.1322\n",
      "\n",
      "Epoch 00047: val_top_5_accuracy did not improve from 0.14044\n",
      "Epoch 48/50\n",
      "4269/4269 [==============================] - 5s 1ms/step - loss: 1.4852 - acc: 0.5175 - top_5_accuracy: 0.9269 - val_loss: 8.3676 - val_acc: 0.0317 - val_top_5_accuracy: 0.1230\n",
      "\n",
      "Epoch 00048: val_top_5_accuracy did not improve from 0.14044\n",
      "Epoch 49/50\n",
      "4269/4269 [==============================] - 5s 1ms/step - loss: 1.4271 - acc: 0.5481 - top_5_accuracy: 0.9321 - val_loss: 8.0260 - val_acc: 0.0366 - val_top_5_accuracy: 0.1350\n",
      "\n",
      "Epoch 00049: val_top_5_accuracy did not improve from 0.14044\n",
      "Epoch 50/50\n",
      "4269/4269 [==============================] - 5s 1ms/step - loss: 1.4351 - acc: 0.5416 - top_5_accuracy: 0.9339 - val_loss: 8.3727 - val_acc: 0.0344 - val_top_5_accuracy: 0.1219\n",
      "\n",
      "Epoch 00050: val_top_5_accuracy did not improve from 0.14044\n"
     ]
    }
   ],
   "source": [
    "filepath=\"weight_spe.hdf5\"\n",
    "checkpoint = ModelCheckpoint(filepath, \n",
    "                             monitor='val_top_5_accuracy', \n",
    "                             verbose=1, \n",
    "                             save_best_only=True,\n",
    "                             mode='max')\n",
    "callbacks_list = [checkpoint]\n",
    "history = model.fit(X_train, y_train_onehot, \n",
    "                    epochs=50, \n",
    "                    batch_size=128, \n",
    "                    validation_split=0.3, \n",
    "                    callbacks=callbacks_list,\n",
    "                    shuffle=True,\n",
    "                    verbose=1)"
   ]
  },
  {
   "cell_type": "code",
   "execution_count": 9,
   "metadata": {},
   "outputs": [
    {
     "data": {
      "image/png": "[encoded data removed]",
      "text/plain": [
       "<matplotlib.figure.Figure at 0x18268bac50>"
      ]
     },
     "metadata": {},
     "output_type": "display_data"
    }
   ],
   "source": [
    "plt.plot(history.history['acc'])\n",
    "plt.plot(history.history['val_acc'])\n",
    "plt.plot(history.history['val_top_5_accuracy'])\n",
    "plt.title('model accuracy')\n",
    "plt.ylabel('accuracy')\n",
    "plt.xlabel('epoch')\n",
    "plt.legend(['train', 'valid_1', 'valid_3'], loc='upper left')\n",
    "plt.show()"
   ]
  },
  {
   "cell_type": "code",
   "execution_count": 10,
   "metadata": {},
   "outputs": [
    {
     "data": {
      "image/png": "[encoded data removed]",
      "text/plain": [
       "<matplotlib.figure.Figure at 0x18268b2fd0>"
      ]
     },
     "metadata": {},
     "output_type": "display_data"
    }
   ],
   "source": [
    "plt.plot(history.history['loss'])\n",
    "plt.plot(history.history['val_loss'])\n",
    "plt.title('model loss')\n",
    "plt.ylabel('loss')\n",
    "plt.xlabel('epoch')\n",
    "plt.legend(['train', 'validation'], loc='upper left')\n",
    "plt.show()"
   ]
  },
  {
   "cell_type": "code",
   "execution_count": 11,
   "metadata": {},
   "outputs": [],
   "source": [
    "filepath=\"weight_spe.hdf5\"\n",
    "model.load_weights(filepath)"
   ]
  },
  {
   "cell_type": "code",
   "execution_count": 12,
   "metadata": {},
   "outputs": [],
   "source": [
    "predict = model.predict(X_test)"
   ]
  },
  {
   "cell_type": "code",
   "execution_count": 13,
   "metadata": {},
   "outputs": [
    {
     "data": {
      "text/plain": [
       "(295, 110)"
      ]
     },
     "execution_count": 13,
     "metadata": {},
     "output_type": "execute_result"
    }
   ],
   "source": [
    "predict.shape"
   ]
  },
  {
   "cell_type": "code",
   "execution_count": 14,
   "metadata": {},
   "outputs": [
    {
     "name": "stdout",
     "output_type": "stream",
     "text": [
      "295/295 [==============================] - 0s 422us/step\n",
      "\n",
      "Loss = 5.606846806962611\n",
      "Test Accuracy = 0.033898305236283\n"
     ]
    }
   ],
   "source": [
    "#evaluate\n",
    "eva = model.evaluate(X_test, y_test_onehot, batch_size=32, verbose=1, sample_weight=None)\n",
    "print()\n",
    "print(\"Loss = \" + str(eva[0]))\n",
    "print(\"Test Accuracy = \" + str(eva[1]))"
   ]
  },
  {
   "cell_type": "code",
   "execution_count": 30,
   "metadata": {},
   "outputs": [],
   "source": [
    "#y_pre = np.reshape(np.argmax(predict, axis=1), (predict.shape[0], 1))\n",
    "#y_pre = y_pre*150 - 50\n",
    "tem = np.zeros((predict.shape[0], predict.shape[1]))\n",
    "for i in range(tem.shape[1]):\n",
    "    tem[:, i] = i\n",
    "y_pre = np.sum(tem*predict, axis=1, keepdims=True)"
   ]
  },
  {
   "cell_type": "code",
   "execution_count": 31,
   "metadata": {},
   "outputs": [
    {
     "data": {
      "image/png": "[encoded data removed]",
      "text/plain": [
       "<matplotlib.figure.Figure at 0x18244c3da0>"
      ]
     },
     "metadata": {},
     "output_type": "display_data"
    }
   ],
   "source": [
    "plt.subplot(211)\n",
    "plt.plot(y_test)\n",
    "plt.plot(y_pre)\n",
    "plt.legend(['real', 'prediction'], loc='upper left')\n",
    "plt.subplot(212)\n",
    "plt.plot(y_test-y_pre)\n",
    "plt.show()"
   ]
  },
  {
   "cell_type": "code",
   "execution_count": 32,
   "metadata": {},
   "outputs": [
    {
     "name": "stdout",
     "output_type": "stream",
     "text": [
      "The avarage predict error:  16.230582650361747\n"
     ]
    }
   ],
   "source": [
    "Y_error = abs(y_pre - y_test)\n",
    "print('The avarage predict error: ', np.mean(Y_error))"
   ]
  },
  {
   "cell_type": "code",
   "execution_count": null,
   "metadata": {},
   "outputs": [],
   "source": []
  }
 ],
 "metadata": {
  "kernelspec": {
   "display_name": "Python 3",
   "language": "python",
   "name": "python3"
  },
  "language_info": {
   "codemirror_mode": {
    "name": "ipython",
    "version": 3
   },
   "file_extension": ".py",
   "mimetype": "text/x-python",
   "name": "python",
   "nbconvert_exporter": "python",
   "pygments_lexer": "ipython3",
   "version": "3.6.4"
  }
 },
 "nbformat": 4,
 "nbformat_minor": 2
}
