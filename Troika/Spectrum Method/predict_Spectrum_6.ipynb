{
 "cells": [
  {
   "cell_type": "code",
   "execution_count": 1,
   "metadata": {},
   "outputs": [
    {
     "name": "stderr",
     "output_type": "stream",
     "text": [
      "/Users/xufanxiong/anaconda3/lib/python3.6/site-packages/h5py/__init__.py:36: FutureWarning: Conversion of the second argument of issubdtype from `float` to `np.floating` is deprecated. In future, it will be treated as `np.float64 == np.dtype(float).type`.\n",
      "  from ._conv import register_converters as _register_converters\n",
      "Using TensorFlow backend.\n"
     ]
    }
   ],
   "source": [
    "import numpy as np\n",
    "import matplotlib.pyplot as plt\n",
    "import scipy.io as sio\n",
    "from keras.callbacks import ModelCheckpoint\n",
    "from keras.layers.convolutional import Conv1D, MaxPooling1D\n",
    "from keras.layers import AveragePooling1D, Activation, Flatten, Dense\n",
    "from keras.layers import GlobalMaxPooling1D, Dropout\n",
    "from keras.layers import GlobalAveragePooling1D, UpSampling1D\n",
    "from keras.models import Model\n",
    "from keras.regularizers import l2\n",
    "from keras.optimizers import SGD, Adam, Nadam, Adamax\n",
    "from keras.layers.normalization import BatchNormalization\n",
    "import keras.backend as K\n",
    "from data_in_2s import data_in, normali\n",
    "from ori_model import ori_model\n",
    "from keras import metrics\n",
    "#from tqdm import tqdm\n",
    "#from sklearn.model_selection import train_test_split"
   ]
  },
  {
   "cell_type": "code",
   "execution_count": 2,
   "metadata": {},
   "outputs": [],
   "source": [
    "num_test = 6\n",
    "X_train, y_train = data_in(num_test)"
   ]
  },
  {
   "cell_type": "code",
   "execution_count": 3,
   "metadata": {},
   "outputs": [
    {
     "name": "stdout",
     "output_type": "stream",
     "text": [
      "Shape of X_train is: (3225, 1000, 5)\n",
      "Shape of y_train is: (3225, 1)\n"
     ]
    }
   ],
   "source": [
    "#Nomalization\n",
    "#y_train = (y_train-50)/150\n",
    "X_train = normali(X_train)\n",
    "print('Shape of X_train is: ' + str(X_train.shape))\n",
    "print('Shape of y_train is: ' + str(y_train.shape))"
   ]
  },
  {
   "cell_type": "code",
   "execution_count": 4,
   "metadata": {},
   "outputs": [
    {
     "name": "stdout",
     "output_type": "stream",
     "text": [
      "The shape of X_test is: (299, 1000, 5)\n",
      "The shape of y_test is: (299, 1)\n"
     ]
    }
   ],
   "source": [
    "#Import and Split test data\n",
    "\n",
    "name_x = 'Training_data/DATA_%.2d_TYPE02.mat'%num_test\n",
    "in_tem_x = sio.loadmat(name_x)['sig']\n",
    "in_tem_x = in_tem_x.T\n",
    "\n",
    "name_y = 'Training_data/DATA_%.2d_TYPE02_BPMtrace.mat'%num_test\n",
    "in_tem_y = sio.loadmat(name_y)['BPM0']\n",
    "\n",
    "X_test_tem = np.zeros((in_tem_y.shape[0]*2, 125*8, 5))\n",
    "\n",
    "k = 0\n",
    "\n",
    "for j in range(in_tem_y.shape[0]*2-1):\n",
    "\tX_test_tem[j, :, :] =  in_tem_x[k:(k+125*8), 1:]\n",
    "\tk += 125\n",
    "\n",
    "tem_y = np.zeros((in_tem_y.shape[0]*2, 1))\n",
    "index = [a*2 for a in range(in_tem_y.shape[0])]\n",
    "tem_y[index] = in_tem_y\n",
    "\n",
    "for b in range(tem_y.shape[0]-1):\n",
    "\tif tem_y[b] == 0:\n",
    "\t\ttem_y[b] = (tem_y[b-1] + tem_y[b+1])/2.\n",
    "\n",
    "y_test = tem_y[:-1, :]\n",
    "X_test = X_test_tem[:-1, :, :]\n",
    "\n",
    "#y_test = (y_test-50)/150\n",
    "X_test = normali(X_test)\n",
    "\n",
    "print('The shape of X_test is: ' + str(X_test.shape))\n",
    "print('The shape of y_test is: ' + str(y_test.shape))"
   ]
  },
  {
   "cell_type": "code",
   "execution_count": 5,
   "metadata": {},
   "outputs": [
    {
     "name": "stdout",
     "output_type": "stream",
     "text": [
      "The shape of y_train_onehot is: (3225, 110)\n",
      "The shape of y_test_onehot is: (299, 110)\n"
     ]
    }
   ],
   "source": [
    "#Convert to spectrum\n",
    "#68 - 178\n",
    "\n",
    "spe_len = 110\n",
    "y_train = np.rint(y_train)\n",
    "y_test = np.rint(y_test)\n",
    "\n",
    "y_train_onehot = np.zeros((y_train.shape[0], spe_len))\n",
    "y_test_onehot = np.zeros((y_test.shape[0], spe_len))\n",
    "\n",
    "y_train = y_train - 68\n",
    "y_test = y_test - 68\n",
    "\n",
    "for i in range(y_train.shape[0]):\n",
    "    y_train_onehot[i, int(y_train[i][0])] = 1\n",
    "    \n",
    "for i in range(y_test.shape[0]):\n",
    "    y_test_onehot[i, int(y_test[i][0])] = 1\n",
    "    \n",
    "print('The shape of y_train_onehot is: ' + str(y_train_onehot.shape))\n",
    "print('The shape of y_test_onehot is: ' + str(y_test_onehot.shape))\n"
   ]
  },
  {
   "cell_type": "code",
   "execution_count": 9,
   "metadata": {},
   "outputs": [
    {
     "name": "stderr",
     "output_type": "stream",
     "text": [
      "/Users/xufanxiong/Desktop/untitled folder 2/ori_model.py:105: UserWarning: Update your `Model` call to the Keras 2 API: `Model(inputs=Tensor(\"in..., outputs=Tensor(\"de...)`\n",
      "  model = Model(input=inputs, output=output)\n"
     ]
    }
   ],
   "source": [
    "model = ori_model((1000, 5), 8, pool_size=2)"
   ]
  },
  {
   "cell_type": "code",
   "execution_count": 10,
   "metadata": {},
   "outputs": [],
   "source": [
    "optm = Adam(lr=0.001, beta_1=0.9, beta_2=0.999, epsilon=3*10**(-4))\n",
    "def top_3_accuracy(y_true, y_pred):\n",
    "    return metrics.top_k_categorical_accuracy(y_true, y_pred, k=3)\n",
    "def top_5_accuracy(y_true, y_pred):\n",
    "    return metrics.top_k_categorical_accuracy(y_true, y_pred, k=5)\n",
    "model.compile(loss= \"categorical_crossentropy\", \n",
    "              optimizer=optm, \n",
    "              metrics=[\"accuracy\", top_5_accuracy])"
   ]
  },
  {
   "cell_type": "code",
   "execution_count": 12,
   "metadata": {
    "scrolled": true
   },
   "outputs": [
    {
     "name": "stdout",
     "output_type": "stream",
     "text": [
      "Train on 2257 samples, validate on 968 samples\n",
      "Epoch 1/100\n",
      "2257/2257 [==============================] - 13s 6ms/step - loss: 2.9938 - acc: 0.2800 - top_5_accuracy: 0.5959 - val_loss: 7.5055 - val_acc: 0.0331 - val_top_5_accuracy: 0.1415\n",
      "\n",
      "Epoch 00001: val_top_5_accuracy improved from -inf to 0.14153, saving model to weight_spe.hdf5\n",
      "Epoch 2/100\n",
      "2257/2257 [==============================] - 12s 5ms/step - loss: 2.6906 - acc: 0.3150 - top_5_accuracy: 0.6460 - val_loss: 7.6930 - val_acc: 0.0320 - val_top_5_accuracy: 0.1519\n",
      "\n",
      "Epoch 00002: val_top_5_accuracy improved from 0.14153 to 0.15186, saving model to weight_spe.hdf5\n",
      "Epoch 3/100\n",
      "2257/2257 [==============================] - 12s 5ms/step - loss: 2.4631 - acc: 0.3553 - top_5_accuracy: 0.7093 - val_loss: 7.7221 - val_acc: 0.0320 - val_top_5_accuracy: 0.1353\n",
      "\n",
      "Epoch 00003: val_top_5_accuracy did not improve from 0.15186\n",
      "Epoch 4/100\n",
      "2257/2257 [==============================] - 12s 5ms/step - loss: 2.2746 - acc: 0.3886 - top_5_accuracy: 0.7514 - val_loss: 7.8265 - val_acc: 0.0310 - val_top_5_accuracy: 0.1436\n",
      "\n",
      "Epoch 00004: val_top_5_accuracy did not improve from 0.15186\n",
      "Epoch 5/100\n",
      "2257/2257 [==============================] - 12s 5ms/step - loss: 2.0715 - acc: 0.4271 - top_5_accuracy: 0.8002 - val_loss: 8.1855 - val_acc: 0.0279 - val_top_5_accuracy: 0.1684\n",
      "\n",
      "Epoch 00005: val_top_5_accuracy improved from 0.15186 to 0.16839, saving model to weight_spe.hdf5\n",
      "Epoch 6/100\n",
      "2257/2257 [==============================] - 12s 5ms/step - loss: 1.9483 - acc: 0.4661 - top_5_accuracy: 0.8281 - val_loss: 8.0263 - val_acc: 0.0320 - val_top_5_accuracy: 0.1508\n",
      "\n",
      "Epoch 00006: val_top_5_accuracy did not improve from 0.16839\n",
      "Epoch 7/100\n",
      "2257/2257 [==============================] - 12s 5ms/step - loss: 1.8581 - acc: 0.4767 - top_5_accuracy: 0.8449 - val_loss: 7.7514 - val_acc: 0.0351 - val_top_5_accuracy: 0.1529\n",
      "\n",
      "Epoch 00007: val_top_5_accuracy did not improve from 0.16839\n",
      "Epoch 8/100\n",
      "2257/2257 [==============================] - 12s 5ms/step - loss: 1.7226 - acc: 0.5330 - top_5_accuracy: 0.8702 - val_loss: 8.2013 - val_acc: 0.0403 - val_top_5_accuracy: 0.1684\n",
      "\n",
      "Epoch 00008: val_top_5_accuracy did not improve from 0.16839\n",
      "Epoch 9/100\n",
      "2257/2257 [==============================] - 12s 5ms/step - loss: 1.6270 - acc: 0.5543 - top_5_accuracy: 0.8879 - val_loss: 8.3982 - val_acc: 0.0424 - val_top_5_accuracy: 0.1849\n",
      "\n",
      "Epoch 00009: val_top_5_accuracy improved from 0.16839 to 0.18492, saving model to weight_spe.hdf5\n",
      "Epoch 10/100\n",
      "2257/2257 [==============================] - 13s 6ms/step - loss: 1.5313 - acc: 0.5853 - top_5_accuracy: 0.8919 - val_loss: 8.6149 - val_acc: 0.0351 - val_top_5_accuracy: 0.1508\n",
      "\n",
      "Epoch 00010: val_top_5_accuracy did not improve from 0.18492\n",
      "Epoch 11/100\n",
      "2257/2257 [==============================] - 13s 6ms/step - loss: 1.4060 - acc: 0.6163 - top_5_accuracy: 0.9176 - val_loss: 8.5307 - val_acc: 0.0362 - val_top_5_accuracy: 0.1674\n",
      "\n",
      "Epoch 00011: val_top_5_accuracy did not improve from 0.18492\n",
      "Epoch 12/100\n",
      "2257/2257 [==============================] - 12s 5ms/step - loss: 1.3335 - acc: 0.6305 - top_5_accuracy: 0.9335 - val_loss: 8.8763 - val_acc: 0.0372 - val_top_5_accuracy: 0.1694\n",
      "\n",
      "Epoch 00012: val_top_5_accuracy did not improve from 0.18492\n",
      "Epoch 13/100\n",
      "2257/2257 [==============================] - 12s 5ms/step - loss: 1.2485 - acc: 0.6611 - top_5_accuracy: 0.9397 - val_loss: 8.9070 - val_acc: 0.0362 - val_top_5_accuracy: 0.1725\n",
      "\n",
      "Epoch 00013: val_top_5_accuracy did not improve from 0.18492\n",
      "Epoch 14/100\n",
      "2257/2257 [==============================] - 12s 5ms/step - loss: 1.2095 - acc: 0.6783 - top_5_accuracy: 0.9446 - val_loss: 8.6968 - val_acc: 0.0413 - val_top_5_accuracy: 0.1715\n",
      "\n",
      "Epoch 00014: val_top_5_accuracy did not improve from 0.18492\n",
      "Epoch 15/100\n",
      "2257/2257 [==============================] - 12s 5ms/step - loss: 1.1190 - acc: 0.6974 - top_5_accuracy: 0.9566 - val_loss: 9.0719 - val_acc: 0.0310 - val_top_5_accuracy: 0.1684\n",
      "\n",
      "Epoch 00015: val_top_5_accuracy did not improve from 0.18492\n",
      "Epoch 16/100\n",
      "2257/2257 [==============================] - 12s 5ms/step - loss: 1.0484 - acc: 0.7226 - top_5_accuracy: 0.9610 - val_loss: 8.8245 - val_acc: 0.0382 - val_top_5_accuracy: 0.1674\n",
      "\n",
      "Epoch 00016: val_top_5_accuracy did not improve from 0.18492\n",
      "Epoch 17/100\n",
      "2257/2257 [==============================] - 12s 5ms/step - loss: 0.9941 - acc: 0.7381 - top_5_accuracy: 0.9703 - val_loss: 9.4165 - val_acc: 0.0455 - val_top_5_accuracy: 0.1890\n",
      "\n",
      "Epoch 00017: val_top_5_accuracy improved from 0.18492 to 0.18905, saving model to weight_spe.hdf5\n",
      "Epoch 18/100\n",
      "2257/2257 [==============================] - 12s 5ms/step - loss: 0.9708 - acc: 0.7390 - top_5_accuracy: 0.9663 - val_loss: 9.5281 - val_acc: 0.0341 - val_top_5_accuracy: 0.1632\n",
      "\n",
      "Epoch 00018: val_top_5_accuracy did not improve from 0.18905\n",
      "Epoch 19/100\n",
      "2257/2257 [==============================] - 12s 5ms/step - loss: 0.8924 - acc: 0.7687 - top_5_accuracy: 0.9743 - val_loss: 9.1546 - val_acc: 0.0341 - val_top_5_accuracy: 0.1829\n",
      "\n",
      "Epoch 00019: val_top_5_accuracy did not improve from 0.18905\n",
      "Epoch 20/100\n",
      "2257/2257 [==============================] - 12s 6ms/step - loss: 0.8314 - acc: 0.7931 - top_5_accuracy: 0.9770 - val_loss: 9.9712 - val_acc: 0.0403 - val_top_5_accuracy: 0.1911\n",
      "\n",
      "Epoch 00020: val_top_5_accuracy improved from 0.18905 to 0.19112, saving model to weight_spe.hdf5\n",
      "Epoch 21/100\n",
      "2257/2257 [==============================] - 12s 5ms/step - loss: 0.8227 - acc: 0.7984 - top_5_accuracy: 0.9801 - val_loss: 9.8451 - val_acc: 0.0382 - val_top_5_accuracy: 0.1612\n",
      "\n",
      "Epoch 00021: val_top_5_accuracy did not improve from 0.19112\n",
      "Epoch 22/100\n",
      "2257/2257 [==============================] - 12s 5ms/step - loss: 0.7844 - acc: 0.8064 - top_5_accuracy: 0.9805 - val_loss: 9.3049 - val_acc: 0.0341 - val_top_5_accuracy: 0.1643\n",
      "\n",
      "Epoch 00022: val_top_5_accuracy did not improve from 0.19112\n",
      "Epoch 23/100\n",
      "2257/2257 [==============================] - 12s 5ms/step - loss: 0.7312 - acc: 0.8250 - top_5_accuracy: 0.9863 - val_loss: 9.3354 - val_acc: 0.0382 - val_top_5_accuracy: 0.1829\n",
      "\n",
      "Epoch 00023: val_top_5_accuracy did not improve from 0.19112\n",
      "Epoch 24/100\n",
      "2048/2257 [==========================>...] - ETA: 1s - loss: 0.7124 - acc: 0.8262 - top_5_accuracy: 0.9854"
     ]
    },
    {
     "ename": "KeyboardInterrupt",
     "evalue": "",
     "output_type": "error",
     "traceback": [
      "\u001b[0;31m---------------------------------------------------------------------------\u001b[0m",
      "\u001b[0;31mKeyboardInterrupt\u001b[0m                         Traceback (most recent call last)",
      "\u001b[0;32m<ipython-input-12-bfa2dfb4ecd1>\u001b[0m in \u001b[0;36m<module>\u001b[0;34m()\u001b[0m\n\u001b[1;32m     12\u001b[0m                     \u001b[0mcallbacks\u001b[0m\u001b[0;34m=\u001b[0m\u001b[0mcallbacks_list\u001b[0m\u001b[0;34m,\u001b[0m\u001b[0;34m\u001b[0m\u001b[0m\n\u001b[1;32m     13\u001b[0m                     \u001b[0mshuffle\u001b[0m\u001b[0;34m=\u001b[0m\u001b[0;32mTrue\u001b[0m\u001b[0;34m,\u001b[0m\u001b[0;34m\u001b[0m\u001b[0m\n\u001b[0;32m---> 14\u001b[0;31m                     verbose=1)\n\u001b[0m",
      "\u001b[0;32m~/anaconda3/lib/python3.6/site-packages/keras/engine/training.py\u001b[0m in \u001b[0;36mfit\u001b[0;34m(self, x, y, batch_size, epochs, verbose, callbacks, validation_split, validation_data, shuffle, class_weight, sample_weight, initial_epoch, steps_per_epoch, validation_steps, **kwargs)\u001b[0m\n\u001b[1;32m   1040\u001b[0m                                         \u001b[0minitial_epoch\u001b[0m\u001b[0;34m=\u001b[0m\u001b[0minitial_epoch\u001b[0m\u001b[0;34m,\u001b[0m\u001b[0;34m\u001b[0m\u001b[0m\n\u001b[1;32m   1041\u001b[0m                                         \u001b[0msteps_per_epoch\u001b[0m\u001b[0;34m=\u001b[0m\u001b[0msteps_per_epoch\u001b[0m\u001b[0;34m,\u001b[0m\u001b[0;34m\u001b[0m\u001b[0m\n\u001b[0;32m-> 1042\u001b[0;31m                                         validation_steps=validation_steps)\n\u001b[0m\u001b[1;32m   1043\u001b[0m \u001b[0;34m\u001b[0m\u001b[0m\n\u001b[1;32m   1044\u001b[0m     def evaluate(self, x=None, y=None,\n",
      "\u001b[0;32m~/anaconda3/lib/python3.6/site-packages/keras/engine/training_arrays.py\u001b[0m in \u001b[0;36mfit_loop\u001b[0;34m(model, f, ins, out_labels, batch_size, epochs, verbose, callbacks, val_f, val_ins, shuffle, callback_metrics, initial_epoch, steps_per_epoch, validation_steps)\u001b[0m\n\u001b[1;32m    197\u001b[0m                     \u001b[0mins_batch\u001b[0m\u001b[0;34m[\u001b[0m\u001b[0mi\u001b[0m\u001b[0;34m]\u001b[0m \u001b[0;34m=\u001b[0m \u001b[0mins_batch\u001b[0m\u001b[0;34m[\u001b[0m\u001b[0mi\u001b[0m\u001b[0;34m]\u001b[0m\u001b[0;34m.\u001b[0m\u001b[0mtoarray\u001b[0m\u001b[0;34m(\u001b[0m\u001b[0;34m)\u001b[0m\u001b[0;34m\u001b[0m\u001b[0m\n\u001b[1;32m    198\u001b[0m \u001b[0;34m\u001b[0m\u001b[0m\n\u001b[0;32m--> 199\u001b[0;31m                 \u001b[0mouts\u001b[0m \u001b[0;34m=\u001b[0m \u001b[0mf\u001b[0m\u001b[0;34m(\u001b[0m\u001b[0mins_batch\u001b[0m\u001b[0;34m)\u001b[0m\u001b[0;34m\u001b[0m\u001b[0m\n\u001b[0m\u001b[1;32m    200\u001b[0m                 \u001b[0;32mif\u001b[0m \u001b[0;32mnot\u001b[0m \u001b[0misinstance\u001b[0m\u001b[0;34m(\u001b[0m\u001b[0mouts\u001b[0m\u001b[0;34m,\u001b[0m \u001b[0mlist\u001b[0m\u001b[0;34m)\u001b[0m\u001b[0;34m:\u001b[0m\u001b[0;34m\u001b[0m\u001b[0m\n\u001b[1;32m    201\u001b[0m                     \u001b[0mouts\u001b[0m \u001b[0;34m=\u001b[0m \u001b[0;34m[\u001b[0m\u001b[0mouts\u001b[0m\u001b[0;34m]\u001b[0m\u001b[0;34m\u001b[0m\u001b[0m\n",
      "\u001b[0;32m~/anaconda3/lib/python3.6/site-packages/keras/backend/tensorflow_backend.py\u001b[0m in \u001b[0;36m__call__\u001b[0;34m(self, inputs)\u001b[0m\n\u001b[1;32m   2659\u001b[0m                 \u001b[0;32mreturn\u001b[0m \u001b[0mself\u001b[0m\u001b[0;34m.\u001b[0m\u001b[0m_legacy_call\u001b[0m\u001b[0;34m(\u001b[0m\u001b[0minputs\u001b[0m\u001b[0;34m)\u001b[0m\u001b[0;34m\u001b[0m\u001b[0m\n\u001b[1;32m   2660\u001b[0m \u001b[0;34m\u001b[0m\u001b[0m\n\u001b[0;32m-> 2661\u001b[0;31m             \u001b[0;32mreturn\u001b[0m \u001b[0mself\u001b[0m\u001b[0;34m.\u001b[0m\u001b[0m_call\u001b[0m\u001b[0;34m(\u001b[0m\u001b[0minputs\u001b[0m\u001b[0;34m)\u001b[0m\u001b[0;34m\u001b[0m\u001b[0m\n\u001b[0m\u001b[1;32m   2662\u001b[0m         \u001b[0;32melse\u001b[0m\u001b[0;34m:\u001b[0m\u001b[0;34m\u001b[0m\u001b[0m\n\u001b[1;32m   2663\u001b[0m             \u001b[0;32mif\u001b[0m \u001b[0mpy_any\u001b[0m\u001b[0;34m(\u001b[0m\u001b[0mis_tensor\u001b[0m\u001b[0;34m(\u001b[0m\u001b[0mx\u001b[0m\u001b[0;34m)\u001b[0m \u001b[0;32mfor\u001b[0m \u001b[0mx\u001b[0m \u001b[0;32min\u001b[0m \u001b[0minputs\u001b[0m\u001b[0;34m)\u001b[0m\u001b[0;34m:\u001b[0m\u001b[0;34m\u001b[0m\u001b[0m\n",
      "\u001b[0;32m~/anaconda3/lib/python3.6/site-packages/keras/backend/tensorflow_backend.py\u001b[0m in \u001b[0;36m_call\u001b[0;34m(self, inputs)\u001b[0m\n\u001b[1;32m   2629\u001b[0m                                 \u001b[0msymbol_vals\u001b[0m\u001b[0;34m,\u001b[0m\u001b[0;34m\u001b[0m\u001b[0m\n\u001b[1;32m   2630\u001b[0m                                 session)\n\u001b[0;32m-> 2631\u001b[0;31m         \u001b[0mfetched\u001b[0m \u001b[0;34m=\u001b[0m \u001b[0mself\u001b[0m\u001b[0;34m.\u001b[0m\u001b[0m_callable_fn\u001b[0m\u001b[0;34m(\u001b[0m\u001b[0;34m*\u001b[0m\u001b[0marray_vals\u001b[0m\u001b[0;34m)\u001b[0m\u001b[0;34m\u001b[0m\u001b[0m\n\u001b[0m\u001b[1;32m   2632\u001b[0m         \u001b[0;32mreturn\u001b[0m \u001b[0mfetched\u001b[0m\u001b[0;34m[\u001b[0m\u001b[0;34m:\u001b[0m\u001b[0mlen\u001b[0m\u001b[0;34m(\u001b[0m\u001b[0mself\u001b[0m\u001b[0;34m.\u001b[0m\u001b[0moutputs\u001b[0m\u001b[0;34m)\u001b[0m\u001b[0;34m]\u001b[0m\u001b[0;34m\u001b[0m\u001b[0m\n\u001b[1;32m   2633\u001b[0m \u001b[0;34m\u001b[0m\u001b[0m\n",
      "\u001b[0;32m~/anaconda3/lib/python3.6/site-packages/tensorflow/python/client/session.py\u001b[0m in \u001b[0;36m__call__\u001b[0;34m(self, *args)\u001b[0m\n\u001b[1;32m   1449\u001b[0m         \u001b[0;32mif\u001b[0m \u001b[0mself\u001b[0m\u001b[0;34m.\u001b[0m\u001b[0m_session\u001b[0m\u001b[0;34m.\u001b[0m\u001b[0m_created_with_new_api\u001b[0m\u001b[0;34m:\u001b[0m\u001b[0;34m\u001b[0m\u001b[0m\n\u001b[1;32m   1450\u001b[0m           return tf_session.TF_SessionRunCallable(\n\u001b[0;32m-> 1451\u001b[0;31m               self._session._session, self._handle, args, status, None)\n\u001b[0m\u001b[1;32m   1452\u001b[0m         \u001b[0;32melse\u001b[0m\u001b[0;34m:\u001b[0m\u001b[0;34m\u001b[0m\u001b[0m\n\u001b[1;32m   1453\u001b[0m           return tf_session.TF_DeprecatedSessionRunCallable(\n",
      "\u001b[0;31mKeyboardInterrupt\u001b[0m: "
     ]
    }
   ],
   "source": [
    "filepath=\"weight_spe.hdf5\"\n",
    "checkpoint = ModelCheckpoint(filepath, \n",
    "                             monitor='val_top_5_accuracy', \n",
    "                             verbose=1, \n",
    "                             save_best_only=True,\n",
    "                             mode='max')\n",
    "callbacks_list = [checkpoint]\n",
    "history = model.fit(X_train, y_train_onehot, \n",
    "                    epochs=100, \n",
    "                    batch_size=128, \n",
    "                    validation_split=0.3, \n",
    "                    callbacks=callbacks_list,\n",
    "                    shuffle=True,\n",
    "                    verbose=1)"
   ]
  },
  {
   "cell_type": "code",
   "execution_count": null,
   "metadata": {},
   "outputs": [],
   "source": [
    "plt.plot(history.history['acc'])\n",
    "plt.plot(history.history['val_acc'])\n",
    "plt.plot(history.history['val_top_5_accuracy'])\n",
    "plt.title('model accuracy')\n",
    "plt.ylabel('accuracy')\n",
    "plt.xlabel('epoch')\n",
    "plt.legend(['train', 'valid_1', 'valid_5'], loc='upper left')\n",
    "plt.show()"
   ]
  },
  {
   "cell_type": "code",
   "execution_count": null,
   "metadata": {},
   "outputs": [],
   "source": [
    "plt.plot(history.history['loss'])\n",
    "plt.plot(history.history['val_loss'])\n",
    "plt.title('model loss')\n",
    "plt.ylabel('loss')\n",
    "plt.xlabel('epoch')\n",
    "plt.legend(['train', 'validation'], loc='upper left')\n",
    "plt.show()"
   ]
  },
  {
   "cell_type": "code",
   "execution_count": null,
   "metadata": {},
   "outputs": [],
   "source": [
    "filepath=\"weight_spe.hdf5\"\n",
    "model.load_weights(filepath)"
   ]
  },
  {
   "cell_type": "code",
   "execution_count": null,
   "metadata": {},
   "outputs": [],
   "source": [
    "predict = model.predict(X_test)"
   ]
  },
  {
   "cell_type": "code",
   "execution_count": null,
   "metadata": {},
   "outputs": [],
   "source": [
    "predict.shape"
   ]
  },
  {
   "cell_type": "code",
   "execution_count": 7,
   "metadata": {},
   "outputs": [
    {
     "ename": "NameError",
     "evalue": "name 'model' is not defined",
     "output_type": "error",
     "traceback": [
      "\u001b[0;31m---------------------------------------------------------------------------\u001b[0m",
      "\u001b[0;31mNameError\u001b[0m                                 Traceback (most recent call last)",
      "\u001b[0;32m<ipython-input-7-d8aef9665346>\u001b[0m in \u001b[0;36m<module>\u001b[0;34m()\u001b[0m\n\u001b[1;32m      1\u001b[0m \u001b[0;31m#evaluate\u001b[0m\u001b[0;34m\u001b[0m\u001b[0;34m\u001b[0m\u001b[0m\n\u001b[0;32m----> 2\u001b[0;31m \u001b[0meva\u001b[0m \u001b[0;34m=\u001b[0m \u001b[0mmodel\u001b[0m\u001b[0;34m.\u001b[0m\u001b[0mevaluate\u001b[0m\u001b[0;34m(\u001b[0m\u001b[0mX_test\u001b[0m\u001b[0;34m,\u001b[0m \u001b[0my_test_onehot\u001b[0m\u001b[0;34m,\u001b[0m \u001b[0mbatch_size\u001b[0m\u001b[0;34m=\u001b[0m\u001b[0;36m32\u001b[0m\u001b[0;34m,\u001b[0m \u001b[0mverbose\u001b[0m\u001b[0;34m=\u001b[0m\u001b[0;36m1\u001b[0m\u001b[0;34m,\u001b[0m \u001b[0msample_weight\u001b[0m\u001b[0;34m=\u001b[0m\u001b[0;32mNone\u001b[0m\u001b[0;34m)\u001b[0m\u001b[0;34m\u001b[0m\u001b[0m\n\u001b[0m\u001b[1;32m      3\u001b[0m \u001b[0mprint\u001b[0m\u001b[0;34m(\u001b[0m\u001b[0;34m)\u001b[0m\u001b[0;34m\u001b[0m\u001b[0m\n\u001b[1;32m      4\u001b[0m \u001b[0mprint\u001b[0m\u001b[0;34m(\u001b[0m\u001b[0;34m\"Loss = \"\u001b[0m \u001b[0;34m+\u001b[0m \u001b[0mstr\u001b[0m\u001b[0;34m(\u001b[0m\u001b[0meva\u001b[0m\u001b[0;34m[\u001b[0m\u001b[0;36m0\u001b[0m\u001b[0;34m]\u001b[0m\u001b[0;34m)\u001b[0m\u001b[0;34m)\u001b[0m\u001b[0;34m\u001b[0m\u001b[0m\n\u001b[1;32m      5\u001b[0m \u001b[0mprint\u001b[0m\u001b[0;34m(\u001b[0m\u001b[0;34m\"Test Accuracy = \"\u001b[0m \u001b[0;34m+\u001b[0m \u001b[0mstr\u001b[0m\u001b[0;34m(\u001b[0m\u001b[0meva\u001b[0m\u001b[0;34m[\u001b[0m\u001b[0;36m1\u001b[0m\u001b[0;34m]\u001b[0m\u001b[0;34m)\u001b[0m\u001b[0;34m)\u001b[0m\u001b[0;34m\u001b[0m\u001b[0m\n",
      "\u001b[0;31mNameError\u001b[0m: name 'model' is not defined"
     ]
    }
   ],
   "source": [
    "#evaluate\n",
    "eva = model.evaluate(X_test, y_test_onehot, batch_size=32, verbose=1, sample_weight=None)\n",
    "print()\n",
    "print(\"Loss = \" + str(eva[0]))\n",
    "print(\"Test Accuracy = \" + str(eva[1]))"
   ]
  },
  {
   "cell_type": "code",
   "execution_count": 8,
   "metadata": {},
   "outputs": [
    {
     "ename": "NameError",
     "evalue": "name 'predict' is not defined",
     "output_type": "error",
     "traceback": [
      "\u001b[0;31m---------------------------------------------------------------------------\u001b[0m",
      "\u001b[0;31mNameError\u001b[0m                                 Traceback (most recent call last)",
      "\u001b[0;32m<ipython-input-8-91a9d40ecffa>\u001b[0m in \u001b[0;36m<module>\u001b[0;34m()\u001b[0m\n\u001b[0;32m----> 1\u001b[0;31m \u001b[0mplt\u001b[0m\u001b[0;34m.\u001b[0m\u001b[0mplot\u001b[0m\u001b[0;34m(\u001b[0m\u001b[0mpredict\u001b[0m\u001b[0;34m[\u001b[0m\u001b[0;36m199\u001b[0m\u001b[0;34m]\u001b[0m\u001b[0;34m)\u001b[0m\u001b[0;34m\u001b[0m\u001b[0m\n\u001b[0m",
      "\u001b[0;31mNameError\u001b[0m: name 'predict' is not defined"
     ]
    }
   ],
   "source": [
    "plt.plot(predict[199])"
   ]
  },
  {
   "cell_type": "code",
   "execution_count": 16,
   "metadata": {},
   "outputs": [],
   "source": [
    "y_pre = np.reshape(np.argmax(predict, axis=1), (predict.shape[0], 1))\n",
    "#y_pre = y_pre*150 - 50\n",
    "# tem = np.zeros((predict.shape[0], predict.shape[1]))\n",
    "# for i in range(tem.shape[1]):\n",
    "#     tem[:, i] = i\n",
    "# y_pre = np.sum(tem*predict, axis=1, keepdims=True)"
   ]
  },
  {
   "cell_type": "code",
   "execution_count": 17,
   "metadata": {},
   "outputs": [
    {
     "data": {
      "image/png": "[encoded data removed]",
      "text/plain": [
       "<matplotlib.figure.Figure at 0x18209e8ac8>"
      ]
     },
     "metadata": {},
     "output_type": "display_data"
    }
   ],
   "source": [
    "plt.subplot(211)\n",
    "plt.plot(y_test)\n",
    "plt.plot(y_pre)\n",
    "plt.legend(['real', 'prediction'], loc='upper left')\n",
    "plt.subplot(212)\n",
    "plt.plot(y_test-y_pre)\n",
    "plt.show()"
   ]
  },
  {
   "cell_type": "code",
   "execution_count": 18,
   "metadata": {},
   "outputs": [
    {
     "name": "stdout",
     "output_type": "stream",
     "text": [
      "The avarage predict error:  16.548494983277592\n"
     ]
    }
   ],
   "source": [
    "Y_error = abs(y_pre - y_test)\n",
    "print('The avarage predict error: ', np.mean(Y_error))"
   ]
  },
  {
   "cell_type": "code",
   "execution_count": null,
   "metadata": {},
   "outputs": [],
   "source": []
  }
 ],
 "metadata": {
  "kernelspec": {
   "display_name": "Python 3",
   "language": "python",
   "name": "python3"
  },
  "language_info": {
   "codemirror_mode": {
    "name": "ipython",
    "version": 3
   },
   "file_extension": ".py",
   "mimetype": "text/x-python",
   "name": "python",
   "nbconvert_exporter": "python",
   "pygments_lexer": "ipython3",
   "version": "3.6.4"
  }
 },
 "nbformat": 4,
 "nbformat_minor": 2
}
