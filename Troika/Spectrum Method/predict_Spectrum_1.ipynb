{
 "cells": [
  {
   "cell_type": "code",
   "execution_count": 1,
   "metadata": {},
   "outputs": [
    {
     "name": "stderr",
     "output_type": "stream",
     "text": [
      "/Users/xufanxiong/anaconda3/lib/python3.6/site-packages/h5py/__init__.py:36: FutureWarning: Conversion of the second argument of issubdtype from `float` to `np.floating` is deprecated. In future, it will be treated as `np.float64 == np.dtype(float).type`.\n",
      "  from ._conv import register_converters as _register_converters\n",
      "Using TensorFlow backend.\n"
     ]
    }
   ],
   "source": [
    "import numpy as np\n",
    "import matplotlib.pyplot as plt\n",
    "import scipy.io as sio\n",
    "from keras.callbacks import ModelCheckpoint\n",
    "from keras.layers.convolutional import Conv1D, MaxPooling1D\n",
    "from keras.layers import AveragePooling1D, Activation, Flatten, Dense\n",
    "from keras.layers import GlobalMaxPooling1D, Dropout\n",
    "from keras.layers import GlobalAveragePooling1D, UpSampling1D\n",
    "from keras.models import Model\n",
    "from keras.regularizers import l2\n",
    "from keras.optimizers import SGD, Adam, Nadam, Adamax\n",
    "from keras.layers.normalization import BatchNormalization\n",
    "import keras.backend as K\n",
    "from data_in_2s import data_in, normali\n",
    "from ori_model import ori_model\n",
    "from keras import metrics\n",
    "#from tqdm import tqdm\n",
    "#from sklearn.model_selection import train_test_split"
   ]
  },
  {
   "cell_type": "code",
   "execution_count": 2,
   "metadata": {},
   "outputs": [],
   "source": [
    "num_test = 1\n",
    "X_train, y_train = data_in(num_test)"
   ]
  },
  {
   "cell_type": "code",
   "execution_count": 3,
   "metadata": {},
   "outputs": [
    {
     "name": "stdout",
     "output_type": "stream",
     "text": [
      "Shape of X_train is: (6099, 1000, 5)\n",
      "Shape of y_train is: (6099, 1)\n"
     ]
    }
   ],
   "source": [
    "#Nomalization\n",
    "#y_train = (y_train-50)/150\n",
    "X_train = normali(X_train)\n",
    "print('Shape of X_train is: ' + str(X_train.shape))\n",
    "print('Shape of y_train is: ' + str(y_train.shape))"
   ]
  },
  {
   "cell_type": "code",
   "execution_count": 4,
   "metadata": {},
   "outputs": [
    {
     "name": "stdout",
     "output_type": "stream",
     "text": [
      "The shape of X_test is: (295, 1000, 5)\n",
      "The shape of y_test is: (295, 1)\n"
     ]
    }
   ],
   "source": [
    "#Import and Split test data\n",
    "\n",
    "name_x = 'Training_data/DATA_%.2d_TYPE02.mat'%num_test\n",
    "in_tem_x = sio.loadmat(name_x)['sig']\n",
    "in_tem_x = in_tem_x.T\n",
    "\n",
    "name_y = 'Training_data/DATA_%.2d_TYPE02_BPMtrace.mat'%num_test\n",
    "in_tem_y = sio.loadmat(name_y)['BPM0']\n",
    "\n",
    "X_test_tem = np.zeros((in_tem_y.shape[0]*2, 125*8, 5))\n",
    "\n",
    "k = 0\n",
    "\n",
    "for j in range(in_tem_y.shape[0]*2-1):\n",
    "\tX_test_tem[j, :, :] =  in_tem_x[k:(k+125*8), 1:]\n",
    "\tk += 125\n",
    "\n",
    "tem_y = np.zeros((in_tem_y.shape[0]*2, 1))\n",
    "index = [a*2 for a in range(in_tem_y.shape[0])]\n",
    "tem_y[index] = in_tem_y\n",
    "\n",
    "for b in range(tem_y.shape[0]-1):\n",
    "\tif tem_y[b] == 0:\n",
    "\t\ttem_y[b] = (tem_y[b-1] + tem_y[b+1])/2.\n",
    "\n",
    "y_test = tem_y[:-1, :]\n",
    "X_test = X_test_tem[:-1, :, :]\n",
    "\n",
    "#y_test = (y_test-50)/150\n",
    "X_test = normali(X_test)\n",
    "\n",
    "print('The shape of X_test is: ' + str(X_test.shape))\n",
    "print('The shape of y_test is: ' + str(y_test.shape))"
   ]
  },
  {
   "cell_type": "code",
   "execution_count": 5,
   "metadata": {},
   "outputs": [
    {
     "name": "stdout",
     "output_type": "stream",
     "text": [
      "The shape of y_train_onehot is: (6099, 110)\n",
      "The shape of y_test_onehot is: (295, 110)\n"
     ]
    }
   ],
   "source": [
    "#Convert to spectrum\n",
    "#68 - 178\n",
    "\n",
    "spe_len = 110\n",
    "y_train = np.rint(y_train)\n",
    "y_test = np.rint(y_test)\n",
    "\n",
    "y_train_onehot = np.zeros((y_train.shape[0], spe_len))\n",
    "y_test_onehot = np.zeros((y_test.shape[0], spe_len))\n",
    "\n",
    "y_train = y_train - 68\n",
    "y_test = y_test - 68\n",
    "\n",
    "for i in range(y_train.shape[0]):\n",
    "    y_train_onehot[i, int(y_train[i][0])] = 1\n",
    "    \n",
    "for i in range(y_test.shape[0]):\n",
    "    y_test_onehot[i, int(y_test[i][0])] = 1\n",
    "    \n",
    "print('The shape of y_train_onehot is: ' + str(y_train_onehot.shape))\n",
    "print('The shape of y_test_onehot is: ' + str(y_test_onehot.shape))\n"
   ]
  },
  {
   "cell_type": "code",
   "execution_count": 6,
   "metadata": {},
   "outputs": [
    {
     "name": "stderr",
     "output_type": "stream",
     "text": [
      "/Users/xufanxiong/Desktop/untitled folder 2/ori_model.py:93: UserWarning: Update your `Model` call to the Keras 2 API: `Model(inputs=Tensor(\"in..., outputs=Tensor(\"de...)`\n",
      "  model = Model(input=inputs, output=output)\n"
     ]
    }
   ],
   "source": [
    "model = ori_model((1000, 5), 8, pool_size=4)"
   ]
  },
  {
   "cell_type": "code",
   "execution_count": 7,
   "metadata": {},
   "outputs": [],
   "source": [
    "optm = Adam(lr=0.001, beta_1=0.9, beta_2=0.999, epsilon=3*10**(-4))\n",
    "def top_3_accuracy(y_true, y_pred):\n",
    "    return metrics.top_k_categorical_accuracy(y_true, y_pred, k=3)\n",
    "def top_5_accuracy(y_true, y_pred):\n",
    "    return metrics.top_k_categorical_accuracy(y_true, y_pred, k=5)\n",
    "model.compile(loss= \"categorical_crossentropy\", \n",
    "              optimizer=optm, \n",
    "              metrics=[\"accuracy\", top_5_accuracy])"
   ]
  },
  {
   "cell_type": "code",
   "execution_count": 8,
   "metadata": {
    "scrolled": true
   },
   "outputs": [
    {
     "name": "stdout",
     "output_type": "stream",
     "text": [
      "Train on 4269 samples, validate on 1830 samples\n",
      "Epoch 1/50\n",
      "4269/4269 [==============================] - 7s 2ms/step - loss: 4.7560 - acc: 0.0171 - top_5_accuracy: 0.0885 - val_loss: 4.8040 - val_acc: 0.0082 - val_top_5_accuracy: 0.0661\n",
      "\n",
      "Epoch 00001: val_top_5_accuracy improved from -inf to 0.06612, saving model to weight_spe.hdf5\n",
      "Epoch 2/50\n",
      "4269/4269 [==============================] - 5s 1ms/step - loss: 4.5053 - acc: 0.0335 - top_5_accuracy: 0.1370 - val_loss: 4.8441 - val_acc: 0.0060 - val_top_5_accuracy: 0.0377\n",
      "\n",
      "Epoch 00002: val_top_5_accuracy did not improve from 0.06612\n",
      "Epoch 3/50\n",
      "4269/4269 [==============================] - 5s 1ms/step - loss: 4.3755 - acc: 0.0377 - top_5_accuracy: 0.1691 - val_loss: 4.9035 - val_acc: 0.0109 - val_top_5_accuracy: 0.0404\n",
      "\n",
      "Epoch 00003: val_top_5_accuracy did not improve from 0.06612\n",
      "Epoch 4/50\n",
      "4269/4269 [==============================] - 5s 1ms/step - loss: 4.2349 - acc: 0.0454 - top_5_accuracy: 0.1970 - val_loss: 5.2475 - val_acc: 0.0044 - val_top_5_accuracy: 0.0339\n",
      "\n",
      "Epoch 00004: val_top_5_accuracy did not improve from 0.06612\n",
      "Epoch 5/50\n",
      "4269/4269 [==============================] - 5s 1ms/step - loss: 4.1251 - acc: 0.0623 - top_5_accuracy: 0.2174 - val_loss: 5.3659 - val_acc: 0.0049 - val_top_5_accuracy: 0.0355\n",
      "\n",
      "Epoch 00005: val_top_5_accuracy did not improve from 0.06612\n",
      "Epoch 6/50\n",
      "4269/4269 [==============================] - 5s 1ms/step - loss: 4.0021 - acc: 0.0675 - top_5_accuracy: 0.2478 - val_loss: 5.6194 - val_acc: 0.0104 - val_top_5_accuracy: 0.0448\n",
      "\n",
      "Epoch 00006: val_top_5_accuracy did not improve from 0.06612\n",
      "Epoch 7/50\n",
      "4269/4269 [==============================] - 5s 1ms/step - loss: 3.8272 - acc: 0.0752 - top_5_accuracy: 0.2933 - val_loss: 5.8194 - val_acc: 0.0093 - val_top_5_accuracy: 0.0448\n",
      "\n",
      "Epoch 00007: val_top_5_accuracy did not improve from 0.06612\n",
      "Epoch 8/50\n",
      "4269/4269 [==============================] - 5s 1ms/step - loss: 3.6734 - acc: 0.0935 - top_5_accuracy: 0.3214 - val_loss: 6.2211 - val_acc: 0.0087 - val_top_5_accuracy: 0.0317\n",
      "\n",
      "Epoch 00008: val_top_5_accuracy did not improve from 0.06612\n",
      "Epoch 9/50\n",
      "4269/4269 [==============================] - 5s 1ms/step - loss: 3.5219 - acc: 0.1094 - top_5_accuracy: 0.3703 - val_loss: 6.3578 - val_acc: 0.0158 - val_top_5_accuracy: 0.0475\n",
      "\n",
      "Epoch 00009: val_top_5_accuracy did not improve from 0.06612\n",
      "Epoch 10/50\n",
      "4269/4269 [==============================] - 5s 1ms/step - loss: 3.4130 - acc: 0.1213 - top_5_accuracy: 0.4013 - val_loss: 6.6835 - val_acc: 0.0142 - val_top_5_accuracy: 0.0443\n",
      "\n",
      "Epoch 00010: val_top_5_accuracy did not improve from 0.06612\n",
      "Epoch 11/50\n",
      "4269/4269 [==============================] - 5s 1ms/step - loss: 3.2375 - acc: 0.1403 - top_5_accuracy: 0.4558 - val_loss: 6.4176 - val_acc: 0.0126 - val_top_5_accuracy: 0.0596\n",
      "\n",
      "Epoch 00011: val_top_5_accuracy did not improve from 0.06612\n",
      "Epoch 12/50\n",
      "4269/4269 [==============================] - 5s 1ms/step - loss: 3.1302 - acc: 0.1572 - top_5_accuracy: 0.4755 - val_loss: 6.2454 - val_acc: 0.0158 - val_top_5_accuracy: 0.0749\n",
      "\n",
      "Epoch 00012: val_top_5_accuracy improved from 0.06612 to 0.07486, saving model to weight_spe.hdf5\n",
      "Epoch 13/50\n",
      "4269/4269 [==============================] - 5s 1ms/step - loss: 3.0378 - acc: 0.1668 - top_5_accuracy: 0.5078 - val_loss: 6.8945 - val_acc: 0.0219 - val_top_5_accuracy: 0.0628\n",
      "\n",
      "Epoch 00013: val_top_5_accuracy did not improve from 0.07486\n",
      "Epoch 14/50\n",
      "4269/4269 [==============================] - 5s 1ms/step - loss: 2.9331 - acc: 0.1851 - top_5_accuracy: 0.5428 - val_loss: 6.6779 - val_acc: 0.0235 - val_top_5_accuracy: 0.0770\n",
      "\n",
      "Epoch 00014: val_top_5_accuracy improved from 0.07486 to 0.07705, saving model to weight_spe.hdf5\n",
      "Epoch 15/50\n",
      "4269/4269 [==============================] - 5s 1ms/step - loss: 2.8496 - acc: 0.1933 - top_5_accuracy: 0.5690 - val_loss: 7.3469 - val_acc: 0.0224 - val_top_5_accuracy: 0.0814\n",
      "\n",
      "Epoch 00015: val_top_5_accuracy improved from 0.07705 to 0.08142, saving model to weight_spe.hdf5\n",
      "Epoch 16/50\n",
      "4269/4269 [==============================] - 5s 1ms/step - loss: 2.7755 - acc: 0.2178 - top_5_accuracy: 0.5908 - val_loss: 7.1401 - val_acc: 0.0213 - val_top_5_accuracy: 0.0656\n",
      "\n",
      "Epoch 00016: val_top_5_accuracy did not improve from 0.08142\n",
      "Epoch 17/50\n",
      "4269/4269 [==============================] - 5s 1ms/step - loss: 2.6826 - acc: 0.2307 - top_5_accuracy: 0.6222 - val_loss: 7.6929 - val_acc: 0.0257 - val_top_5_accuracy: 0.0694\n",
      "\n",
      "Epoch 00017: val_top_5_accuracy did not improve from 0.08142\n",
      "Epoch 18/50\n",
      "4269/4269 [==============================] - 5s 1ms/step - loss: 2.5874 - acc: 0.2347 - top_5_accuracy: 0.6503 - val_loss: 7.3391 - val_acc: 0.0202 - val_top_5_accuracy: 0.0754\n",
      "\n",
      "Epoch 00018: val_top_5_accuracy did not improve from 0.08142\n",
      "Epoch 19/50\n",
      "4269/4269 [==============================] - 5s 1ms/step - loss: 2.5403 - acc: 0.2460 - top_5_accuracy: 0.6629 - val_loss: 7.6833 - val_acc: 0.0230 - val_top_5_accuracy: 0.0541\n",
      "\n",
      "Epoch 00019: val_top_5_accuracy did not improve from 0.08142\n",
      "Epoch 20/50\n",
      "4269/4269 [==============================] - 5s 1ms/step - loss: 2.4725 - acc: 0.2675 - top_5_accuracy: 0.6812 - val_loss: 7.6335 - val_acc: 0.0175 - val_top_5_accuracy: 0.0798\n",
      "\n",
      "Epoch 00020: val_top_5_accuracy did not improve from 0.08142\n",
      "Epoch 21/50\n",
      "4269/4269 [==============================] - 5s 1ms/step - loss: 2.4153 - acc: 0.2727 - top_5_accuracy: 0.7079 - val_loss: 7.2797 - val_acc: 0.0273 - val_top_5_accuracy: 0.0934\n",
      "\n",
      "Epoch 00021: val_top_5_accuracy improved from 0.08142 to 0.09344, saving model to weight_spe.hdf5\n",
      "Epoch 22/50\n",
      "4269/4269 [==============================] - 5s 1ms/step - loss: 2.3522 - acc: 0.2937 - top_5_accuracy: 0.7243 - val_loss: 7.8705 - val_acc: 0.0158 - val_top_5_accuracy: 0.0902\n",
      "\n",
      "Epoch 00022: val_top_5_accuracy did not improve from 0.09344\n",
      "Epoch 23/50\n",
      "4269/4269 [==============================] - 5s 1ms/step - loss: 2.3500 - acc: 0.2902 - top_5_accuracy: 0.7236 - val_loss: 7.2585 - val_acc: 0.0284 - val_top_5_accuracy: 0.1005\n",
      "\n",
      "Epoch 00023: val_top_5_accuracy improved from 0.09344 to 0.10055, saving model to weight_spe.hdf5\n",
      "Epoch 24/50\n",
      "4269/4269 [==============================] - 5s 1ms/step - loss: 2.2931 - acc: 0.2954 - top_5_accuracy: 0.7416 - val_loss: 7.8774 - val_acc: 0.0224 - val_top_5_accuracy: 0.0956\n",
      "\n",
      "Epoch 00024: val_top_5_accuracy did not improve from 0.10055\n",
      "Epoch 25/50\n",
      "4269/4269 [==============================] - 5s 1ms/step - loss: 2.2108 - acc: 0.3193 - top_5_accuracy: 0.7641 - val_loss: 7.3696 - val_acc: 0.0175 - val_top_5_accuracy: 0.1005\n",
      "\n",
      "Epoch 00025: val_top_5_accuracy did not improve from 0.10055\n",
      "Epoch 26/50\n",
      "4269/4269 [==============================] - 5s 1ms/step - loss: 2.1954 - acc: 0.3186 - top_5_accuracy: 0.7683 - val_loss: 7.5184 - val_acc: 0.0208 - val_top_5_accuracy: 0.1066\n",
      "\n",
      "Epoch 00026: val_top_5_accuracy improved from 0.10055 to 0.10656, saving model to weight_spe.hdf5\n",
      "Epoch 27/50\n",
      "4269/4269 [==============================] - 5s 1ms/step - loss: 2.1406 - acc: 0.3364 - top_5_accuracy: 0.7843 - val_loss: 7.5237 - val_acc: 0.0306 - val_top_5_accuracy: 0.1175\n",
      "\n",
      "Epoch 00027: val_top_5_accuracy improved from 0.10656 to 0.11749, saving model to weight_spe.hdf5\n",
      "Epoch 28/50\n",
      "4269/4269 [==============================] - 5s 1ms/step - loss: 2.0997 - acc: 0.3375 - top_5_accuracy: 0.7953 - val_loss: 7.5343 - val_acc: 0.0273 - val_top_5_accuracy: 0.1093\n",
      "\n",
      "Epoch 00028: val_top_5_accuracy did not improve from 0.11749\n",
      "Epoch 29/50\n",
      "4269/4269 [==============================] - 5s 1ms/step - loss: 2.0418 - acc: 0.3589 - top_5_accuracy: 0.8103 - val_loss: 8.2106 - val_acc: 0.0235 - val_top_5_accuracy: 0.0891\n",
      "\n",
      "Epoch 00029: val_top_5_accuracy did not improve from 0.11749\n",
      "Epoch 30/50\n",
      "4269/4269 [==============================] - 5s 1ms/step - loss: 2.0349 - acc: 0.3612 - top_5_accuracy: 0.8154 - val_loss: 7.4842 - val_acc: 0.0306 - val_top_5_accuracy: 0.1071\n",
      "\n",
      "Epoch 00030: val_top_5_accuracy did not improve from 0.11749\n",
      "Epoch 31/50\n",
      "4269/4269 [==============================] - 5s 1ms/step - loss: 1.9820 - acc: 0.3668 - top_5_accuracy: 0.8210 - val_loss: 7.3239 - val_acc: 0.0333 - val_top_5_accuracy: 0.1180\n",
      "\n",
      "Epoch 00031: val_top_5_accuracy improved from 0.11749 to 0.11803, saving model to weight_spe.hdf5\n",
      "Epoch 32/50\n"
     ]
    },
    {
     "name": "stdout",
     "output_type": "stream",
     "text": [
      "4269/4269 [==============================] - 5s 1ms/step - loss: 1.9539 - acc: 0.3776 - top_5_accuracy: 0.8360 - val_loss: 7.8229 - val_acc: 0.0311 - val_top_5_accuracy: 0.1208\n",
      "\n",
      "Epoch 00032: val_top_5_accuracy improved from 0.11803 to 0.12077, saving model to weight_spe.hdf5\n",
      "Epoch 33/50\n",
      "4269/4269 [==============================] - 5s 1ms/step - loss: 1.9101 - acc: 0.3966 - top_5_accuracy: 0.8412 - val_loss: 8.3001 - val_acc: 0.0230 - val_top_5_accuracy: 0.1022\n",
      "\n",
      "Epoch 00033: val_top_5_accuracy did not improve from 0.12077\n",
      "Epoch 34/50\n",
      "4269/4269 [==============================] - 5s 1ms/step - loss: 1.8774 - acc: 0.4041 - top_5_accuracy: 0.8573 - val_loss: 7.6082 - val_acc: 0.0322 - val_top_5_accuracy: 0.1273\n",
      "\n",
      "Epoch 00034: val_top_5_accuracy improved from 0.12077 to 0.12732, saving model to weight_spe.hdf5\n",
      "Epoch 35/50\n",
      "4269/4269 [==============================] - 5s 1ms/step - loss: 1.8488 - acc: 0.4027 - top_5_accuracy: 0.8602 - val_loss: 7.9134 - val_acc: 0.0355 - val_top_5_accuracy: 0.1191\n",
      "\n",
      "Epoch 00035: val_top_5_accuracy did not improve from 0.12732\n",
      "Epoch 36/50\n",
      "4269/4269 [==============================] - 5s 1ms/step - loss: 1.8016 - acc: 0.4130 - top_5_accuracy: 0.8716 - val_loss: 8.1960 - val_acc: 0.0262 - val_top_5_accuracy: 0.1071\n",
      "\n",
      "Epoch 00036: val_top_5_accuracy did not improve from 0.12732\n",
      "Epoch 37/50\n",
      "4269/4269 [==============================] - 5s 1ms/step - loss: 1.7609 - acc: 0.4369 - top_5_accuracy: 0.8838 - val_loss: 7.4858 - val_acc: 0.0311 - val_top_5_accuracy: 0.1306\n",
      "\n",
      "Epoch 00037: val_top_5_accuracy improved from 0.12732 to 0.13060, saving model to weight_spe.hdf5\n",
      "Epoch 38/50\n",
      "4269/4269 [==============================] - 5s 1ms/step - loss: 1.7594 - acc: 0.4376 - top_5_accuracy: 0.8812 - val_loss: 7.6938 - val_acc: 0.0306 - val_top_5_accuracy: 0.1257\n",
      "\n",
      "Epoch 00038: val_top_5_accuracy did not improve from 0.13060\n",
      "Epoch 39/50\n",
      "4269/4269 [==============================] - 5s 1ms/step - loss: 1.7738 - acc: 0.4416 - top_5_accuracy: 0.8737 - val_loss: 7.1651 - val_acc: 0.0333 - val_top_5_accuracy: 0.1317\n",
      "\n",
      "Epoch 00039: val_top_5_accuracy improved from 0.13060 to 0.13169, saving model to weight_spe.hdf5\n",
      "Epoch 40/50\n",
      "4269/4269 [==============================] - 5s 1ms/step - loss: 1.7211 - acc: 0.4444 - top_5_accuracy: 0.8927 - val_loss: 7.3835 - val_acc: 0.0301 - val_top_5_accuracy: 0.1415\n",
      "\n",
      "Epoch 00040: val_top_5_accuracy improved from 0.13169 to 0.14153, saving model to weight_spe.hdf5\n",
      "Epoch 41/50\n",
      "4269/4269 [==============================] - 5s 1ms/step - loss: 1.6978 - acc: 0.4556 - top_5_accuracy: 0.8911 - val_loss: 7.6159 - val_acc: 0.0328 - val_top_5_accuracy: 0.1262\n",
      "\n",
      "Epoch 00041: val_top_5_accuracy did not improve from 0.14153\n",
      "Epoch 42/50\n",
      "4269/4269 [==============================] - 5s 1ms/step - loss: 1.6628 - acc: 0.4640 - top_5_accuracy: 0.8986 - val_loss: 8.1722 - val_acc: 0.0317 - val_top_5_accuracy: 0.1109\n",
      "\n",
      "Epoch 00042: val_top_5_accuracy did not improve from 0.14153\n",
      "Epoch 43/50\n",
      "4269/4269 [==============================] - 5s 1ms/step - loss: 1.6589 - acc: 0.4664 - top_5_accuracy: 0.8988 - val_loss: 8.3126 - val_acc: 0.0262 - val_top_5_accuracy: 0.1082\n",
      "\n",
      "Epoch 00043: val_top_5_accuracy did not improve from 0.14153\n",
      "Epoch 44/50\n",
      "4269/4269 [==============================] - 5s 1ms/step - loss: 1.6343 - acc: 0.4746 - top_5_accuracy: 0.9054 - val_loss: 8.7519 - val_acc: 0.0246 - val_top_5_accuracy: 0.0918\n",
      "\n",
      "Epoch 00044: val_top_5_accuracy did not improve from 0.14153\n",
      "Epoch 45/50\n",
      "4269/4269 [==============================] - 5s 1ms/step - loss: 1.5974 - acc: 0.4823 - top_5_accuracy: 0.9056 - val_loss: 8.1071 - val_acc: 0.0301 - val_top_5_accuracy: 0.1126\n",
      "\n",
      "Epoch 00045: val_top_5_accuracy did not improve from 0.14153\n",
      "Epoch 46/50\n",
      "4269/4269 [==============================] - 5s 1ms/step - loss: 1.5332 - acc: 0.5048 - top_5_accuracy: 0.9154 - val_loss: 7.3860 - val_acc: 0.0415 - val_top_5_accuracy: 0.1415\n",
      "\n",
      "Epoch 00046: val_top_5_accuracy did not improve from 0.14153\n",
      "Epoch 47/50\n",
      "4269/4269 [==============================] - 5s 1ms/step - loss: 1.5630 - acc: 0.4875 - top_5_accuracy: 0.9140 - val_loss: 8.5462 - val_acc: 0.0295 - val_top_5_accuracy: 0.1115\n",
      "\n",
      "Epoch 00047: val_top_5_accuracy did not improve from 0.14153\n",
      "Epoch 48/50\n",
      "4269/4269 [==============================] - 5s 1ms/step - loss: 1.4958 - acc: 0.5149 - top_5_accuracy: 0.9260 - val_loss: 8.2369 - val_acc: 0.0328 - val_top_5_accuracy: 0.1377\n",
      "\n",
      "Epoch 00048: val_top_5_accuracy did not improve from 0.14153\n",
      "Epoch 49/50\n",
      "4269/4269 [==============================] - 5s 1ms/step - loss: 1.4703 - acc: 0.5273 - top_5_accuracy: 0.9281 - val_loss: 8.4342 - val_acc: 0.0339 - val_top_5_accuracy: 0.1317\n",
      "\n",
      "Epoch 00049: val_top_5_accuracy did not improve from 0.14153\n",
      "Epoch 50/50\n",
      "4269/4269 [==============================] - 5s 1ms/step - loss: 1.4833 - acc: 0.5240 - top_5_accuracy: 0.9344 - val_loss: 7.9871 - val_acc: 0.0317 - val_top_5_accuracy: 0.1388\n",
      "\n",
      "Epoch 00050: val_top_5_accuracy did not improve from 0.14153\n"
     ]
    }
   ],
   "source": [
    "filepath=\"weight_spe.hdf5\"\n",
    "checkpoint = ModelCheckpoint(filepath, \n",
    "                             monitor='val_top_5_accuracy', \n",
    "                             verbose=1, \n",
    "                             save_best_only=True,\n",
    "                             mode='max')\n",
    "callbacks_list = [checkpoint]\n",
    "history = model.fit(X_train, y_train_onehot, \n",
    "                    epochs=50, \n",
    "                    batch_size=128, \n",
    "                    validation_split=0.3, \n",
    "                    callbacks=callbacks_list,\n",
    "                    shuffle=True,\n",
    "                    verbose=1)"
   ]
  },
  {
   "cell_type": "code",
   "execution_count": 9,
   "metadata": {},
   "outputs": [
    {
     "data": {
      "image/png": "[encoded data removed]",
      "text/plain": [
       "<matplotlib.figure.Figure at 0x182125f860>"
      ]
     },
     "metadata": {},
     "output_type": "display_data"
    }
   ],
   "source": [
    "plt.plot(history.history['acc'])\n",
    "plt.plot(history.history['val_acc'])\n",
    "plt.plot(history.history['val_top_5_accuracy'])\n",
    "plt.title('model accuracy')\n",
    "plt.ylabel('accuracy')\n",
    "plt.xlabel('epoch')\n",
    "plt.legend(['train', 'valid_1', 'valid_3'], loc='upper left')\n",
    "plt.show()"
   ]
  },
  {
   "cell_type": "code",
   "execution_count": 10,
   "metadata": {},
   "outputs": [
    {
     "data": {
      "image/png": "[encoded data removed]",
      "text/plain": [
       "<matplotlib.figure.Figure at 0x182125ff28>"
      ]
     },
     "metadata": {},
     "output_type": "display_data"
    }
   ],
   "source": [
    "plt.plot(history.history['loss'])\n",
    "plt.plot(history.history['val_loss'])\n",
    "plt.title('model loss')\n",
    "plt.ylabel('loss')\n",
    "plt.xlabel('epoch')\n",
    "plt.legend(['train', 'validation'], loc='upper left')\n",
    "plt.show()"
   ]
  },
  {
   "cell_type": "code",
   "execution_count": 11,
   "metadata": {},
   "outputs": [],
   "source": [
    "filepath=\"weight_spe.hdf5\"\n",
    "model.load_weights(filepath)"
   ]
  },
  {
   "cell_type": "code",
   "execution_count": 12,
   "metadata": {},
   "outputs": [],
   "source": [
    "predict = model.predict(X_test)"
   ]
  },
  {
   "cell_type": "code",
   "execution_count": 13,
   "metadata": {},
   "outputs": [
    {
     "data": {
      "text/plain": [
       "(295, 110)"
      ]
     },
     "execution_count": 13,
     "metadata": {},
     "output_type": "execute_result"
    }
   ],
   "source": [
    "predict.shape"
   ]
  },
  {
   "cell_type": "code",
   "execution_count": 14,
   "metadata": {},
   "outputs": [
    {
     "name": "stdout",
     "output_type": "stream",
     "text": [
      "295/295 [==============================] - 0s 386us/step\n",
      "\n",
      "Loss = 11.08697572643474\n",
      "Test Accuracy = 0.003389830508474576\n"
     ]
    }
   ],
   "source": [
    "#evaluate\n",
    "eva = model.evaluate(X_test, y_test_onehot, batch_size=32, verbose=1, sample_weight=None)\n",
    "print()\n",
    "print(\"Loss = \" + str(eva[0]))\n",
    "print(\"Test Accuracy = \" + str(eva[1]))"
   ]
  },
  {
   "cell_type": "code",
   "execution_count": 18,
   "metadata": {},
   "outputs": [],
   "source": [
    "y_pre = np.reshape(np.argmax(predict, axis=1), (predict.shape[0], 1))\n",
    "#y_pre = y_pre*150 - 50"
   ]
  },
  {
   "cell_type": "code",
   "execution_count": 19,
   "metadata": {},
   "outputs": [
    {
     "data": {
      "image/png": "[encoded data removed]",
      "text/plain": [
       "<matplotlib.figure.Figure at 0x11316f898>"
      ]
     },
     "metadata": {},
     "output_type": "display_data"
    }
   ],
   "source": [
    "plt.subplot(211)\n",
    "plt.plot(y_test)\n",
    "plt.plot(y_pre)\n",
    "plt.legend(['real', 'prediction'], loc='upper left')\n",
    "plt.subplot(212)\n",
    "plt.plot(y_test-y_pre)\n",
    "plt.show()"
   ]
  },
  {
   "cell_type": "code",
   "execution_count": 20,
   "metadata": {},
   "outputs": [
    {
     "name": "stdout",
     "output_type": "stream",
     "text": [
      "The avarage predict error:  45.603389830508476\n"
     ]
    }
   ],
   "source": [
    "Y_error = abs(y_pre - y_test)\n",
    "print('The avarage predict error: ', np.mean(Y_error))"
   ]
  },
  {
   "cell_type": "code",
   "execution_count": null,
   "metadata": {},
   "outputs": [],
   "source": []
  }
 ],
 "metadata": {
  "kernelspec": {
   "display_name": "Python 3",
   "language": "python",
   "name": "python3"
  },
  "language_info": {
   "codemirror_mode": {
    "name": "ipython",
    "version": 3
   },
   "file_extension": ".py",
   "mimetype": "text/x-python",
   "name": "python",
   "nbconvert_exporter": "python",
   "pygments_lexer": "ipython3",
   "version": "3.6.4"
  }
 },
 "nbformat": 4,
 "nbformat_minor": 2
}
