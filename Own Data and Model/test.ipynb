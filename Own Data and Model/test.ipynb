{
 "cells": [
  {
   "cell_type": "code",
   "execution_count": 1,
   "metadata": {},
   "outputs": [
    {
     "name": "stderr",
     "output_type": "stream",
     "text": [
      "/Users/xufanxiong/anaconda3/lib/python3.6/site-packages/h5py/__init__.py:36: FutureWarning: Conversion of the second argument of issubdtype from `float` to `np.floating` is deprecated. In future, it will be treated as `np.float64 == np.dtype(float).type`.\n",
      "  from ._conv import register_converters as _register_converters\n",
      "Using TensorFlow backend.\n"
     ]
    }
   ],
   "source": [
    "import numpy as np\n",
    "import matplotlib.pyplot as plt\n",
    "import scipy.io as sio\n",
    "from autoencoder import autoencoder\n",
    "from keras.callbacks import ModelCheckpoint\n",
    "from keras.layers.convolutional import Conv1D, MaxPooling1D\n",
    "from keras.layers import AveragePooling1D, Activation, Flatten, Dense\n",
    "from keras.layers import GlobalMaxPooling1D\n",
    "from keras.layers import GlobalAveragePooling1D, UpSampling1D\n",
    "from keras.models import Model\n",
    "from keras.regularizers import l2\n",
    "from keras.optimizers import SGD, Adam, Nadam, Adamax\n",
    "#from sklearn.model_selection import train_test_split"
   ]
  },
  {
   "cell_type": "code",
   "execution_count": 2,
   "metadata": {},
   "outputs": [],
   "source": [
    "np.random.seed(1)\n",
    "\n",
    "dTrain1 = sio.loadmat('Train_1_Correct_PPG1_TimeDist3.mat')\n",
    "dTrain2 = sio.loadmat('Train_1_Correct_PPG2_TimeDist3.mat')"
   ]
  },
  {
   "cell_type": "code",
   "execution_count": 3,
   "metadata": {},
   "outputs": [
    {
     "name": "stdout",
     "output_type": "stream",
     "text": [
      "Shape of signalTrain1: (6716, 3, 1200)\n",
      "Shape of signalTrain2 (6716, 3, 1200)\n",
      "Shape of signalTrain: (6716, 3, 1200, 2)\n",
      "Shape of heartTrain: (6716, 1)\n"
     ]
    }
   ],
   "source": [
    "heartTrain = (dTrain1['Hr_train1'] - 50) / 150\n",
    "\n",
    "signalTrain1 = dTrain1['Train1']\n",
    "signalTrain2 = dTrain2['Train2']\n",
    "\n",
    "s1 = signalTrain1.shape\n",
    "signalTrain = np.zeros((s1[0], s1[1], s1[2], 2))\n",
    "\n",
    "signalTrain[:, :, :, 0] = signalTrain1\n",
    "signalTrain[:, :, :, 1] = signalTrain2\n",
    "\n",
    "print('Shape of signalTrain1: ' + str(signalTrain1.shape))\n",
    "print('Shape of signalTrain2 ' + str(signalTrain2.shape))\n",
    "print('Shape of signalTrain: ' + str(signalTrain.shape))\n",
    "print('Shape of heartTrain: ' + str(heartTrain.shape))"
   ]
  },
  {
   "cell_type": "code",
   "execution_count": 4,
   "metadata": {},
   "outputs": [],
   "source": [
    "#plt.plot(range(1200), signalTrain[10,2,:,1])"
   ]
  },
  {
   "cell_type": "code",
   "execution_count": 5,
   "metadata": {},
   "outputs": [],
   "source": [
    "np.random.seed(1)\n",
    "\n",
    "dTest1 = sio.loadmat('Test_1_Correct_PPG1_TimeDist3.mat')\n",
    "dTest2 = sio.loadmat('Test_1_Correct_PPG2_TimeDist3.mat')"
   ]
  },
  {
   "cell_type": "code",
   "execution_count": 6,
   "metadata": {},
   "outputs": [
    {
     "name": "stdout",
     "output_type": "stream",
     "text": [
      "Shape of signalTestA1: (230, 3, 1200)\n",
      "Shape of signalTestA2: (230, 3, 1200)\n",
      "Shape of signalTestA: (230, 3, 1200, 2)\n",
      "Shape of heartTestA: (230, 1)\n"
     ]
    }
   ],
   "source": [
    "heartTestA = (dTest1['Hr_testA1'] - 50) / 150\n",
    "\n",
    "signalTestA1 = dTest1['TestA1']\n",
    "signalTestA2 = dTest2['TestA2']\n",
    "\n",
    "s2 = signalTestA1.shape\n",
    "signalTestA = np.zeros((s2[0], s2[1], s2[2], 2))\n",
    "\n",
    "signalTestA[:, :, :, 0] = signalTestA1\n",
    "signalTestA[:, :, :, 1] = signalTestA2\n",
    "\n",
    "print('Shape of signalTestA1: ' + str(signalTestA1.shape))\n",
    "print('Shape of signalTestA2: ' + str(signalTestA2.shape))\n",
    "print('Shape of signalTestA: ' + str(signalTestA.shape))\n",
    "print('Shape of heartTestA: ' + str(heartTestA.shape))"
   ]
  },
  {
   "cell_type": "code",
   "execution_count": 7,
   "metadata": {},
   "outputs": [],
   "source": [
    "np.random.seed(1)\n",
    "\n",
    "dTest1 = sio.loadmat('Low_1_Correct_PPG1_TimeDist3.mat')\n",
    "dTest2 = sio.loadmat('Low_1_Correct_PPG2_TimeDist3.mat')"
   ]
  },
  {
   "cell_type": "code",
   "execution_count": 8,
   "metadata": {},
   "outputs": [
    {
     "name": "stdout",
     "output_type": "stream",
     "text": [
      "Shape of signalTestB1: (230, 3, 1200)\n",
      "Shape of signalTestB2: (230, 3, 1200)\n",
      "Shape of signalTestB: (230, 3, 1200, 2)\n",
      "Shape of heartTestB: (230, 1)\n"
     ]
    }
   ],
   "source": [
    "heartTestB = (dTest1['Hr_testA1'] - 50) / 150\n",
    "\n",
    "signalTestB1 = dTest1['TestA1']\n",
    "signalTestB2 = dTest2['TestA2']\n",
    "\n",
    "s3 = signalTestB1.shape\n",
    "signalTestB = np.zeros((s3[0], s3[1], s3[2], 2))\n",
    "\n",
    "signalTestB[:, :, :, 0] = signalTestB1\n",
    "signalTestB[:, :, :, 1] = signalTestB2\n",
    "\n",
    "print('Shape of signalTestB1: ' + str(signalTestB1.shape))\n",
    "print('Shape of signalTestB2: ' + str(signalTestB2.shape))\n",
    "print('Shape of signalTestB: ' + str(signalTestB.shape))\n",
    "print('Shape of heartTestB: ' + str(heartTestB.shape))"
   ]
  },
  {
   "cell_type": "code",
   "execution_count": 9,
   "metadata": {},
   "outputs": [],
   "source": [
    "X_train = signalTrain[:, 2, :, :]\n",
    "Y_train = heartTrain\n",
    "X_test1 = signalTestA[:, 2, :, :]\n",
    "Y_test1 = heartTestA\n",
    "X_test2 = signalTestB[:, 2, :, :]\n",
    "Y_test2 = heartTestB"
   ]
  },
  {
   "cell_type": "code",
   "execution_count": 10,
   "metadata": {},
   "outputs": [
    {
     "data": {
      "text/plain": [
       "(230, 1200, 2)"
      ]
     },
     "execution_count": 10,
     "metadata": {},
     "output_type": "execute_result"
    }
   ],
   "source": [
    "X_test1.shape"
   ]
  },
  {
   "cell_type": "code",
   "execution_count": 11,
   "metadata": {},
   "outputs": [],
   "source": [
    "def normali(input):\n",
    "    tem = input[:, :, 0]\n",
    "    tem = tem/np.dot((np.max(tem, axis=1, keepdims=True)-np.min(tem, axis=1, keepdims=True)), np.ones((1, 1200)))\n",
    "    input[:, :, 0] = tem\n",
    "    \n",
    "    tem = input[:, :, 1]\n",
    "    tem = tem/np.dot((np.max(tem, axis=1, keepdims=True)-np.min(tem, axis=1, keepdims=True)), np.ones((1, 1200)))\n",
    "    input[:, :, 1] = tem\n",
    "    \n",
    "    return input"
   ]
  },
  {
   "cell_type": "code",
   "execution_count": 12,
   "metadata": {},
   "outputs": [],
   "source": [
    "X_train = normali(X_train)\n",
    "X_test1 = normali(X_test1)\n",
    "X_test2 = normali(X_test2)"
   ]
  },
  {
   "cell_type": "code",
   "execution_count": 13,
   "metadata": {},
   "outputs": [
    {
     "data": {
      "text/plain": [
       "[<matplotlib.lines.Line2D at 0x11521c1d0>]"
      ]
     },
     "execution_count": 13,
     "metadata": {},
     "output_type": "execute_result"
    },
    {
     "data": {
      "image/png": "[encoded data removed]",
      "text/plain": [
       "<matplotlib.figure.Figure at 0x11521c198>"
      ]
     },
     "metadata": {},
     "output_type": "display_data"
    }
   ],
   "source": [
    "num_input = 439\n",
    "plt.plot(range(1200), X_train[num_input, :, 1])\n",
    "plt.plot(range(1200), X_train[num_input, :, 0])"
   ]
  },
  {
   "cell_type": "code",
   "execution_count": 14,
   "metadata": {},
   "outputs": [],
   "source": [
    "model = autoencoder((1200, 2))"
   ]
  },
  {
   "cell_type": "code",
   "execution_count": 15,
   "metadata": {},
   "outputs": [],
   "source": [
    "optm = Adam(lr=0.001, beta_1=0.9, beta_2=0.999, epsilon=3*10**(-4))\n",
    "model.compile(loss= \"mse\", \n",
    "              optimizer=optm, \n",
    "              metrics=[\"mse\"])"
   ]
  },
  {
   "cell_type": "code",
   "execution_count": 16,
   "metadata": {},
   "outputs": [
    {
     "name": "stdout",
     "output_type": "stream",
     "text": [
      "Train on 5037 samples, validate on 1679 samples\n",
      "Epoch 1/50\n",
      "5037/5037 [==============================] - 22s 4ms/step - loss: 0.0553 - mean_squared_error: 0.0126 - val_loss: 0.0463 - val_mean_squared_error: 0.0047\n",
      "\n",
      "Epoch 00001: val_mean_squared_error improved from inf to 0.00474, saving model to weight_3.hdf5\n",
      "Epoch 2/50\n",
      "5037/5037 [==============================] - 19s 4ms/step - loss: 0.0437 - mean_squared_error: 0.0037 - val_loss: 0.0414 - val_mean_squared_error: 0.0030\n",
      "\n",
      "Epoch 00002: val_mean_squared_error improved from 0.00474 to 0.00305, saving model to weight_3.hdf5\n",
      "Epoch 3/50\n",
      "5037/5037 [==============================] - 19s 4ms/step - loss: 0.0394 - mean_squared_error: 0.0029 - val_loss: 0.0374 - val_mean_squared_error: 0.0027\n",
      "\n",
      "Epoch 00003: val_mean_squared_error improved from 0.00305 to 0.00271, saving model to weight_3.hdf5\n",
      "Epoch 4/50\n",
      "5037/5037 [==============================] - 20s 4ms/step - loss: 0.0354 - mean_squared_error: 0.0025 - val_loss: 0.0335 - val_mean_squared_error: 0.0025\n",
      "\n",
      "Epoch 00004: val_mean_squared_error improved from 0.00271 to 0.00247, saving model to weight_3.hdf5\n",
      "Epoch 5/50\n",
      "5037/5037 [==============================] - 21s 4ms/step - loss: 0.0315 - mean_squared_error: 0.0023 - val_loss: 0.0297 - val_mean_squared_error: 0.0023\n",
      "\n",
      "Epoch 00005: val_mean_squared_error improved from 0.00247 to 0.00228, saving model to weight_3.hdf5\n",
      "Epoch 6/50\n",
      "5037/5037 [==============================] - 19s 4ms/step - loss: 0.0280 - mean_squared_error: 0.0022 - val_loss: 0.0264 - val_mean_squared_error: 0.0022\n",
      "\n",
      "Epoch 00006: val_mean_squared_error improved from 0.00228 to 0.00219, saving model to weight_3.hdf5\n",
      "Epoch 7/50\n",
      "5037/5037 [==============================] - 21s 4ms/step - loss: 0.0248 - mean_squared_error: 0.0021 - val_loss: 0.0233 - val_mean_squared_error: 0.0021\n",
      "\n",
      "Epoch 00007: val_mean_squared_error improved from 0.00219 to 0.00208, saving model to weight_3.hdf5\n",
      "Epoch 8/50\n",
      "5037/5037 [==============================] - 19s 4ms/step - loss: 0.0219 - mean_squared_error: 0.0020 - val_loss: 0.0205 - val_mean_squared_error: 0.0019\n",
      "\n",
      "Epoch 00008: val_mean_squared_error improved from 0.00208 to 0.00195, saving model to weight_3.hdf5\n",
      "Epoch 9/50\n",
      "5037/5037 [==============================] - 19s 4ms/step - loss: 0.0193 - mean_squared_error: 0.0019 - val_loss: 0.0182 - val_mean_squared_error: 0.0019\n",
      "\n",
      "Epoch 00009: val_mean_squared_error did not improve from 0.00195\n",
      "Epoch 10/50\n",
      "5037/5037 [==============================] - 19s 4ms/step - loss: 0.0171 - mean_squared_error: 0.0019 - val_loss: 0.0161 - val_mean_squared_error: 0.0019\n",
      "\n",
      "Epoch 00010: val_mean_squared_error improved from 0.00195 to 0.00189, saving model to weight_3.hdf5\n",
      "Epoch 11/50\n",
      "5037/5037 [==============================] - 19s 4ms/step - loss: 0.0151 - mean_squared_error: 0.0019 - val_loss: 0.0143 - val_mean_squared_error: 0.0019\n",
      "\n",
      "Epoch 00011: val_mean_squared_error improved from 0.00189 to 0.00187, saving model to weight_3.hdf5\n",
      "Epoch 12/50\n",
      "5037/5037 [==============================] - 20s 4ms/step - loss: 0.0134 - mean_squared_error: 0.0018 - val_loss: 0.0127 - val_mean_squared_error: 0.0018\n",
      "\n",
      "Epoch 00012: val_mean_squared_error improved from 0.00187 to 0.00183, saving model to weight_3.hdf5\n",
      "Epoch 13/50\n",
      "5037/5037 [==============================] - 19s 4ms/step - loss: 0.0120 - mean_squared_error: 0.0018 - val_loss: 0.0113 - val_mean_squared_error: 0.0018\n",
      "\n",
      "Epoch 00013: val_mean_squared_error improved from 0.00183 to 0.00176, saving model to weight_3.hdf5\n",
      "Epoch 14/50\n",
      "5037/5037 [==============================] - 19s 4ms/step - loss: 0.0107 - mean_squared_error: 0.0017 - val_loss: 0.0101 - val_mean_squared_error: 0.0017\n",
      "\n",
      "Epoch 00014: val_mean_squared_error improved from 0.00176 to 0.00170, saving model to weight_3.hdf5\n",
      "Epoch 15/50\n",
      "5037/5037 [==============================] - 20s 4ms/step - loss: 0.0096 - mean_squared_error: 0.0017 - val_loss: 0.0092 - val_mean_squared_error: 0.0017\n",
      "\n",
      "Epoch 00015: val_mean_squared_error improved from 0.00170 to 0.00170, saving model to weight_3.hdf5\n",
      "Epoch 16/50\n",
      "5037/5037 [==============================] - 20s 4ms/step - loss: 0.0087 - mean_squared_error: 0.0017 - val_loss: 0.0083 - val_mean_squared_error: 0.0017\n",
      "\n",
      "Epoch 00016: val_mean_squared_error improved from 0.00170 to 0.00166, saving model to weight_3.hdf5\n",
      "Epoch 17/50\n",
      "5037/5037 [==============================] - 20s 4ms/step - loss: 0.0079 - mean_squared_error: 0.0017 - val_loss: 0.0076 - val_mean_squared_error: 0.0017\n",
      "\n",
      "Epoch 00017: val_mean_squared_error did not improve from 0.00166\n",
      "Epoch 18/50\n",
      "5037/5037 [==============================] - 19s 4ms/step - loss: 0.0073 - mean_squared_error: 0.0016 - val_loss: 0.0070 - val_mean_squared_error: 0.0017\n",
      "\n",
      "Epoch 00018: val_mean_squared_error did not improve from 0.00166\n",
      "Epoch 19/50\n",
      "5037/5037 [==============================] - 20s 4ms/step - loss: 0.0067 - mean_squared_error: 0.0016 - val_loss: 0.0064 - val_mean_squared_error: 0.0016\n",
      "\n",
      "Epoch 00019: val_mean_squared_error improved from 0.00166 to 0.00159, saving model to weight_3.hdf5\n",
      "Epoch 20/50\n",
      "5037/5037 [==============================] - 20s 4ms/step - loss: 0.0062 - mean_squared_error: 0.0016 - val_loss: 0.0060 - val_mean_squared_error: 0.0016\n",
      "\n",
      "Epoch 00020: val_mean_squared_error improved from 0.00159 to 0.00156, saving model to weight_3.hdf5\n",
      "Epoch 21/50\n",
      "5037/5037 [==============================] - 20s 4ms/step - loss: 0.0058 - mean_squared_error: 0.0016 - val_loss: 0.0056 - val_mean_squared_error: 0.0016\n",
      "\n",
      "Epoch 00021: val_mean_squared_error did not improve from 0.00156\n",
      "Epoch 22/50\n",
      "5037/5037 [==============================] - 19s 4ms/step - loss: 0.0054 - mean_squared_error: 0.0016 - val_loss: 0.0052 - val_mean_squared_error: 0.0015\n",
      "\n",
      "Epoch 00022: val_mean_squared_error improved from 0.00156 to 0.00150, saving model to weight_3.hdf5\n",
      "Epoch 23/50\n",
      "5037/5037 [==============================] - 19s 4ms/step - loss: 0.0051 - mean_squared_error: 0.0016 - val_loss: 0.0054 - val_mean_squared_error: 0.0020\n",
      "\n",
      "Epoch 00023: val_mean_squared_error did not improve from 0.00150\n",
      "Epoch 24/50\n",
      "5037/5037 [==============================] - 19s 4ms/step - loss: 0.0049 - mean_squared_error: 0.0016 - val_loss: 0.0047 - val_mean_squared_error: 0.0015\n",
      "\n",
      "Epoch 00024: val_mean_squared_error did not improve from 0.00150\n",
      "Epoch 25/50\n",
      "5037/5037 [==============================] - 20s 4ms/step - loss: 0.0046 - mean_squared_error: 0.0015 - val_loss: 0.0046 - val_mean_squared_error: 0.0016\n",
      "\n",
      "Epoch 00025: val_mean_squared_error did not improve from 0.00150\n",
      "Epoch 26/50\n",
      "5037/5037 [==============================] - 20s 4ms/step - loss: 0.0045 - mean_squared_error: 0.0015 - val_loss: 0.0045 - val_mean_squared_error: 0.0016\n",
      "\n",
      "Epoch 00026: val_mean_squared_error did not improve from 0.00150\n",
      "Epoch 27/50\n",
      "5037/5037 [==============================] - 20s 4ms/step - loss: 0.0043 - mean_squared_error: 0.0015 - val_loss: 0.0042 - val_mean_squared_error: 0.0015\n",
      "\n",
      "Epoch 00027: val_mean_squared_error improved from 0.00150 to 0.00147, saving model to weight_3.hdf5\n",
      "Epoch 28/50\n",
      "5037/5037 [==============================] - 19s 4ms/step - loss: 0.0042 - mean_squared_error: 0.0015 - val_loss: 0.0041 - val_mean_squared_error: 0.0016\n",
      "\n",
      "Epoch 00028: val_mean_squared_error did not improve from 0.00147\n",
      "Epoch 29/50\n",
      "5037/5037 [==============================] - 19s 4ms/step - loss: 0.0040 - mean_squared_error: 0.0015 - val_loss: 0.0039 - val_mean_squared_error: 0.0014\n",
      "\n",
      "Epoch 00029: val_mean_squared_error improved from 0.00147 to 0.00143, saving model to weight_3.hdf5\n",
      "Epoch 30/50\n",
      "5037/5037 [==============================] - 19s 4ms/step - loss: 0.0039 - mean_squared_error: 0.0015 - val_loss: 0.0039 - val_mean_squared_error: 0.0015\n",
      "\n",
      "Epoch 00030: val_mean_squared_error did not improve from 0.00143\n",
      "Epoch 31/50\n",
      "5037/5037 [==============================] - 19s 4ms/step - loss: 0.0039 - mean_squared_error: 0.0015 - val_loss: 0.0038 - val_mean_squared_error: 0.0015\n",
      "\n",
      "Epoch 00031: val_mean_squared_error did not improve from 0.00143\n",
      "Epoch 32/50\n",
      "5037/5037 [==============================] - 20s 4ms/step - loss: 0.0037 - mean_squared_error: 0.0015 - val_loss: 0.0037 - val_mean_squared_error: 0.0015\n",
      "\n",
      "Epoch 00032: val_mean_squared_error did not improve from 0.00143\n",
      "Epoch 33/50\n",
      "5037/5037 [==============================] - 19s 4ms/step - loss: 0.0037 - mean_squared_error: 0.0015 - val_loss: 0.0037 - val_mean_squared_error: 0.0015\n",
      "\n",
      "Epoch 00033: val_mean_squared_error did not improve from 0.00143\n",
      "Epoch 34/50\n",
      "5037/5037 [==============================] - 19s 4ms/step - loss: 0.0036 - mean_squared_error: 0.0015 - val_loss: 0.0036 - val_mean_squared_error: 0.0015\n",
      "\n",
      "Epoch 00034: val_mean_squared_error did not improve from 0.00143\n",
      "Epoch 35/50\n",
      "5037/5037 [==============================] - 19s 4ms/step - loss: 0.0036 - mean_squared_error: 0.0015 - val_loss: 0.0035 - val_mean_squared_error: 0.0014\n",
      "\n",
      "Epoch 00035: val_mean_squared_error improved from 0.00143 to 0.00143, saving model to weight_3.hdf5\n",
      "Epoch 36/50\n",
      "5037/5037 [==============================] - 19s 4ms/step - loss: 0.0035 - mean_squared_error: 0.0014 - val_loss: 0.0035 - val_mean_squared_error: 0.0014\n",
      "\n",
      "Epoch 00036: val_mean_squared_error improved from 0.00143 to 0.00141, saving model to weight_3.hdf5\n",
      "Epoch 37/50\n",
      "5037/5037 [==============================] - 19s 4ms/step - loss: 0.0035 - mean_squared_error: 0.0015 - val_loss: 0.0035 - val_mean_squared_error: 0.0014\n",
      "\n",
      "Epoch 00037: val_mean_squared_error did not improve from 0.00141\n",
      "Epoch 38/50\n",
      "5037/5037 [==============================] - 19s 4ms/step - loss: 0.0035 - mean_squared_error: 0.0014 - val_loss: 0.0034 - val_mean_squared_error: 0.0014\n",
      "\n",
      "Epoch 00038: val_mean_squared_error improved from 0.00141 to 0.00136, saving model to weight_3.hdf5\n",
      "Epoch 39/50\n",
      "5037/5037 [==============================] - 19s 4ms/step - loss: 0.0034 - mean_squared_error: 0.0014 - val_loss: 0.0035 - val_mean_squared_error: 0.0015\n",
      "\n",
      "Epoch 00039: val_mean_squared_error did not improve from 0.00136\n",
      "Epoch 40/50\n",
      "5037/5037 [==============================] - 19s 4ms/step - loss: 0.0034 - mean_squared_error: 0.0014 - val_loss: 0.0034 - val_mean_squared_error: 0.0014\n",
      "\n",
      "Epoch 00040: val_mean_squared_error did not improve from 0.00136\n",
      "Epoch 41/50\n",
      "5037/5037 [==============================] - 19s 4ms/step - loss: 0.0034 - mean_squared_error: 0.0014 - val_loss: 0.0034 - val_mean_squared_error: 0.0014\n",
      "\n",
      "Epoch 00041: val_mean_squared_error did not improve from 0.00136\n",
      "Epoch 42/50\n",
      "5037/5037 [==============================] - 20s 4ms/step - loss: 0.0034 - mean_squared_error: 0.0014 - val_loss: 0.0033 - val_mean_squared_error: 0.0014\n",
      "\n",
      "Epoch 00042: val_mean_squared_error did not improve from 0.00136\n",
      "Epoch 43/50\n",
      "5037/5037 [==============================] - 19s 4ms/step - loss: 0.0033 - mean_squared_error: 0.0014 - val_loss: 0.0033 - val_mean_squared_error: 0.0014\n",
      "\n",
      "Epoch 00043: val_mean_squared_error did not improve from 0.00136\n",
      "Epoch 44/50\n",
      "5037/5037 [==============================] - 19s 4ms/step - loss: 0.0033 - mean_squared_error: 0.0014 - val_loss: 0.0033 - val_mean_squared_error: 0.0014\n",
      "\n",
      "Epoch 00044: val_mean_squared_error did not improve from 0.00136\n",
      "Epoch 45/50\n",
      "5037/5037 [==============================] - 19s 4ms/step - loss: 0.0033 - mean_squared_error: 0.0014 - val_loss: 0.0033 - val_mean_squared_error: 0.0014\n",
      "\n",
      "Epoch 00045: val_mean_squared_error did not improve from 0.00136\n",
      "Epoch 46/50\n",
      "5037/5037 [==============================] - 19s 4ms/step - loss: 0.0033 - mean_squared_error: 0.0014 - val_loss: 0.0033 - val_mean_squared_error: 0.0014\n",
      "\n",
      "Epoch 00046: val_mean_squared_error did not improve from 0.00136\n",
      "Epoch 47/50\n",
      "5037/5037 [==============================] - 21s 4ms/step - loss: 0.0033 - mean_squared_error: 0.0014 - val_loss: 0.0033 - val_mean_squared_error: 0.0015\n",
      "\n",
      "Epoch 00047: val_mean_squared_error did not improve from 0.00136\n",
      "Epoch 48/50\n",
      "5037/5037 [==============================] - 23s 5ms/step - loss: 0.0033 - mean_squared_error: 0.0014 - val_loss: 0.0032 - val_mean_squared_error: 0.0013\n",
      "\n",
      "Epoch 00048: val_mean_squared_error improved from 0.00136 to 0.00133, saving model to weight_3.hdf5\n",
      "Epoch 49/50\n",
      "5037/5037 [==============================] - 21s 4ms/step - loss: 0.0033 - mean_squared_error: 0.0014 - val_loss: 0.0033 - val_mean_squared_error: 0.0015\n",
      "\n",
      "Epoch 00049: val_mean_squared_error did not improve from 0.00133\n",
      "Epoch 50/50\n",
      "5037/5037 [==============================] - 23s 5ms/step - loss: 0.0033 - mean_squared_error: 0.0014 - val_loss: 0.0032 - val_mean_squared_error: 0.0014\n",
      "\n",
      "Epoch 00050: val_mean_squared_error did not improve from 0.00133\n"
     ]
    }
   ],
   "source": [
    "filepath=\"weight_3.hdf5\"\n",
    "checkpoint = ModelCheckpoint(filepath, \n",
    "                             monitor='val_mean_squared_error', \n",
    "                             verbose=1, \n",
    "                             save_best_only=True,\n",
    "                             mode='min')\n",
    "callbacks_list = [checkpoint]\n",
    "history = model.fit(X_train, X_train, \n",
    "                    epochs=50, \n",
    "                    batch_size=32, \n",
    "                    validation_split=0.25, \n",
    "                    callbacks=callbacks_list)"
   ]
  },
  {
   "cell_type": "code",
   "execution_count": 17,
   "metadata": {},
   "outputs": [
    {
     "data": {
      "image/png": "[encoded data removed]",
      "text/plain": [
       "<matplotlib.figure.Figure at 0x185429fcf8>"
      ]
     },
     "metadata": {},
     "output_type": "display_data"
    }
   ],
   "source": [
    "plt.plot(history.history['mean_squared_error'])\n",
    "plt.plot(history.history['val_mean_squared_error'])\n",
    "plt.title('MSE')\n",
    "plt.ylabel('MSE')\n",
    "plt.xlabel('epoch')\n",
    "plt.legend(['train', 'validation'], loc='upper left')\n",
    "plt.show()"
   ]
  },
  {
   "cell_type": "code",
   "execution_count": 18,
   "metadata": {},
   "outputs": [
    {
     "data": {
      "image/png": "[encoded data removed]",
      "text/plain": [
       "<matplotlib.figure.Figure at 0x104c41128>"
      ]
     },
     "metadata": {},
     "output_type": "display_data"
    }
   ],
   "source": [
    "plt.plot(history.history['loss'])\n",
    "plt.plot(history.history['val_loss'])\n",
    "plt.title('model loss')\n",
    "plt.ylabel('loss')\n",
    "plt.xlabel('epoch')\n",
    "plt.legend(['train', 'validation'], loc='upper left')\n",
    "plt.show()"
   ]
  },
  {
   "cell_type": "code",
   "execution_count": 16,
   "metadata": {},
   "outputs": [],
   "source": [
    "filepath=\"weight_3.hdf5\"\n",
    "model.load_weights(filepath)"
   ]
  },
  {
   "cell_type": "code",
   "execution_count": 19,
   "metadata": {},
   "outputs": [
    {
     "data": {
      "text/plain": [
       "[<keras.engine.input_layer.InputLayer at 0x115244710>,\n",
       " <keras.layers.core.Activation at 0x115218780>,\n",
       " <keras.layers.convolutional.Conv1D at 0x115218a58>,\n",
       " <keras.layers.pooling.MaxPooling1D at 0x115218b70>,\n",
       " <keras.layers.core.Activation at 0x1152189b0>,\n",
       " <keras.layers.convolutional.Conv1D at 0x1187f4b00>,\n",
       " <keras.layers.pooling.MaxPooling1D at 0x1187f4358>,\n",
       " <keras.layers.core.Activation at 0x118852668>,\n",
       " <keras.layers.convolutional.Conv1D at 0x1188753c8>,\n",
       " <keras.layers.pooling.MaxPooling1D at 0x118875128>,\n",
       " <keras.layers.core.Activation at 0x1857314898>,\n",
       " <keras.layers.convolutional.Conv1D at 0x18573345f8>,\n",
       " <keras.layers.pooling.MaxPooling1D at 0x1857334ef0>,\n",
       " <keras.layers.core.Activation at 0x185734db00>,\n",
       " <keras.layers.convolutional.Conv1D at 0x18572b2b70>,\n",
       " <keras.layers.convolutional.UpSampling1D at 0x1857370828>,\n",
       " <keras.layers.core.Activation at 0x1857386780>,\n",
       " <keras.layers.convolutional.Conv1D at 0x1857386c88>,\n",
       " <keras.layers.convolutional.UpSampling1D at 0x18573ad978>,\n",
       " <keras.layers.core.Activation at 0x18573c3e48>,\n",
       " <keras.layers.convolutional.Conv1D at 0x18573c3d30>,\n",
       " <keras.layers.convolutional.UpSampling1D at 0x185bc7f198>,\n",
       " <keras.layers.core.Activation at 0x185bc55ef0>,\n",
       " <keras.layers.convolutional.Conv1D at 0x185bc55da0>,\n",
       " <keras.layers.convolutional.UpSampling1D at 0x185bccc6a0>,\n",
       " <keras.layers.convolutional.Conv1D at 0x185bce2940>]"
      ]
     },
     "execution_count": 19,
     "metadata": {},
     "output_type": "execute_result"
    }
   ],
   "source": [
    "#model.summary()\n",
    "model.layers"
   ]
  },
  {
   "cell_type": "code",
   "execution_count": 21,
   "metadata": {},
   "outputs": [
    {
     "name": "stderr",
     "output_type": "stream",
     "text": [
      "/Users/xufanxiong/anaconda3/lib/python3.6/site-packages/ipykernel_launcher.py:40: UserWarning: Update your `Model` call to the Keras 2 API: `Model(inputs=Tensor(\"in..., outputs=Tensor(\"de...)`\n"
     ]
    }
   ],
   "source": [
    "layer_out = model.layers[10].output\n",
    "\n",
    "newlayer = UpSampling1D(4)(layer_out)\n",
    "newlayer = Conv1D(64, 4, padding='same',\n",
    "                    kernel_initializer='glorot_uniform',\n",
    "                    kernel_regularizer=l2(1e-4))(newlayer)\n",
    "newlayer = MaxPooling1D(pool_size=2)(newlayer)\n",
    "#newlayer = UpSampling1D(2)(newlayer)\n",
    "\n",
    "newlayer = Conv1D(256, 4, padding='same',\n",
    "                    kernel_initializer='glorot_uniform',\n",
    "                    kernel_regularizer=l2(1e-4))(newlayer)\n",
    "newlayer = MaxPooling1D(pool_size=2)(newlayer)\n",
    "\n",
    "newlayer = Activation('relu')(newlayer)\n",
    "newlayer = Conv1D(128, 4, padding='same',\n",
    "                    kernel_initializer='glorot_uniform',\n",
    "                    kernel_regularizer=l2(1e-4))(newlayer)\n",
    "newlayer = MaxPooling1D(pool_size=2)(newlayer)\n",
    "\n",
    "newlayer = Activation('relu')(newlayer)\n",
    "newlayer = Conv1D(64, 4, padding='same',\n",
    "                    kernel_initializer='glorot_uniform',\n",
    "                    kernel_regularizer=l2(1e-4))(newlayer)\n",
    "newlayer = MaxPooling1D(pool_size=2)(newlayer)\n",
    "\n",
    "newlayer = Activation('relu')(newlayer)\n",
    "newlayer = Conv1D(16, 4, padding='same',\n",
    "                    kernel_initializer='glorot_uniform',\n",
    "                    kernel_regularizer=l2(1e-4))(newlayer)\n",
    "#newlayer = GlobalAveragePooling1D()(newlayer)\n",
    "\n",
    "newlayer = Flatten()(newlayer)\n",
    "newlayer = Dense(64, activation='relu')(newlayer)\n",
    "newlayer = Dense(16, activation='relu')(newlayer)\n",
    "\n",
    "out = Dense(1, activation='relu', \n",
    "               kernel_initializer='glorot_uniform')(newlayer)\n",
    "\n",
    "newmodel = Model(input=model.input, output=out)\n",
    "\n",
    "# Freeze the layers\n",
    "for layer in newmodel.layers[:10]:\n",
    "    layer.trainable = False\n"
   ]
  },
  {
   "cell_type": "code",
   "execution_count": 22,
   "metadata": {},
   "outputs": [
    {
     "name": "stdout",
     "output_type": "stream",
     "text": [
      "_________________________________________________________________\n",
      "Layer (type)                 Output Shape              Param #   \n",
      "=================================================================\n",
      "input_1 (InputLayer)         (None, 1200, 2)           0         \n",
      "_________________________________________________________________\n",
      "activation_1 (Activation)    (None, 1200, 2)           0         \n",
      "_________________________________________________________________\n",
      "conv1d_1 (Conv1D)            (None, 1200, 16)          144       \n",
      "_________________________________________________________________\n",
      "max_pooling1d_1 (MaxPooling1 (None, 600, 16)           0         \n",
      "_________________________________________________________________\n",
      "activation_2 (Activation)    (None, 600, 16)           0         \n",
      "_________________________________________________________________\n",
      "conv1d_2 (Conv1D)            (None, 600, 32)           2080      \n",
      "_________________________________________________________________\n",
      "max_pooling1d_2 (MaxPooling1 (None, 300, 32)           0         \n",
      "_________________________________________________________________\n",
      "activation_3 (Activation)    (None, 300, 32)           0         \n",
      "_________________________________________________________________\n",
      "conv1d_3 (Conv1D)            (None, 300, 64)           8256      \n",
      "_________________________________________________________________\n",
      "max_pooling1d_3 (MaxPooling1 (None, 150, 64)           0         \n",
      "_________________________________________________________________\n",
      "activation_4 (Activation)    (None, 150, 64)           0         \n",
      "_________________________________________________________________\n",
      "up_sampling1d_5 (UpSampling1 (None, 600, 64)           0         \n",
      "_________________________________________________________________\n",
      "conv1d_10 (Conv1D)           (None, 600, 64)           16448     \n",
      "_________________________________________________________________\n",
      "max_pooling1d_5 (MaxPooling1 (None, 300, 64)           0         \n",
      "_________________________________________________________________\n",
      "conv1d_11 (Conv1D)           (None, 300, 256)          65792     \n",
      "_________________________________________________________________\n",
      "max_pooling1d_6 (MaxPooling1 (None, 150, 256)          0         \n",
      "_________________________________________________________________\n",
      "activation_9 (Activation)    (None, 150, 256)          0         \n",
      "_________________________________________________________________\n",
      "conv1d_12 (Conv1D)           (None, 150, 128)          131200    \n",
      "_________________________________________________________________\n",
      "max_pooling1d_7 (MaxPooling1 (None, 75, 128)           0         \n",
      "_________________________________________________________________\n",
      "activation_10 (Activation)   (None, 75, 128)           0         \n",
      "_________________________________________________________________\n",
      "conv1d_13 (Conv1D)           (None, 75, 64)            32832     \n",
      "_________________________________________________________________\n",
      "max_pooling1d_8 (MaxPooling1 (None, 37, 64)            0         \n",
      "_________________________________________________________________\n",
      "activation_11 (Activation)   (None, 37, 64)            0         \n",
      "_________________________________________________________________\n",
      "conv1d_14 (Conv1D)           (None, 37, 16)            4112      \n",
      "_________________________________________________________________\n",
      "flatten_1 (Flatten)          (None, 592)               0         \n",
      "_________________________________________________________________\n",
      "dense_1 (Dense)              (None, 64)                37952     \n",
      "_________________________________________________________________\n",
      "dense_2 (Dense)              (None, 16)                1040      \n",
      "_________________________________________________________________\n",
      "dense_3 (Dense)              (None, 1)                 17        \n",
      "=================================================================\n",
      "Total params: 299,873\n",
      "Trainable params: 289,393\n",
      "Non-trainable params: 10,480\n",
      "_________________________________________________________________\n"
     ]
    }
   ],
   "source": [
    "newmodel.summary()"
   ]
  },
  {
   "cell_type": "code",
   "execution_count": 23,
   "metadata": {},
   "outputs": [],
   "source": [
    "optm = Adam(lr=0.001, beta_1=0.9, beta_2=0.999, epsilon=3*10**(-4))\n",
    "newmodel.compile(loss= \"mse\", \n",
    "              optimizer=optm, \n",
    "              metrics=[\"mse\"])"
   ]
  },
  {
   "cell_type": "code",
   "execution_count": 25,
   "metadata": {},
   "outputs": [
    {
     "name": "stdout",
     "output_type": "stream",
     "text": [
      "Train on 5037 samples, validate on 1679 samples\n",
      "Epoch 1/30\n",
      "5037/5037 [==============================] - 29s 6ms/step - loss: 0.0529 - mean_squared_error: 0.0092 - val_loss: 0.0461 - val_mean_squared_error: 0.0031\n",
      "\n",
      "Epoch 00001: val_loss improved from inf to 0.04611, saving model to weight_3_3.hdf5\n",
      "Epoch 2/30\n",
      "5037/5037 [==============================] - 29s 6ms/step - loss: 0.0505 - mean_squared_error: 0.0082 - val_loss: 0.0451 - val_mean_squared_error: 0.0037\n",
      "\n",
      "Epoch 00002: val_loss improved from 0.04611 to 0.04508, saving model to weight_3_3.hdf5\n",
      "Epoch 3/30\n",
      "5037/5037 [==============================] - 29s 6ms/step - loss: 0.0473 - mean_squared_error: 0.0067 - val_loss: 0.0439 - val_mean_squared_error: 0.0042\n",
      "\n",
      "Epoch 00003: val_loss improved from 0.04508 to 0.04388, saving model to weight_3_3.hdf5\n",
      "Epoch 4/30\n",
      "5037/5037 [==============================] - 29s 6ms/step - loss: 0.0450 - mean_squared_error: 0.0062 - val_loss: 0.0460 - val_mean_squared_error: 0.0081\n",
      "\n",
      "Epoch 00004: val_loss did not improve from 0.04388\n",
      "Epoch 5/30\n",
      "5037/5037 [==============================] - 29s 6ms/step - loss: 0.0428 - mean_squared_error: 0.0057 - val_loss: 0.0446 - val_mean_squared_error: 0.0085\n",
      "\n",
      "Epoch 00005: val_loss did not improve from 0.04388\n",
      "Epoch 6/30\n",
      "5037/5037 [==============================] - 29s 6ms/step - loss: 0.0403 - mean_squared_error: 0.0051 - val_loss: 0.0376 - val_mean_squared_error: 0.0033\n",
      "\n",
      "Epoch 00006: val_loss improved from 0.04388 to 0.03764, saving model to weight_3_3.hdf5\n",
      "Epoch 7/30\n",
      "5037/5037 [==============================] - 29s 6ms/step - loss: 0.0382 - mean_squared_error: 0.0048 - val_loss: 0.0366 - val_mean_squared_error: 0.0041\n",
      "\n",
      "Epoch 00007: val_loss improved from 0.03764 to 0.03659, saving model to weight_3_3.hdf5\n",
      "Epoch 8/30\n",
      "5037/5037 [==============================] - 29s 6ms/step - loss: 0.0367 - mean_squared_error: 0.0050 - val_loss: 0.0358 - val_mean_squared_error: 0.0050\n",
      "\n",
      "Epoch 00008: val_loss improved from 0.03659 to 0.03576, saving model to weight_3_3.hdf5\n",
      "Epoch 9/30\n",
      "5037/5037 [==============================] - 29s 6ms/step - loss: 0.0344 - mean_squared_error: 0.0045 - val_loss: 0.0350 - val_mean_squared_error: 0.0060\n",
      "\n",
      "Epoch 00009: val_loss improved from 0.03576 to 0.03500, saving model to weight_3_3.hdf5\n",
      "Epoch 10/30\n",
      "5037/5037 [==============================] - 29s 6ms/step - loss: 0.0324 - mean_squared_error: 0.0041 - val_loss: 0.0323 - val_mean_squared_error: 0.0049\n",
      "\n",
      "Epoch 00010: val_loss improved from 0.03500 to 0.03229, saving model to weight_3_3.hdf5\n",
      "Epoch 11/30\n",
      "5037/5037 [==============================] - 29s 6ms/step - loss: 0.0306 - mean_squared_error: 0.0040 - val_loss: 0.0289 - val_mean_squared_error: 0.0031\n",
      "\n",
      "Epoch 00011: val_loss improved from 0.03229 to 0.02894, saving model to weight_3_3.hdf5\n",
      "Epoch 12/30\n",
      "5037/5037 [==============================] - 28s 6ms/step - loss: 0.0286 - mean_squared_error: 0.0035 - val_loss: 0.0273 - val_mean_squared_error: 0.0030\n",
      "\n",
      "Epoch 00012: val_loss improved from 0.02894 to 0.02730, saving model to weight_3_3.hdf5\n",
      "Epoch 13/30\n",
      "5037/5037 [==============================] - 28s 6ms/step - loss: 0.0269 - mean_squared_error: 0.0034 - val_loss: 0.0286 - val_mean_squared_error: 0.0058\n",
      "\n",
      "Epoch 00013: val_loss did not improve from 0.02730\n",
      "Epoch 14/30\n",
      "5037/5037 [==============================] - 33s 6ms/step - loss: 0.0256 - mean_squared_error: 0.0035 - val_loss: 0.0248 - val_mean_squared_error: 0.0033\n",
      "\n",
      "Epoch 00014: val_loss improved from 0.02730 to 0.02477, saving model to weight_3_3.hdf5\n",
      "Epoch 15/30\n",
      "5037/5037 [==============================] - 30s 6ms/step - loss: 0.0241 - mean_squared_error: 0.0033 - val_loss: 0.0232 - val_mean_squared_error: 0.0030\n",
      "\n",
      "Epoch 00015: val_loss improved from 0.02477 to 0.02317, saving model to weight_3_3.hdf5\n",
      "Epoch 16/30\n",
      "5037/5037 [==============================] - 29s 6ms/step - loss: 0.0227 - mean_squared_error: 0.0032 - val_loss: 0.0230 - val_mean_squared_error: 0.0041\n",
      "\n",
      "Epoch 00016: val_loss improved from 0.02317 to 0.02300, saving model to weight_3_3.hdf5\n",
      "Epoch 17/30\n",
      "5037/5037 [==============================] - 29s 6ms/step - loss: 0.0213 - mean_squared_error: 0.0030 - val_loss: 0.0215 - val_mean_squared_error: 0.0038\n",
      "\n",
      "Epoch 00017: val_loss improved from 0.02300 to 0.02149, saving model to weight_3_3.hdf5\n",
      "Epoch 18/30\n",
      "5037/5037 [==============================] - 29s 6ms/step - loss: 0.0205 - mean_squared_error: 0.0033 - val_loss: 0.0211 - val_mean_squared_error: 0.0045\n",
      "\n",
      "Epoch 00018: val_loss improved from 0.02149 to 0.02114, saving model to weight_3_3.hdf5\n",
      "Epoch 19/30\n",
      "5037/5037 [==============================] - 29s 6ms/step - loss: 0.0190 - mean_squared_error: 0.0028 - val_loss: 0.0226 - val_mean_squared_error: 0.0070\n",
      "\n",
      "Epoch 00019: val_loss did not improve from 0.02114\n",
      "Epoch 20/30\n",
      "5037/5037 [==============================] - 30s 6ms/step - loss: 0.0180 - mean_squared_error: 0.0029 - val_loss: 0.0190 - val_mean_squared_error: 0.0044\n",
      "\n",
      "Epoch 00020: val_loss improved from 0.02114 to 0.01903, saving model to weight_3_3.hdf5\n",
      "Epoch 21/30\n",
      "5037/5037 [==============================] - 29s 6ms/step - loss: 0.0171 - mean_squared_error: 0.0029 - val_loss: 0.0189 - val_mean_squared_error: 0.0052\n",
      "\n",
      "Epoch 00021: val_loss improved from 0.01903 to 0.01894, saving model to weight_3_3.hdf5\n",
      "Epoch 22/30\n",
      "5037/5037 [==============================] - 28s 6ms/step - loss: 0.0161 - mean_squared_error: 0.0028 - val_loss: 0.0217 - val_mean_squared_error: 0.0088\n",
      "\n",
      "Epoch 00022: val_loss did not improve from 0.01894\n",
      "Epoch 23/30\n",
      "5037/5037 [==============================] - 28s 6ms/step - loss: 0.0152 - mean_squared_error: 0.0026 - val_loss: 0.0190 - val_mean_squared_error: 0.0068\n",
      "\n",
      "Epoch 00023: val_loss did not improve from 0.01894\n",
      "Epoch 24/30\n",
      "5037/5037 [==============================] - 29s 6ms/step - loss: 0.0143 - mean_squared_error: 0.0025 - val_loss: 0.0160 - val_mean_squared_error: 0.0046\n",
      "\n",
      "Epoch 00024: val_loss improved from 0.01894 to 0.01604, saving model to weight_3_3.hdf5\n",
      "Epoch 25/30\n",
      "5037/5037 [==============================] - 29s 6ms/step - loss: 0.0136 - mean_squared_error: 0.0025 - val_loss: 0.0164 - val_mean_squared_error: 0.0057\n",
      "\n",
      "Epoch 00025: val_loss did not improve from 0.01604\n",
      "Epoch 26/30\n",
      "5037/5037 [==============================] - 29s 6ms/step - loss: 0.0127 - mean_squared_error: 0.0023 - val_loss: 0.0166 - val_mean_squared_error: 0.0065\n",
      "\n",
      "Epoch 00026: val_loss did not improve from 0.01604\n",
      "Epoch 27/30\n",
      "5037/5037 [==============================] - 28s 6ms/step - loss: 0.0122 - mean_squared_error: 0.0024 - val_loss: 0.0205 - val_mean_squared_error: 0.0110\n",
      "\n",
      "Epoch 00027: val_loss did not improve from 0.01604\n",
      "Epoch 28/30\n",
      "5037/5037 [==============================] - 29s 6ms/step - loss: 0.0116 - mean_squared_error: 0.0024 - val_loss: 0.0133 - val_mean_squared_error: 0.0043\n",
      "\n",
      "Epoch 00028: val_loss improved from 0.01604 to 0.01330, saving model to weight_3_3.hdf5\n",
      "Epoch 29/30\n",
      "5037/5037 [==============================] - 32s 6ms/step - loss: 0.0111 - mean_squared_error: 0.0024 - val_loss: 0.0141 - val_mean_squared_error: 0.0057\n",
      "\n",
      "Epoch 00029: val_loss did not improve from 0.01330\n",
      "Epoch 30/30\n",
      "5037/5037 [==============================] - 31s 6ms/step - loss: 0.0105 - mean_squared_error: 0.0023 - val_loss: 0.0155 - val_mean_squared_error: 0.0075\n",
      "\n",
      "Epoch 00030: val_loss did not improve from 0.01330\n"
     ]
    }
   ],
   "source": [
    "filepath=\"weight_3_3.hdf5\"\n",
    "checkpoint = ModelCheckpoint(filepath, \n",
    "                             monitor='val_loss', \n",
    "                             verbose=1, \n",
    "                             save_best_only=True,\n",
    "                             mode='min')\n",
    "callbacks_list = [checkpoint]\n",
    "history = newmodel.fit(X_train, Y_train, \n",
    "                    epochs=30, \n",
    "                    batch_size=64, \n",
    "                    validation_split=0.25, \n",
    "                    callbacks=callbacks_list)"
   ]
  },
  {
   "cell_type": "code",
   "execution_count": 26,
   "metadata": {},
   "outputs": [
    {
     "data": {
      "image/png": "[encoded data removed]",
      "text/plain": [
       "<matplotlib.figure.Figure at 0x18540fd8d0>"
      ]
     },
     "metadata": {},
     "output_type": "display_data"
    }
   ],
   "source": [
    "plt.plot(history.history['mean_squared_error'])\n",
    "plt.plot(history.history['val_mean_squared_error'])\n",
    "plt.title('MSE')\n",
    "plt.ylabel('MSE')\n",
    "plt.xlabel('epoch')\n",
    "plt.legend(['train', 'validation'], loc='upper left')\n",
    "plt.show()"
   ]
  },
  {
   "cell_type": "code",
   "execution_count": 27,
   "metadata": {},
   "outputs": [
    {
     "data": {
      "image/png": "[encoded data removed]",
      "text/plain": [
       "<matplotlib.figure.Figure at 0x1854276fd0>"
      ]
     },
     "metadata": {},
     "output_type": "display_data"
    }
   ],
   "source": [
    "plt.plot(history.history['loss'])\n",
    "plt.plot(history.history['val_loss'])\n",
    "plt.title('model loss')\n",
    "plt.ylabel('loss')\n",
    "plt.xlabel('epoch')\n",
    "plt.legend(['train', 'validation'], loc='upper left')\n",
    "plt.show()"
   ]
  },
  {
   "cell_type": "code",
   "execution_count": 28,
   "metadata": {},
   "outputs": [],
   "source": [
    "newmodel.load_weights('weight_3_3.hdf5')"
   ]
  },
  {
   "cell_type": "code",
   "execution_count": 31,
   "metadata": {},
   "outputs": [
    {
     "name": "stdout",
     "output_type": "stream",
     "text": [
      "230/230 [==============================] - 0s 2ms/step\n",
      "loss = 0.009935217099669187\n",
      "Test MSE = 0.0009710552474564832\n"
     ]
    }
   ],
   "source": [
    "#Evaluate\n",
    "eva = newmodel.evaluate(X_test1, Y_test1, batch_size=32, verbose=1, sample_weight=None)\n",
    "print('loss = ' + str(eva[0]))\n",
    "print('Test MSE = ' + str(eva[1]))"
   ]
  },
  {
   "cell_type": "code",
   "execution_count": 32,
   "metadata": {},
   "outputs": [],
   "source": [
    "#Predict\n",
    "#pre_num = 1"
   ]
  },
  {
   "cell_type": "code",
   "execution_count": 52,
   "metadata": {},
   "outputs": [
    {
     "data": {
      "text/plain": [
       "tensor([2.])"
      ]
     },
     "execution_count": 52,
     "metadata": {},
     "output_type": "execute_result"
    }
   ],
   "source": [
    "torch.FloatTensor([2])"
   ]
  },
  {
   "cell_type": "code",
   "execution_count": null,
   "metadata": {},
   "outputs": [],
   "source": []
  }
 ],
 "metadata": {
  "kernelspec": {
   "display_name": "Python 3",
   "language": "python",
   "name": "python3"
  },
  "language_info": {
   "codemirror_mode": {
    "name": "ipython",
    "version": 3
   },
   "file_extension": ".py",
   "mimetype": "text/x-python",
   "name": "python",
   "nbconvert_exporter": "python",
   "pygments_lexer": "ipython3",
   "version": "3.6.4"
  }
 },
 "nbformat": 4,
 "nbformat_minor": 2
}
