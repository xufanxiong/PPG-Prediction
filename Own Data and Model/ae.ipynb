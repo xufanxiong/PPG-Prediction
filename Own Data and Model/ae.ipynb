{
 "cells": [
  {
   "cell_type": "code",
   "execution_count": 1,
   "metadata": {},
   "outputs": [
    {
     "name": "stderr",
     "output_type": "stream",
     "text": [
      "/Users/xufanxiong/anaconda3/lib/python3.6/site-packages/h5py/__init__.py:36: FutureWarning: Conversion of the second argument of issubdtype from `float` to `np.floating` is deprecated. In future, it will be treated as `np.float64 == np.dtype(float).type`.\n",
      "  from ._conv import register_converters as _register_converters\n",
      "Using TensorFlow backend.\n"
     ]
    }
   ],
   "source": [
    "import numpy as np\n",
    "import matplotlib.pyplot as plt\n",
    "import scipy.io as sio\n",
    "from autoencoder import autoencoder\n",
    "from keras.callbacks import ModelCheckpoint\n",
    "from keras.layers.convolutional import Conv1D, MaxPooling1D\n",
    "from keras.layers import AveragePooling1D, Activation, Flatten, Dense\n",
    "from keras.layers import GlobalMaxPooling1D\n",
    "from keras.layers import GlobalAveragePooling1D, UpSampling1D\n",
    "from keras.models import Model\n",
    "from keras.regularizers import l2\n",
    "#from sklearn.model_selection import train_test_split"
   ]
  },
  {
   "cell_type": "code",
   "execution_count": 2,
   "metadata": {},
   "outputs": [],
   "source": [
    "np.random.seed(1)\n",
    "\n",
    "dTrain1 = sio.loadmat('Train_1_Correct_PPG1_TimeDist3.mat')\n",
    "dTrain2 = sio.loadmat('Train_1_Correct_PPG2_TimeDist3.mat')"
   ]
  },
  {
   "cell_type": "code",
   "execution_count": 3,
   "metadata": {},
   "outputs": [
    {
     "name": "stdout",
     "output_type": "stream",
     "text": [
      "Shape of signalTrain1: (6716, 3, 1200)\n",
      "Shape of signalTrain2 (6716, 3, 1200)\n",
      "Shape of signalTrain: (6716, 3, 1200, 2)\n",
      "Shape of heartTrain: (6716, 1)\n"
     ]
    }
   ],
   "source": [
    "heartTrain = (dTrain1['Hr_train1'] - 50) / 150\n",
    "\n",
    "signalTrain1 = dTrain1['Train1']\n",
    "signalTrain2 = dTrain2['Train2']\n",
    "\n",
    "s1 = signalTrain1.shape\n",
    "signalTrain = np.zeros((s1[0], s1[1], s1[2], 2))\n",
    "\n",
    "signalTrain[:, :, :, 0] = signalTrain1\n",
    "signalTrain[:, :, :, 1] = signalTrain2\n",
    "\n",
    "print('Shape of signalTrain1: ' + str(signalTrain1.shape))\n",
    "print('Shape of signalTrain2 ' + str(signalTrain2.shape))\n",
    "print('Shape of signalTrain: ' + str(signalTrain.shape))\n",
    "print('Shape of heartTrain: ' + str(heartTrain.shape))"
   ]
  },
  {
   "cell_type": "code",
   "execution_count": 4,
   "metadata": {},
   "outputs": [],
   "source": [
    "#plt.plot(range(1200), signalTrain[10,2,:,1])"
   ]
  },
  {
   "cell_type": "code",
   "execution_count": 5,
   "metadata": {},
   "outputs": [],
   "source": [
    "np.random.seed(1)\n",
    "\n",
    "dTest1 = sio.loadmat('Test_1_Correct_PPG1_TimeDist3.mat')\n",
    "dTest2 = sio.loadmat('Test_1_Correct_PPG2_TimeDist3.mat')"
   ]
  },
  {
   "cell_type": "code",
   "execution_count": 6,
   "metadata": {},
   "outputs": [
    {
     "name": "stdout",
     "output_type": "stream",
     "text": [
      "Shape of signalTestA1: (230, 3, 1200)\n",
      "Shape of signalTestA2: (230, 3, 1200)\n",
      "Shape of signalTestA: (230, 3, 1200, 2)\n",
      "Shape of heartTestA: (230, 1)\n"
     ]
    }
   ],
   "source": [
    "heartTestA = (dTest1['Hr_testA1'] - 50) / 150\n",
    "\n",
    "signalTestA1 = dTest1['TestA1']\n",
    "signalTestA2 = dTest2['TestA2']\n",
    "\n",
    "s2 = signalTestA1.shape\n",
    "signalTestA = np.zeros((s2[0], s2[1], s2[2], 2))\n",
    "\n",
    "signalTestA[:, :, :, 0] = signalTestA1\n",
    "signalTestA[:, :, :, 1] = signalTestA2\n",
    "\n",
    "print('Shape of signalTestA1: ' + str(signalTestA1.shape))\n",
    "print('Shape of signalTestA2: ' + str(signalTestA2.shape))\n",
    "print('Shape of signalTestA: ' + str(signalTestA.shape))\n",
    "print('Shape of heartTestA: ' + str(heartTestA.shape))"
   ]
  },
  {
   "cell_type": "code",
   "execution_count": 7,
   "metadata": {},
   "outputs": [],
   "source": [
    "np.random.seed(1)\n",
    "\n",
    "dTest1 = sio.loadmat('Low_1_Correct_PPG1_TimeDist3.mat')\n",
    "dTest2 = sio.loadmat('Low_1_Correct_PPG2_TimeDist3.mat')"
   ]
  },
  {
   "cell_type": "code",
   "execution_count": 8,
   "metadata": {},
   "outputs": [
    {
     "name": "stdout",
     "output_type": "stream",
     "text": [
      "Shape of signalTestB1: (230, 3, 1200)\n",
      "Shape of signalTestB2: (230, 3, 1200)\n",
      "Shape of signalTestB: (230, 3, 1200, 2)\n",
      "Shape of heartTestB: (230, 1)\n"
     ]
    }
   ],
   "source": [
    "heartTestB = (dTest1['Hr_testA1'] - 50) / 150\n",
    "\n",
    "signalTestB1 = dTest1['TestA1']\n",
    "signalTestB2 = dTest2['TestA2']\n",
    "\n",
    "s3 = signalTestB1.shape\n",
    "signalTestB = np.zeros((s3[0], s3[1], s3[2], 2))\n",
    "\n",
    "signalTestB[:, :, :, 0] = signalTestB1\n",
    "signalTestB[:, :, :, 1] = signalTestB2\n",
    "\n",
    "print('Shape of signalTestB1: ' + str(signalTestB1.shape))\n",
    "print('Shape of signalTestB2: ' + str(signalTestB2.shape))\n",
    "print('Shape of signalTestB: ' + str(signalTestB.shape))\n",
    "print('Shape of heartTestB: ' + str(heartTestB.shape))"
   ]
  },
  {
   "cell_type": "code",
   "execution_count": 9,
   "metadata": {},
   "outputs": [],
   "source": [
    "X_train = signalTrain[:, 2, :, :]\n",
    "Y_train = heartTrain\n",
    "X_test1 = signalTestA[:, 2, :, :]\n",
    "Y_test1 = heartTestA\n",
    "X_test2 = signalTestB[:, 2, :, :]\n",
    "Y_test2 = heartTestB"
   ]
  },
  {
   "cell_type": "code",
   "execution_count": 10,
   "metadata": {},
   "outputs": [
    {
     "data": {
      "text/plain": [
       "(230, 1200, 2)"
      ]
     },
     "execution_count": 10,
     "metadata": {},
     "output_type": "execute_result"
    }
   ],
   "source": [
    "X_test1.shape"
   ]
  },
  {
   "cell_type": "code",
   "execution_count": 11,
   "metadata": {},
   "outputs": [],
   "source": [
    "def normali(input):\n",
    "    tem = input[:, :, 0]\n",
    "    tem = tem/np.dot((np.max(tem, axis=1, keepdims=True)-np.min(tem, axis=1, keepdims=True)), np.ones((1, 1200)))\n",
    "    input[:, :, 0] = tem\n",
    "    \n",
    "    tem = input[:, :, 1]\n",
    "    tem = tem/np.dot((np.max(tem, axis=1, keepdims=True)-np.min(tem, axis=1, keepdims=True)), np.ones((1, 1200)))\n",
    "    input[:, :, 1] = tem\n",
    "    \n",
    "    return input"
   ]
  },
  {
   "cell_type": "code",
   "execution_count": 12,
   "metadata": {},
   "outputs": [],
   "source": [
    "X_train = normali(X_train)\n",
    "X_test1 = normali(X_test1)\n",
    "X_test2 = normali(X_test2)"
   ]
  },
  {
   "cell_type": "code",
   "execution_count": 13,
   "metadata": {},
   "outputs": [
    {
     "data": {
      "text/plain": [
       "[<matplotlib.lines.Line2D at 0x1857ef5e48>]"
      ]
     },
     "execution_count": 13,
     "metadata": {},
     "output_type": "execute_result"
    },
    {
     "data": {
      "image/png": "[encoded data removed]",
      "text/plain": [
       "<matplotlib.figure.Figure at 0x181bb03630>"
      ]
     },
     "metadata": {},
     "output_type": "display_data"
    }
   ],
   "source": [
    "plt.plot(range(1200), X_train[100, :, 1])"
   ]
  },
  {
   "cell_type": "code",
   "execution_count": 14,
   "metadata": {},
   "outputs": [],
   "source": [
    "model = autoencoder((1200, 2))"
   ]
  },
  {
   "cell_type": "code",
   "execution_count": 15,
   "metadata": {},
   "outputs": [],
   "source": [
    "model.compile(loss= \"mse\", \n",
    "              optimizer=\"adam\", \n",
    "              metrics=[\"mse\"])"
   ]
  },
  {
   "cell_type": "code",
   "execution_count": 17,
   "metadata": {},
   "outputs": [
    {
     "name": "stdout",
     "output_type": "stream",
     "text": [
      "Train on 5037 samples, validate on 1679 samples\n",
      "Epoch 1/30\n",
      "5037/5037 [==============================] - 13s 3ms/step - loss: 0.0065 - mean_squared_error: 0.0023 - val_loss: 0.0063 - val_mean_squared_error: 0.0024\n",
      "\n",
      "Epoch 00001: val_mean_squared_error improved from inf to 0.00243, saving model to weight_3.hdf5\n",
      "Epoch 2/30\n",
      "5037/5037 [==============================] - 13s 3ms/step - loss: 0.0058 - mean_squared_error: 0.0022 - val_loss: 0.0056 - val_mean_squared_error: 0.0022\n",
      "\n",
      "Epoch 00002: val_mean_squared_error improved from 0.00243 to 0.00222, saving model to weight_3.hdf5\n",
      "Epoch 3/30\n",
      "5037/5037 [==============================] - 14s 3ms/step - loss: 0.0053 - mean_squared_error: 0.0021 - val_loss: 0.0053 - val_mean_squared_error: 0.0023\n",
      "\n",
      "Epoch 00003: val_mean_squared_error did not improve from 0.00222\n",
      "Epoch 4/30\n",
      "5037/5037 [==============================] - 13s 3ms/step - loss: 0.0048 - mean_squared_error: 0.0020 - val_loss: 0.0048 - val_mean_squared_error: 0.0021\n",
      "\n",
      "Epoch 00004: val_mean_squared_error improved from 0.00222 to 0.00214, saving model to weight_3.hdf5\n",
      "Epoch 5/30\n",
      "5037/5037 [==============================] - 13s 3ms/step - loss: 0.0046 - mean_squared_error: 0.0020 - val_loss: 0.0046 - val_mean_squared_error: 0.0021\n",
      "\n",
      "Epoch 00005: val_mean_squared_error improved from 0.00214 to 0.00208, saving model to weight_3.hdf5\n",
      "Epoch 6/30\n",
      "5037/5037 [==============================] - 13s 3ms/step - loss: 0.0043 - mean_squared_error: 0.0019 - val_loss: 0.0044 - val_mean_squared_error: 0.0021\n",
      "\n",
      "Epoch 00006: val_mean_squared_error did not improve from 0.00208\n",
      "Epoch 7/30\n",
      "5037/5037 [==============================] - 13s 3ms/step - loss: 0.0041 - mean_squared_error: 0.0019 - val_loss: 0.0042 - val_mean_squared_error: 0.0021\n",
      "\n",
      "Epoch 00007: val_mean_squared_error improved from 0.00208 to 0.00206, saving model to weight_3.hdf5\n",
      "Epoch 8/30\n",
      "5037/5037 [==============================] - 13s 3ms/step - loss: 0.0040 - mean_squared_error: 0.0019 - val_loss: 0.0041 - val_mean_squared_error: 0.0021\n",
      "\n",
      "Epoch 00008: val_mean_squared_error did not improve from 0.00206\n",
      "Epoch 9/30\n",
      "5037/5037 [==============================] - 13s 3ms/step - loss: 0.0039 - mean_squared_error: 0.0019 - val_loss: 0.0041 - val_mean_squared_error: 0.0022\n",
      "\n",
      "Epoch 00009: val_mean_squared_error did not improve from 0.00206\n",
      "Epoch 10/30\n",
      "5037/5037 [==============================] - 13s 3ms/step - loss: 0.0038 - mean_squared_error: 0.0019 - val_loss: 0.0038 - val_mean_squared_error: 0.0019\n",
      "\n",
      "Epoch 00010: val_mean_squared_error improved from 0.00206 to 0.00194, saving model to weight_3.hdf5\n",
      "Epoch 11/30\n",
      "5037/5037 [==============================] - 13s 3ms/step - loss: 0.0037 - mean_squared_error: 0.0018 - val_loss: 0.0044 - val_mean_squared_error: 0.0026\n",
      "\n",
      "Epoch 00011: val_mean_squared_error did not improve from 0.00194\n",
      "Epoch 12/30\n",
      "5037/5037 [==============================] - 13s 3ms/step - loss: 0.0036 - mean_squared_error: 0.0018 - val_loss: 0.0037 - val_mean_squared_error: 0.0020\n",
      "\n",
      "Epoch 00012: val_mean_squared_error did not improve from 0.00194\n",
      "Epoch 13/30\n",
      "5037/5037 [==============================] - 13s 3ms/step - loss: 0.0036 - mean_squared_error: 0.0018 - val_loss: 0.0037 - val_mean_squared_error: 0.0020\n",
      "\n",
      "Epoch 00013: val_mean_squared_error did not improve from 0.00194\n",
      "Epoch 14/30\n",
      "5037/5037 [==============================] - 13s 3ms/step - loss: 0.0035 - mean_squared_error: 0.0019 - val_loss: 0.0037 - val_mean_squared_error: 0.0020\n",
      "\n",
      "Epoch 00014: val_mean_squared_error did not improve from 0.00194\n",
      "Epoch 15/30\n",
      "5037/5037 [==============================] - 13s 3ms/step - loss: 0.0034 - mean_squared_error: 0.0018 - val_loss: 0.0039 - val_mean_squared_error: 0.0023\n",
      "\n",
      "Epoch 00015: val_mean_squared_error did not improve from 0.00194\n",
      "Epoch 16/30\n",
      "5037/5037 [==============================] - 14s 3ms/step - loss: 0.0034 - mean_squared_error: 0.0018 - val_loss: 0.0035 - val_mean_squared_error: 0.0019\n",
      "\n",
      "Epoch 00016: val_mean_squared_error improved from 0.00194 to 0.00192, saving model to weight_3.hdf5\n",
      "Epoch 17/30\n",
      "5037/5037 [==============================] - 14s 3ms/step - loss: 0.0034 - mean_squared_error: 0.0018 - val_loss: 0.0035 - val_mean_squared_error: 0.0019\n",
      "\n",
      "Epoch 00017: val_mean_squared_error improved from 0.00192 to 0.00186, saving model to weight_3.hdf5\n",
      "Epoch 18/30\n",
      "5037/5037 [==============================] - 15s 3ms/step - loss: 0.0034 - mean_squared_error: 0.0018 - val_loss: 0.0037 - val_mean_squared_error: 0.0021\n",
      "\n",
      "Epoch 00018: val_mean_squared_error did not improve from 0.00186\n",
      "Epoch 19/30\n",
      "5037/5037 [==============================] - 15s 3ms/step - loss: 0.0033 - mean_squared_error: 0.0018 - val_loss: 0.0034 - val_mean_squared_error: 0.0019\n",
      "\n",
      "Epoch 00019: val_mean_squared_error did not improve from 0.00186\n",
      "Epoch 20/30\n",
      "5037/5037 [==============================] - 15s 3ms/step - loss: 0.0033 - mean_squared_error: 0.0018 - val_loss: 0.0035 - val_mean_squared_error: 0.0020\n",
      "\n",
      "Epoch 00020: val_mean_squared_error did not improve from 0.00186\n",
      "Epoch 21/30\n",
      "5037/5037 [==============================] - 14s 3ms/step - loss: 0.0033 - mean_squared_error: 0.0018 - val_loss: 0.0036 - val_mean_squared_error: 0.0021\n",
      "\n",
      "Epoch 00021: val_mean_squared_error did not improve from 0.00186\n",
      "Epoch 22/30\n",
      "5037/5037 [==============================] - 14s 3ms/step - loss: 0.0033 - mean_squared_error: 0.0018 - val_loss: 0.0034 - val_mean_squared_error: 0.0019\n",
      "\n",
      "Epoch 00022: val_mean_squared_error did not improve from 0.00186\n",
      "Epoch 23/30\n",
      "5037/5037 [==============================] - 13s 3ms/step - loss: 0.0033 - mean_squared_error: 0.0018 - val_loss: 0.0036 - val_mean_squared_error: 0.0021\n",
      "\n",
      "Epoch 00023: val_mean_squared_error did not improve from 0.00186\n",
      "Epoch 24/30\n",
      "5037/5037 [==============================] - 16s 3ms/step - loss: 0.0033 - mean_squared_error: 0.0017 - val_loss: 0.0035 - val_mean_squared_error: 0.0019\n",
      "\n",
      "Epoch 00024: val_mean_squared_error did not improve from 0.00186\n",
      "Epoch 25/30\n",
      "5037/5037 [==============================] - 14s 3ms/step - loss: 0.0032 - mean_squared_error: 0.0017 - val_loss: 0.0035 - val_mean_squared_error: 0.0020\n",
      "\n",
      "Epoch 00025: val_mean_squared_error did not improve from 0.00186\n",
      "Epoch 26/30\n",
      "5037/5037 [==============================] - 14s 3ms/step - loss: 0.0033 - mean_squared_error: 0.0018 - val_loss: 0.0035 - val_mean_squared_error: 0.0020\n",
      "\n",
      "Epoch 00026: val_mean_squared_error did not improve from 0.00186\n",
      "Epoch 27/30\n",
      "5037/5037 [==============================] - 15s 3ms/step - loss: 0.0033 - mean_squared_error: 0.0018 - val_loss: 0.0036 - val_mean_squared_error: 0.0021\n",
      "\n",
      "Epoch 00027: val_mean_squared_error did not improve from 0.00186\n",
      "Epoch 28/30\n",
      "5037/5037 [==============================] - 14s 3ms/step - loss: 0.0032 - mean_squared_error: 0.0017 - val_loss: 0.0033 - val_mean_squared_error: 0.0018\n",
      "\n",
      "Epoch 00028: val_mean_squared_error improved from 0.00186 to 0.00178, saving model to weight_3.hdf5\n",
      "Epoch 29/30\n",
      "5037/5037 [==============================] - 14s 3ms/step - loss: 0.0032 - mean_squared_error: 0.0017 - val_loss: 0.0034 - val_mean_squared_error: 0.0019\n",
      "\n",
      "Epoch 00029: val_mean_squared_error did not improve from 0.00178\n",
      "Epoch 30/30\n",
      "5037/5037 [==============================] - 16s 3ms/step - loss: 0.0032 - mean_squared_error: 0.0017 - val_loss: 0.0033 - val_mean_squared_error: 0.0018\n",
      "\n",
      "Epoch 00030: val_mean_squared_error did not improve from 0.00178\n"
     ]
    }
   ],
   "source": [
    "filepath=\"weight_3.hdf5\"\n",
    "checkpoint = ModelCheckpoint(filepath, \n",
    "                             monitor='val_mean_squared_error', \n",
    "                             verbose=1, \n",
    "                             save_best_only=True,\n",
    "                             mode='min')\n",
    "callbacks_list = [checkpoint]\n",
    "history = model.fit(X_train, X_train, \n",
    "                    epochs=30, \n",
    "                    batch_size=32, \n",
    "                    validation_split=0.25, \n",
    "                    callbacks=callbacks_list)"
   ]
  },
  {
   "cell_type": "code",
   "execution_count": 18,
   "metadata": {},
   "outputs": [
    {
     "data": {
      "image/png": "[encoded data removed]",
      "text/plain": [
       "<matplotlib.figure.Figure at 0x1859791198>"
      ]
     },
     "metadata": {},
     "output_type": "display_data"
    }
   ],
   "source": [
    "plt.plot(history.history['mean_squared_error'])\n",
    "plt.plot(history.history['val_mean_squared_error'])\n",
    "plt.title('MSE')\n",
    "plt.ylabel('MSE')\n",
    "plt.xlabel('epoch')\n",
    "plt.legend(['train', 'validation'], loc='upper left')\n",
    "plt.show()"
   ]
  },
  {
   "cell_type": "code",
   "execution_count": 19,
   "metadata": {},
   "outputs": [
    {
     "data": {
      "image/png": "[encoded data removed]",
      "text/plain": [
       "<matplotlib.figure.Figure at 0x185975f160>"
      ]
     },
     "metadata": {},
     "output_type": "display_data"
    }
   ],
   "source": [
    "plt.plot(history.history['loss'])\n",
    "plt.plot(history.history['val_loss'])\n",
    "plt.title('model loss')\n",
    "plt.ylabel('loss')\n",
    "plt.xlabel('epoch')\n",
    "plt.legend(['train', 'validation'], loc='upper left')\n",
    "plt.show()"
   ]
  },
  {
   "cell_type": "code",
   "execution_count": 20,
   "metadata": {},
   "outputs": [],
   "source": [
    "filepath=\"weight_3.hdf5\"\n",
    "model.load_weights(filepath)"
   ]
  },
  {
   "cell_type": "code",
   "execution_count": 21,
   "metadata": {},
   "outputs": [
    {
     "name": "stdout",
     "output_type": "stream",
     "text": [
      "_________________________________________________________________\n",
      "Layer (type)                 Output Shape              Param #   \n",
      "=================================================================\n",
      "input_1 (InputLayer)         (None, 1200, 2)           0         \n",
      "_________________________________________________________________\n",
      "activation_1 (Activation)    (None, 1200, 2)           0         \n",
      "_________________________________________________________________\n",
      "conv1d_1 (Conv1D)            (None, 1200, 16)          144       \n",
      "_________________________________________________________________\n",
      "max_pooling1d_1 (MaxPooling1 (None, 600, 16)           0         \n",
      "_________________________________________________________________\n",
      "activation_2 (Activation)    (None, 600, 16)           0         \n",
      "_________________________________________________________________\n",
      "conv1d_2 (Conv1D)            (None, 600, 32)           2080      \n",
      "_________________________________________________________________\n",
      "max_pooling1d_2 (MaxPooling1 (None, 300, 32)           0         \n",
      "_________________________________________________________________\n",
      "activation_3 (Activation)    (None, 300, 32)           0         \n",
      "_________________________________________________________________\n",
      "conv1d_3 (Conv1D)            (None, 300, 64)           8256      \n",
      "_________________________________________________________________\n",
      "max_pooling1d_3 (MaxPooling1 (None, 150, 64)           0         \n",
      "_________________________________________________________________\n",
      "activation_4 (Activation)    (None, 150, 64)           0         \n",
      "_________________________________________________________________\n",
      "conv1d_4 (Conv1D)            (None, 150, 64)           16448     \n",
      "_________________________________________________________________\n",
      "up_sampling1d_1 (UpSampling1 (None, 300, 64)           0         \n",
      "_________________________________________________________________\n",
      "activation_5 (Activation)    (None, 300, 64)           0         \n",
      "_________________________________________________________________\n",
      "conv1d_5 (Conv1D)            (None, 300, 32)           8224      \n",
      "_________________________________________________________________\n",
      "up_sampling1d_2 (UpSampling1 (None, 600, 32)           0         \n",
      "_________________________________________________________________\n",
      "activation_6 (Activation)    (None, 600, 32)           0         \n",
      "_________________________________________________________________\n",
      "conv1d_6 (Conv1D)            (None, 600, 16)           2064      \n",
      "_________________________________________________________________\n",
      "up_sampling1d_3 (UpSampling1 (None, 1200, 16)          0         \n",
      "_________________________________________________________________\n",
      "conv1d_7 (Conv1D)            (None, 1200, 2)           130       \n",
      "=================================================================\n",
      "Total params: 37,346\n",
      "Trainable params: 37,346\n",
      "Non-trainable params: 0\n",
      "_________________________________________________________________\n"
     ]
    }
   ],
   "source": [
    "model.summary()"
   ]
  },
  {
   "cell_type": "code",
   "execution_count": 22,
   "metadata": {},
   "outputs": [
    {
     "name": "stderr",
     "output_type": "stream",
     "text": [
      "/Users/xufanxiong/anaconda3/lib/python3.6/site-packages/ipykernel_launcher.py:32: UserWarning: Update your `Model` call to the Keras 2 API: `Model(inputs=Tensor(\"in..., outputs=Tensor(\"de...)`\n"
     ]
    }
   ],
   "source": [
    "layer_out = model.layers[10].output\n",
    "\n",
    "newlayer = Conv1D(32, 4, padding='same',\n",
    "                    kernel_initializer='glorot_uniform',\n",
    "                    kernel_regularizer=l2(1e-4))(layer_out)\n",
    "newlayer = UpSampling1D(2)(newlayer)\n",
    "\n",
    "newlayer = Conv1D(128, 4, padding='same',\n",
    "                    kernel_initializer='glorot_uniform',\n",
    "                    kernel_regularizer=l2(1e-4))(newlayer)\n",
    "newlayer = MaxPooling1D(pool_size=2)(newlayer)\n",
    "\n",
    "newlayer = Activation('relu')(newlayer)\n",
    "newlayer = Conv1D(64, 4, padding='same',\n",
    "                    kernel_initializer='glorot_uniform',\n",
    "                    kernel_regularizer=l2(1e-4))(newlayer)\n",
    "newlayer = MaxPooling1D(pool_size=2)(newlayer)\n",
    "\n",
    "newlayer = Activation('relu')(newlayer)\n",
    "newlayer = Conv1D(16, 4, padding='same',\n",
    "                    kernel_initializer='glorot_uniform',\n",
    "                    kernel_regularizer=l2(1e-4))(newlayer)\n",
    "#newlayer = GlobalAveragePooling1D()(newlayer)\n",
    "\n",
    "newlayer = Flatten()(newlayer)\n",
    "newlayer = Dense(64, activation='relu')(newlayer)\n",
    "newlayer = Dense(16, activation='relu')(newlayer)\n",
    "\n",
    "out = Dense(1, activation='sigmoid', \n",
    "               kernel_initializer='glorot_uniform')(newlayer)\n",
    "\n",
    "newmodel = Model(input=model.input, output=out)\n",
    "\n",
    "# Freeze the layers\n",
    "for layer in newmodel.layers[:10]:\n",
    "    layer.trainable = False\n"
   ]
  },
  {
   "cell_type": "code",
   "execution_count": 23,
   "metadata": {},
   "outputs": [
    {
     "name": "stdout",
     "output_type": "stream",
     "text": [
      "_________________________________________________________________\n",
      "Layer (type)                 Output Shape              Param #   \n",
      "=================================================================\n",
      "input_1 (InputLayer)         (None, 1200, 2)           0         \n",
      "_________________________________________________________________\n",
      "activation_1 (Activation)    (None, 1200, 2)           0         \n",
      "_________________________________________________________________\n",
      "conv1d_1 (Conv1D)            (None, 1200, 16)          144       \n",
      "_________________________________________________________________\n",
      "max_pooling1d_1 (MaxPooling1 (None, 600, 16)           0         \n",
      "_________________________________________________________________\n",
      "activation_2 (Activation)    (None, 600, 16)           0         \n",
      "_________________________________________________________________\n",
      "conv1d_2 (Conv1D)            (None, 600, 32)           2080      \n",
      "_________________________________________________________________\n",
      "max_pooling1d_2 (MaxPooling1 (None, 300, 32)           0         \n",
      "_________________________________________________________________\n",
      "activation_3 (Activation)    (None, 300, 32)           0         \n",
      "_________________________________________________________________\n",
      "conv1d_3 (Conv1D)            (None, 300, 64)           8256      \n",
      "_________________________________________________________________\n",
      "max_pooling1d_3 (MaxPooling1 (None, 150, 64)           0         \n",
      "_________________________________________________________________\n",
      "activation_4 (Activation)    (None, 150, 64)           0         \n",
      "_________________________________________________________________\n",
      "conv1d_8 (Conv1D)            (None, 150, 32)           8224      \n",
      "_________________________________________________________________\n",
      "up_sampling1d_4 (UpSampling1 (None, 300, 32)           0         \n",
      "_________________________________________________________________\n",
      "conv1d_9 (Conv1D)            (None, 300, 128)          16512     \n",
      "_________________________________________________________________\n",
      "max_pooling1d_4 (MaxPooling1 (None, 150, 128)          0         \n",
      "_________________________________________________________________\n",
      "activation_7 (Activation)    (None, 150, 128)          0         \n",
      "_________________________________________________________________\n",
      "conv1d_10 (Conv1D)           (None, 150, 64)           32832     \n",
      "_________________________________________________________________\n",
      "max_pooling1d_5 (MaxPooling1 (None, 75, 64)            0         \n",
      "_________________________________________________________________\n",
      "activation_8 (Activation)    (None, 75, 64)            0         \n",
      "_________________________________________________________________\n",
      "conv1d_11 (Conv1D)           (None, 75, 16)            4112      \n",
      "_________________________________________________________________\n",
      "flatten_1 (Flatten)          (None, 1200)              0         \n",
      "_________________________________________________________________\n",
      "dense_1 (Dense)              (None, 64)                76864     \n",
      "_________________________________________________________________\n",
      "dense_2 (Dense)              (None, 16)                1040      \n",
      "_________________________________________________________________\n",
      "dense_3 (Dense)              (None, 1)                 17        \n",
      "=================================================================\n",
      "Total params: 150,081\n",
      "Trainable params: 139,601\n",
      "Non-trainable params: 10,480\n",
      "_________________________________________________________________\n"
     ]
    }
   ],
   "source": [
    "newmodel.summary()"
   ]
  },
  {
   "cell_type": "code",
   "execution_count": 26,
   "metadata": {},
   "outputs": [],
   "source": [
    "newmodel.compile(loss= \"mse\", \n",
    "              optimizer=\"adam\", \n",
    "              metrics=[\"mse\"])"
   ]
  },
  {
   "cell_type": "code",
   "execution_count": 28,
   "metadata": {},
   "outputs": [
    {
     "name": "stdout",
     "output_type": "stream",
     "text": [
      "Train on 5037 samples, validate on 1679 samples\n",
      "Epoch 1/30\n",
      "5037/5037 [==============================] - 11s 2ms/step - loss: 0.0065 - mean_squared_error: 0.0037 - val_loss: 0.0090 - val_mean_squared_error: 0.0062\n",
      "\n",
      "Epoch 00001: val_loss improved from inf to 0.00897, saving model to weight_3_3.hdf5\n",
      "Epoch 2/30\n",
      "5037/5037 [==============================] - 11s 2ms/step - loss: 0.0065 - mean_squared_error: 0.0038 - val_loss: 0.0076 - val_mean_squared_error: 0.0050\n",
      "\n",
      "Epoch 00002: val_loss improved from 0.00897 to 0.00765, saving model to weight_3_3.hdf5\n",
      "Epoch 3/30\n",
      "5037/5037 [==============================] - 11s 2ms/step - loss: 0.0060 - mean_squared_error: 0.0035 - val_loss: 0.0102 - val_mean_squared_error: 0.0077\n",
      "\n",
      "Epoch 00003: val_loss did not improve from 0.00765\n",
      "Epoch 4/30\n",
      "5037/5037 [==============================] - 11s 2ms/step - loss: 0.0063 - mean_squared_error: 0.0038 - val_loss: 0.0077 - val_mean_squared_error: 0.0054\n",
      "\n",
      "Epoch 00004: val_loss did not improve from 0.00765\n",
      "Epoch 5/30\n",
      "5037/5037 [==============================] - 11s 2ms/step - loss: 0.0057 - mean_squared_error: 0.0034 - val_loss: 0.0080 - val_mean_squared_error: 0.0057\n",
      "\n",
      "Epoch 00005: val_loss did not improve from 0.00765\n",
      "Epoch 6/30\n",
      "5037/5037 [==============================] - 11s 2ms/step - loss: 0.0056 - mean_squared_error: 0.0032 - val_loss: 0.0094 - val_mean_squared_error: 0.0071\n",
      "\n",
      "Epoch 00006: val_loss did not improve from 0.00765\n",
      "Epoch 7/30\n",
      "5037/5037 [==============================] - 11s 2ms/step - loss: 0.0056 - mean_squared_error: 0.0034 - val_loss: 0.0087 - val_mean_squared_error: 0.0065\n",
      "\n",
      "Epoch 00007: val_loss did not improve from 0.00765\n",
      "Epoch 8/30\n",
      "5037/5037 [==============================] - 11s 2ms/step - loss: 0.0056 - mean_squared_error: 0.0034 - val_loss: 0.0088 - val_mean_squared_error: 0.0066\n",
      "\n",
      "Epoch 00008: val_loss did not improve from 0.00765\n",
      "Epoch 9/30\n",
      "5037/5037 [==============================] - 11s 2ms/step - loss: 0.0052 - mean_squared_error: 0.0030 - val_loss: 0.0080 - val_mean_squared_error: 0.0058\n",
      "\n",
      "Epoch 00009: val_loss did not improve from 0.00765\n",
      "Epoch 10/30\n",
      "5037/5037 [==============================] - 11s 2ms/step - loss: 0.0052 - mean_squared_error: 0.0030 - val_loss: 0.0127 - val_mean_squared_error: 0.0106\n",
      "\n",
      "Epoch 00010: val_loss did not improve from 0.00765\n",
      "Epoch 11/30\n",
      "5037/5037 [==============================] - 11s 2ms/step - loss: 0.0051 - mean_squared_error: 0.0029 - val_loss: 0.0087 - val_mean_squared_error: 0.0065\n",
      "\n",
      "Epoch 00011: val_loss did not improve from 0.00765\n",
      "Epoch 12/30\n",
      "5037/5037 [==============================] - 12s 2ms/step - loss: 0.0052 - mean_squared_error: 0.0031 - val_loss: 0.0144 - val_mean_squared_error: 0.0123\n",
      "\n",
      "Epoch 00012: val_loss did not improve from 0.00765\n",
      "Epoch 13/30\n",
      "5037/5037 [==============================] - 11s 2ms/step - loss: 0.0049 - mean_squared_error: 0.0028 - val_loss: 0.0089 - val_mean_squared_error: 0.0068\n",
      "\n",
      "Epoch 00013: val_loss did not improve from 0.00765\n",
      "Epoch 14/30\n",
      "5037/5037 [==============================] - 11s 2ms/step - loss: 0.0050 - mean_squared_error: 0.0029 - val_loss: 0.0085 - val_mean_squared_error: 0.0064\n",
      "\n",
      "Epoch 00014: val_loss did not improve from 0.00765\n",
      "Epoch 15/30\n",
      "5037/5037 [==============================] - 11s 2ms/step - loss: 0.0049 - mean_squared_error: 0.0028 - val_loss: 0.0087 - val_mean_squared_error: 0.0066\n",
      "\n",
      "Epoch 00015: val_loss did not improve from 0.00765\n",
      "Epoch 16/30\n",
      "5037/5037 [==============================] - 11s 2ms/step - loss: 0.0046 - mean_squared_error: 0.0025 - val_loss: 0.0141 - val_mean_squared_error: 0.0120\n",
      "\n",
      "Epoch 00016: val_loss did not improve from 0.00765\n",
      "Epoch 17/30\n",
      "5037/5037 [==============================] - 11s 2ms/step - loss: 0.0045 - mean_squared_error: 0.0025 - val_loss: 0.0090 - val_mean_squared_error: 0.0070\n",
      "\n",
      "Epoch 00017: val_loss did not improve from 0.00765\n",
      "Epoch 18/30\n",
      "5037/5037 [==============================] - 11s 2ms/step - loss: 0.0045 - mean_squared_error: 0.0025 - val_loss: 0.0079 - val_mean_squared_error: 0.0059\n",
      "\n",
      "Epoch 00018: val_loss did not improve from 0.00765\n",
      "Epoch 19/30\n",
      "5037/5037 [==============================] - 11s 2ms/step - loss: 0.0045 - mean_squared_error: 0.0025 - val_loss: 0.0094 - val_mean_squared_error: 0.0074\n",
      "\n",
      "Epoch 00019: val_loss did not improve from 0.00765\n",
      "Epoch 20/30\n",
      "5037/5037 [==============================] - 11s 2ms/step - loss: 0.0045 - mean_squared_error: 0.0025 - val_loss: 0.0109 - val_mean_squared_error: 0.0088\n",
      "\n",
      "Epoch 00020: val_loss did not improve from 0.00765\n",
      "Epoch 21/30\n",
      "5037/5037 [==============================] - 11s 2ms/step - loss: 0.0045 - mean_squared_error: 0.0024 - val_loss: 0.0187 - val_mean_squared_error: 0.0166\n",
      "\n",
      "Epoch 00021: val_loss did not improve from 0.00765\n",
      "Epoch 22/30\n",
      "5037/5037 [==============================] - 12s 2ms/step - loss: 0.0044 - mean_squared_error: 0.0023 - val_loss: 0.0135 - val_mean_squared_error: 0.0114\n",
      "\n",
      "Epoch 00022: val_loss did not improve from 0.00765\n",
      "Epoch 23/30\n",
      "5037/5037 [==============================] - 13s 2ms/step - loss: 0.0039 - mean_squared_error: 0.0019 - val_loss: 0.0115 - val_mean_squared_error: 0.0095\n",
      "\n",
      "Epoch 00023: val_loss did not improve from 0.00765\n",
      "Epoch 24/30\n",
      "5037/5037 [==============================] - 12s 2ms/step - loss: 0.0037 - mean_squared_error: 0.0017 - val_loss: 0.0095 - val_mean_squared_error: 0.0076\n",
      "\n",
      "Epoch 00024: val_loss did not improve from 0.00765\n",
      "Epoch 25/30\n",
      "5037/5037 [==============================] - 13s 2ms/step - loss: 0.0039 - mean_squared_error: 0.0019 - val_loss: 0.0151 - val_mean_squared_error: 0.0131\n",
      "\n",
      "Epoch 00025: val_loss did not improve from 0.00765\n",
      "Epoch 26/30\n",
      "5037/5037 [==============================] - 13s 3ms/step - loss: 0.0037 - mean_squared_error: 0.0018 - val_loss: 0.0122 - val_mean_squared_error: 0.0103\n",
      "\n",
      "Epoch 00026: val_loss did not improve from 0.00765\n",
      "Epoch 27/30\n",
      "5024/5037 [============================>.] - ETA: 0s - loss: 0.0035 - mean_squared_error: 0.0016"
     ]
    },
    {
     "ename": "KeyboardInterrupt",
     "evalue": "",
     "output_type": "error",
     "traceback": [
      "\u001b[0;31m---------------------------------------------------------------------------\u001b[0m",
      "\u001b[0;31mKeyboardInterrupt\u001b[0m                         Traceback (most recent call last)",
      "\u001b[0;32m<ipython-input-28-14a3879fccc6>\u001b[0m in \u001b[0;36m<module>\u001b[0;34m()\u001b[0m\n\u001b[1;32m     10\u001b[0m                     \u001b[0mbatch_size\u001b[0m\u001b[0;34m=\u001b[0m\u001b[0;36m32\u001b[0m\u001b[0;34m,\u001b[0m\u001b[0;34m\u001b[0m\u001b[0m\n\u001b[1;32m     11\u001b[0m                     \u001b[0mvalidation_split\u001b[0m\u001b[0;34m=\u001b[0m\u001b[0;36m0.25\u001b[0m\u001b[0;34m,\u001b[0m\u001b[0;34m\u001b[0m\u001b[0m\n\u001b[0;32m---> 12\u001b[0;31m                     callbacks=callbacks_list)\n\u001b[0m",
      "\u001b[0;32m~/anaconda3/lib/python3.6/site-packages/keras/engine/training.py\u001b[0m in \u001b[0;36mfit\u001b[0;34m(self, x, y, batch_size, epochs, verbose, callbacks, validation_split, validation_data, shuffle, class_weight, sample_weight, initial_epoch, steps_per_epoch, validation_steps, **kwargs)\u001b[0m\n\u001b[1;32m   1040\u001b[0m                                         \u001b[0minitial_epoch\u001b[0m\u001b[0;34m=\u001b[0m\u001b[0minitial_epoch\u001b[0m\u001b[0;34m,\u001b[0m\u001b[0;34m\u001b[0m\u001b[0m\n\u001b[1;32m   1041\u001b[0m                                         \u001b[0msteps_per_epoch\u001b[0m\u001b[0;34m=\u001b[0m\u001b[0msteps_per_epoch\u001b[0m\u001b[0;34m,\u001b[0m\u001b[0;34m\u001b[0m\u001b[0m\n\u001b[0;32m-> 1042\u001b[0;31m                                         validation_steps=validation_steps)\n\u001b[0m\u001b[1;32m   1043\u001b[0m \u001b[0;34m\u001b[0m\u001b[0m\n\u001b[1;32m   1044\u001b[0m     def evaluate(self, x=None, y=None,\n",
      "\u001b[0;32m~/anaconda3/lib/python3.6/site-packages/keras/engine/training_arrays.py\u001b[0m in \u001b[0;36mfit_loop\u001b[0;34m(model, f, ins, out_labels, batch_size, epochs, verbose, callbacks, val_f, val_ins, shuffle, callback_metrics, initial_epoch, steps_per_epoch, validation_steps)\u001b[0m\n\u001b[1;32m    211\u001b[0m                         val_outs = test_loop(model, val_f, val_ins,\n\u001b[1;32m    212\u001b[0m                                              \u001b[0mbatch_size\u001b[0m\u001b[0;34m=\u001b[0m\u001b[0mbatch_size\u001b[0m\u001b[0;34m,\u001b[0m\u001b[0;34m\u001b[0m\u001b[0m\n\u001b[0;32m--> 213\u001b[0;31m                                              verbose=0)\n\u001b[0m\u001b[1;32m    214\u001b[0m                         \u001b[0;32mif\u001b[0m \u001b[0;32mnot\u001b[0m \u001b[0misinstance\u001b[0m\u001b[0;34m(\u001b[0m\u001b[0mval_outs\u001b[0m\u001b[0;34m,\u001b[0m \u001b[0mlist\u001b[0m\u001b[0;34m)\u001b[0m\u001b[0;34m:\u001b[0m\u001b[0;34m\u001b[0m\u001b[0m\n\u001b[1;32m    215\u001b[0m                             \u001b[0mval_outs\u001b[0m \u001b[0;34m=\u001b[0m \u001b[0;34m[\u001b[0m\u001b[0mval_outs\u001b[0m\u001b[0;34m]\u001b[0m\u001b[0;34m\u001b[0m\u001b[0m\n",
      "\u001b[0;32m~/anaconda3/lib/python3.6/site-packages/keras/engine/training_arrays.py\u001b[0m in \u001b[0;36mtest_loop\u001b[0;34m(model, f, ins, batch_size, verbose, steps)\u001b[0m\n\u001b[1;32m    396\u001b[0m                 \u001b[0mins_batch\u001b[0m\u001b[0;34m[\u001b[0m\u001b[0mi\u001b[0m\u001b[0;34m]\u001b[0m \u001b[0;34m=\u001b[0m \u001b[0mins_batch\u001b[0m\u001b[0;34m[\u001b[0m\u001b[0mi\u001b[0m\u001b[0;34m]\u001b[0m\u001b[0;34m.\u001b[0m\u001b[0mtoarray\u001b[0m\u001b[0;34m(\u001b[0m\u001b[0;34m)\u001b[0m\u001b[0;34m\u001b[0m\u001b[0m\n\u001b[1;32m    397\u001b[0m \u001b[0;34m\u001b[0m\u001b[0m\n\u001b[0;32m--> 398\u001b[0;31m             \u001b[0mbatch_outs\u001b[0m \u001b[0;34m=\u001b[0m \u001b[0mf\u001b[0m\u001b[0;34m(\u001b[0m\u001b[0mins_batch\u001b[0m\u001b[0;34m)\u001b[0m\u001b[0;34m\u001b[0m\u001b[0m\n\u001b[0m\u001b[1;32m    399\u001b[0m             \u001b[0;32mif\u001b[0m \u001b[0misinstance\u001b[0m\u001b[0;34m(\u001b[0m\u001b[0mbatch_outs\u001b[0m\u001b[0;34m,\u001b[0m \u001b[0mlist\u001b[0m\u001b[0;34m)\u001b[0m\u001b[0;34m:\u001b[0m\u001b[0;34m\u001b[0m\u001b[0m\n\u001b[1;32m    400\u001b[0m                 \u001b[0;32mif\u001b[0m \u001b[0mbatch_index\u001b[0m \u001b[0;34m==\u001b[0m \u001b[0;36m0\u001b[0m\u001b[0;34m:\u001b[0m\u001b[0;34m\u001b[0m\u001b[0m\n",
      "\u001b[0;32m~/anaconda3/lib/python3.6/site-packages/keras/backend/tensorflow_backend.py\u001b[0m in \u001b[0;36m__call__\u001b[0;34m(self, inputs)\u001b[0m\n\u001b[1;32m   2659\u001b[0m                 \u001b[0;32mreturn\u001b[0m \u001b[0mself\u001b[0m\u001b[0;34m.\u001b[0m\u001b[0m_legacy_call\u001b[0m\u001b[0;34m(\u001b[0m\u001b[0minputs\u001b[0m\u001b[0;34m)\u001b[0m\u001b[0;34m\u001b[0m\u001b[0m\n\u001b[1;32m   2660\u001b[0m \u001b[0;34m\u001b[0m\u001b[0m\n\u001b[0;32m-> 2661\u001b[0;31m             \u001b[0;32mreturn\u001b[0m \u001b[0mself\u001b[0m\u001b[0;34m.\u001b[0m\u001b[0m_call\u001b[0m\u001b[0;34m(\u001b[0m\u001b[0minputs\u001b[0m\u001b[0;34m)\u001b[0m\u001b[0;34m\u001b[0m\u001b[0m\n\u001b[0m\u001b[1;32m   2662\u001b[0m         \u001b[0;32melse\u001b[0m\u001b[0;34m:\u001b[0m\u001b[0;34m\u001b[0m\u001b[0m\n\u001b[1;32m   2663\u001b[0m             \u001b[0;32mif\u001b[0m \u001b[0mpy_any\u001b[0m\u001b[0;34m(\u001b[0m\u001b[0mis_tensor\u001b[0m\u001b[0;34m(\u001b[0m\u001b[0mx\u001b[0m\u001b[0;34m)\u001b[0m \u001b[0;32mfor\u001b[0m \u001b[0mx\u001b[0m \u001b[0;32min\u001b[0m \u001b[0minputs\u001b[0m\u001b[0;34m)\u001b[0m\u001b[0;34m:\u001b[0m\u001b[0;34m\u001b[0m\u001b[0m\n",
      "\u001b[0;32m~/anaconda3/lib/python3.6/site-packages/keras/backend/tensorflow_backend.py\u001b[0m in \u001b[0;36m_call\u001b[0;34m(self, inputs)\u001b[0m\n\u001b[1;32m   2629\u001b[0m                                 \u001b[0msymbol_vals\u001b[0m\u001b[0;34m,\u001b[0m\u001b[0;34m\u001b[0m\u001b[0m\n\u001b[1;32m   2630\u001b[0m                                 session)\n\u001b[0;32m-> 2631\u001b[0;31m         \u001b[0mfetched\u001b[0m \u001b[0;34m=\u001b[0m \u001b[0mself\u001b[0m\u001b[0;34m.\u001b[0m\u001b[0m_callable_fn\u001b[0m\u001b[0;34m(\u001b[0m\u001b[0;34m*\u001b[0m\u001b[0marray_vals\u001b[0m\u001b[0;34m)\u001b[0m\u001b[0;34m\u001b[0m\u001b[0m\n\u001b[0m\u001b[1;32m   2632\u001b[0m         \u001b[0;32mreturn\u001b[0m \u001b[0mfetched\u001b[0m\u001b[0;34m[\u001b[0m\u001b[0;34m:\u001b[0m\u001b[0mlen\u001b[0m\u001b[0;34m(\u001b[0m\u001b[0mself\u001b[0m\u001b[0;34m.\u001b[0m\u001b[0moutputs\u001b[0m\u001b[0;34m)\u001b[0m\u001b[0;34m]\u001b[0m\u001b[0;34m\u001b[0m\u001b[0m\n\u001b[1;32m   2633\u001b[0m \u001b[0;34m\u001b[0m\u001b[0m\n",
      "\u001b[0;32m~/anaconda3/lib/python3.6/site-packages/tensorflow/python/client/session.py\u001b[0m in \u001b[0;36m__call__\u001b[0;34m(self, *args)\u001b[0m\n\u001b[1;32m   1449\u001b[0m         \u001b[0;32mif\u001b[0m \u001b[0mself\u001b[0m\u001b[0;34m.\u001b[0m\u001b[0m_session\u001b[0m\u001b[0;34m.\u001b[0m\u001b[0m_created_with_new_api\u001b[0m\u001b[0;34m:\u001b[0m\u001b[0;34m\u001b[0m\u001b[0m\n\u001b[1;32m   1450\u001b[0m           return tf_session.TF_SessionRunCallable(\n\u001b[0;32m-> 1451\u001b[0;31m               self._session._session, self._handle, args, status, None)\n\u001b[0m\u001b[1;32m   1452\u001b[0m         \u001b[0;32melse\u001b[0m\u001b[0;34m:\u001b[0m\u001b[0;34m\u001b[0m\u001b[0m\n\u001b[1;32m   1453\u001b[0m           return tf_session.TF_DeprecatedSessionRunCallable(\n",
      "\u001b[0;31mKeyboardInterrupt\u001b[0m: "
     ]
    }
   ],
   "source": [
    "filepath=\"weight_3_3.hdf5\"\n",
    "checkpoint = ModelCheckpoint(filepath, \n",
    "                             monitor='val_loss', \n",
    "                             verbose=1, \n",
    "                             save_best_only=True,\n",
    "                             mode='min')\n",
    "callbacks_list = [checkpoint]\n",
    "history = newmodel.fit(X_train, Y_train, \n",
    "                    epochs=30, \n",
    "                    batch_size=32, \n",
    "                    validation_split=0.25, \n",
    "                    callbacks=callbacks_list)"
   ]
  },
  {
   "cell_type": "code",
   "execution_count": null,
   "metadata": {},
   "outputs": [],
   "source": [
    "plt.plot(history.history['mean_squared_error'])\n",
    "plt.plot(history.history['val_mean_squared_error'])\n",
    "plt.title('MSE')\n",
    "plt.ylabel('MSE')\n",
    "plt.xlabel('epoch')\n",
    "plt.legend(['train', 'validation'], loc='upper left')\n",
    "plt.show()"
   ]
  },
  {
   "cell_type": "code",
   "execution_count": 33,
   "metadata": {},
   "outputs": [
    {
     "data": {
      "image/png": "[encoded data removed]",
      "text/plain": [
       "<matplotlib.figure.Figure at 0x18524fd588>"
      ]
     },
     "metadata": {},
     "output_type": "display_data"
    }
   ],
   "source": [
    "plt.plot(history.history['loss'])\n",
    "plt.plot(history.history['val_loss'])\n",
    "plt.title('model loss')\n",
    "plt.ylabel('loss')\n",
    "plt.xlabel('epoch')\n",
    "plt.legend(['train', 'validation'], loc='upper left')\n",
    "plt.show()"
   ]
  },
  {
   "cell_type": "code",
   "execution_count": null,
   "metadata": {},
   "outputs": [],
   "source": []
  }
 ],
 "metadata": {
  "kernelspec": {
   "display_name": "Python 3",
   "language": "python",
   "name": "python3"
  },
  "language_info": {
   "codemirror_mode": {
    "name": "ipython",
    "version": 3
   },
   "file_extension": ".py",
   "mimetype": "text/x-python",
   "name": "python",
   "nbconvert_exporter": "python",
   "pygments_lexer": "ipython3",
   "version": "3.6.4"
  }
 },
 "nbformat": 4,
 "nbformat_minor": 2
}
